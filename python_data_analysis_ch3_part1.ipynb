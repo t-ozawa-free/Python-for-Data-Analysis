{
 "cells": [
  {
   "cell_type": "markdown",
   "id": "b9987b2a",
   "metadata": {},
   "source": [
    "# Pythonによるデータ分析：第3章 演習問題（前半6テーマ）"
   ]
  },
  {
   "cell_type": "markdown",
   "id": "5cf592d4",
   "metadata": {},
   "source": [
    "## 1. タプル"
   ]
  },
  {
   "cell_type": "code",
   "execution_count": 77,
   "id": "78e8074c",
   "metadata": {},
   "outputs": [
    {
     "name": "stdout",
     "output_type": "stream",
     "text": [
      "0\n"
     ]
    }
   ],
   "source": [
    "# 問1: 空のタプルを作成してください。\n",
    "tup = ()\n",
    "print(len(tup))"
   ]
  },
  {
   "cell_type": "code",
   "execution_count": 78,
   "id": "2995fc40",
   "metadata": {},
   "outputs": [
    {
     "name": "stdout",
     "output_type": "stream",
     "text": [
      "(1, 2, 3)\n"
     ]
    }
   ],
   "source": [
    "# 問2: 整数1, 2, 3を要素にもつタプルを作成してください。\n",
    "tup_num = (1, 2, 3)\n",
    "print(tup_num)"
   ]
  },
  {
   "cell_type": "code",
   "execution_count": 79,
   "id": "cda8b6d1",
   "metadata": {},
   "outputs": [
    {
     "name": "stdout",
     "output_type": "stream",
     "text": [
      "5\n"
     ]
    }
   ],
   "source": [
    "# 問3: タプルの要素にアクセスして、2番目の要素を出力してください。\n",
    "tup_num2 = (4,5,6)\n",
    "print(tup_num2[1])"
   ]
  },
  {
   "cell_type": "code",
   "execution_count": 80,
   "id": "f29f3cb5",
   "metadata": {},
   "outputs": [
    {
     "name": "stdout",
     "output_type": "stream",
     "text": [
      "a= 7 b= 8 c= 9\n"
     ]
    }
   ],
   "source": [
    "# 問4: タプルを使って複数の変数に一度に代入してください。\n",
    "tup_num3 = (7,8,9)\n",
    "a,b,c = tup_num3\n",
    "print(\"a=\",a,\"b=\",b,\"c=\",c)"
   ]
  },
  {
   "cell_type": "code",
   "execution_count": 81,
   "id": "af429033",
   "metadata": {},
   "outputs": [
    {
     "name": "stdout",
     "output_type": "stream",
     "text": [
      "[1, 2, 3, 4, 5]\n",
      "(1, 2, 3, 4, 5)\n",
      "[1, 2, 3, 10, 5]\n",
      "(1, 2, 3, 4, 5)\n"
     ]
    }
   ],
   "source": [
    "# 問5: タプルとリストの違いをコードで示してください。\n",
    "test_list = [1,2,3,4,5] #リストは[]で囲む\n",
    "test_tuple = (1,2,3,4,5) #タプルは()で囲む\n",
    "\n",
    "print(test_list)\n",
    "print(test_tuple)\n",
    "\n",
    "test_list[3] = 10\n",
    "print(test_list)\n",
    "#test_tuple[3] = 10 ⇒差し替えられない。これがリストとの違い。エラーになってしまうのでコメントアウト\n",
    "print(test_tuple)"
   ]
  },
  {
   "cell_type": "code",
   "execution_count": 82,
   "id": "3139ee1d",
   "metadata": {},
   "outputs": [
    {
     "name": "stdout",
     "output_type": "stream",
     "text": [
      "(7, 8, 9)\n",
      "3\n"
     ]
    }
   ],
   "source": [
    "# 問6: ネストされたタプルを作成して、特定の要素にアクセスしてください。\n",
    "tup_num4 = ((1,2,3),(4,5,6),(7,8,9))\n",
    "print(tup_num4[2])\n",
    "print(tup_num4[0][2])"
   ]
  },
  {
   "cell_type": "code",
   "execution_count": 83,
   "id": "3344f70e",
   "metadata": {},
   "outputs": [
    {
     "name": "stdout",
     "output_type": "stream",
     "text": [
      "[4, 5, 6]\n"
     ]
    }
   ],
   "source": [
    "# 問7: タプルをリストに変換してください。\n",
    "test_list2 = list(tup_num2)\n",
    "print(test_list2)"
   ]
  },
  {
   "cell_type": "code",
   "execution_count": 84,
   "id": "973d1e70",
   "metadata": {},
   "outputs": [
    {
     "name": "stdout",
     "output_type": "stream",
     "text": [
      "(1, 2, 3, 10, 5)\n"
     ]
    }
   ],
   "source": [
    "# 問8: リストをタプルに変換してください。\n",
    "test_tuple2 = tuple(test_list)\n",
    "print(test_tuple2)"
   ]
  },
  {
   "cell_type": "code",
   "execution_count": 85,
   "id": "9f912958",
   "metadata": {},
   "outputs": [
    {
     "name": "stdout",
     "output_type": "stream",
     "text": [
      "1\n",
      "2\n",
      "3\n",
      "4\n",
      "5\n",
      "6\n",
      "7\n",
      "8\n",
      "9\n",
      "10\n"
     ]
    }
   ],
   "source": [
    "# 問9: for文でタプルの中身を1つずつ出力してください。\n",
    "tup_num5 = (1,2,3,4,5,6,7,8,9,10)\n",
    "for i in tup_num5:\n",
    "    print(i)"
   ]
  },
  {
   "cell_type": "code",
   "execution_count": 86,
   "id": "3845c493",
   "metadata": {},
   "outputs": [
    {
     "name": "stdout",
     "output_type": "stream",
     "text": [
      "年齢\n"
     ]
    }
   ],
   "source": [
    "# 問10: タプルを使った辞書のキーを作ってください。\n",
    "#tup_dict = {(\"名前\":\"小澤\"),(\"年齢\":42)}\n",
    "dict = {\"名前\":\"小澤\", \"年齢\":42}\n",
    "tup_dict = tuple(dict)\n",
    "print(tup_dict[1])"
   ]
  },
  {
   "cell_type": "markdown",
   "id": "81a7355c",
   "metadata": {},
   "source": [
    "## 2. リスト"
   ]
  },
  {
   "cell_type": "code",
   "execution_count": 87,
   "id": "61a213cf",
   "metadata": {},
   "outputs": [
    {
     "name": "stdout",
     "output_type": "stream",
     "text": [
      "[]\n"
     ]
    }
   ],
   "source": [
    "# 問1: 空のリストを作成してください。\n",
    "list_num1 = []\n",
    "print(list_num1)"
   ]
  },
  {
   "cell_type": "code",
   "execution_count": 88,
   "id": "9045808c",
   "metadata": {},
   "outputs": [
    {
     "name": "stdout",
     "output_type": "stream",
     "text": [
      "[1, 2, 3]\n",
      "[1, 2, 3, 4]\n"
     ]
    }
   ],
   "source": [
    "# 問2: [1, 2, 3] のリストの末尾に 4 を追加してください。\n",
    "list_num2 = [1,2,3]\n",
    "print(list_num2)\n",
    "list_num2.append(4)\n",
    "print(list_num2)\n"
   ]
  },
  {
   "cell_type": "code",
   "execution_count": 89,
   "id": "ba763e33",
   "metadata": {},
   "outputs": [
    {
     "name": "stdout",
     "output_type": "stream",
     "text": [
      "['b', 'c', 'd']\n",
      "['a', 'c', 'd']\n"
     ]
    }
   ],
   "source": [
    "# 問3: リストの最初の要素を 'a' に書き換えてください。\n",
    "list_num3 = [\"b\",\"c\",\"d\"]\n",
    "print(list_num3)\n",
    "list_num3[0] = \"a\"\n",
    "print(list_num3)"
   ]
  },
  {
   "cell_type": "code",
   "execution_count": 90,
   "id": "4502921f",
   "metadata": {},
   "outputs": [
    {
     "name": "stdout",
     "output_type": "stream",
     "text": [
      "3\n"
     ]
    }
   ],
   "source": [
    "# 問4: リストの長さを求めてください。\n",
    "print(len(list_num3))"
   ]
  },
  {
   "cell_type": "code",
   "execution_count": 91,
   "id": "ce1dbcc1",
   "metadata": {},
   "outputs": [
    {
     "name": "stdout",
     "output_type": "stream",
     "text": [
      "[6, 5, 4, 3, 2, 1]\n",
      "[1, 2, 3, 4, 5, 6]\n"
     ]
    }
   ],
   "source": [
    "# 問5: リストを昇順にソートしてください。\n",
    "list_num4 = [6,5,4,3,2,1]\n",
    "print(list_num4)\n",
    "list_num4.sort()\n",
    "print(list_num4)\n"
   ]
  },
  {
   "cell_type": "code",
   "execution_count": 92,
   "id": "be396c6b",
   "metadata": {},
   "outputs": [
    {
     "name": "stdout",
     "output_type": "stream",
     "text": [
      "[1, 2, 3, 4, 5, 6]\n",
      "[1, 2, 4, 5, 6]\n"
     ]
    }
   ],
   "source": [
    "# 問6: リストの3番目の要素を削除してください。\n",
    "print(list_num4)\n",
    "list_num4.pop(2)\n",
    "print(list_num4)"
   ]
  },
  {
   "cell_type": "code",
   "execution_count": 93,
   "id": "d65f648e",
   "metadata": {},
   "outputs": [
    {
     "name": "stdout",
     "output_type": "stream",
     "text": [
      "[1, 2, 3, 4, 5, 6, 7, 8, 9]\n",
      "[2, 3, 4, 5, 6, 7, 8, 9, 10]\n"
     ]
    }
   ],
   "source": [
    "# 問7: リストのすべての要素に1を足した新しいリストを作成してください。\n",
    "list_num5 = [1,2,3,4,5,6,7,8,9]\n",
    "print(list_num5)\n",
    "for i in range(len(list_num5)):\n",
    "    list_num5[i] = list_num5[i] + 1\n",
    "\n",
    "print(list_num5)"
   ]
  },
  {
   "cell_type": "code",
   "execution_count": 94,
   "id": "cb6eb0de",
   "metadata": {},
   "outputs": [
    {
     "name": "stdout",
     "output_type": "stream",
     "text": [
      "10\n",
      "9\n",
      "8\n",
      "7\n",
      "6\n",
      "5\n",
      "4\n",
      "3\n",
      "2\n",
      "1\n"
     ]
    }
   ],
   "source": [
    "# 問8: for文でリストを逆順に出力してください。\n",
    "list_num6 = [1,2,3,4,5,6,7,8,9,10]\n",
    "\n",
    "for i in reversed(list_num6):\n",
    "    print(i)"
   ]
  },
  {
   "cell_type": "code",
   "execution_count": 95,
   "id": "89046d2b",
   "metadata": {},
   "outputs": [],
   "source": [
    "# 問9: 2次元リスト（リストのリスト）を作成してください。\n",
    "list2_num1 = [[1,2,3],[4,5,6],[7,8,9]]"
   ]
  },
  {
   "cell_type": "code",
   "execution_count": 96,
   "id": "4eb89a00",
   "metadata": {},
   "outputs": [
    {
     "name": "stdout",
     "output_type": "stream",
     "text": [
      "[2, 4, 6, 8, 10, 12, 14, 16, 18, 20]\n"
     ]
    }
   ],
   "source": [
    "# 問10: リストの要素に対して条件でフィルタした新しいリストを作ってください。\n",
    "list_num7 = [1,2,3,4,5,6,7,8,9,10,11,12,13,14,15,16,17,18,19,20]\n",
    "list_num8 = [x for x in list_num7 if x%2==0] #フィルター的なものは初めてなのでこれであっているか心配。filterメソッドを使わなくてよいのか？\n",
    "print(list_num8)"
   ]
  },
  {
   "cell_type": "markdown",
   "id": "e44e69f3",
   "metadata": {},
   "source": [
    "## 3. ディクショナリ"
   ]
  },
  {
   "cell_type": "code",
   "execution_count": 97,
   "id": "f5f87b92",
   "metadata": {},
   "outputs": [
    {
     "name": "stdout",
     "output_type": "stream",
     "text": [
      "{}\n"
     ]
    }
   ],
   "source": [
    "# 問1: 空の辞書を作成してください。\n",
    "dict_test = {}  \n",
    "\n",
    "print(dict_test)"
   ]
  },
  {
   "cell_type": "code",
   "execution_count": 98,
   "id": "40a52ddf",
   "metadata": {},
   "outputs": [
    {
     "name": "stdout",
     "output_type": "stream",
     "text": [
      "{'name': 'Alice'}\n"
     ]
    }
   ],
   "source": [
    "# 問2: キーが 'name'、値が 'Alice' の辞書を作ってください。\n",
    "dict_test = {\"name\":\"Alice\"}\n",
    "print(dict_test)"
   ]
  },
  {
   "cell_type": "code",
   "execution_count": 99,
   "id": "c2877316",
   "metadata": {},
   "outputs": [
    {
     "name": "stdout",
     "output_type": "stream",
     "text": [
      "{'name': 'Alice', 'age': 30}\n"
     ]
    }
   ],
   "source": [
    "# 問3: 辞書に新しいキー 'age': 30 を追加してください。\n",
    "dict_test[\"age\"] = 30\n",
    "print(dict_test)"
   ]
  },
  {
   "cell_type": "code",
   "execution_count": 100,
   "id": "23958c1d",
   "metadata": {},
   "outputs": [
    {
     "name": "stdout",
     "output_type": "stream",
     "text": [
      "Alice\n"
     ]
    }
   ],
   "source": [
    "# 問4: 辞書の 'name' の値を出力してください。\n",
    "print(dict_test[\"name\"])"
   ]
  },
  {
   "cell_type": "code",
   "execution_count": 101,
   "id": "86feb2c2",
   "metadata": {},
   "outputs": [
    {
     "name": "stdout",
     "output_type": "stream",
     "text": [
      "False\n",
      "True\n"
     ]
    }
   ],
   "source": [
    "# 問5: キーが存在するかどうかを調べてください。\n",
    "print(\"名前\" in dict_test)\n",
    "print(\"name\" in dict_test)"
   ]
  },
  {
   "cell_type": "code",
   "execution_count": 102,
   "id": "73bed064",
   "metadata": {},
   "outputs": [
    {
     "name": "stdout",
     "output_type": "stream",
     "text": [
      "('name', 'Alice')\n",
      "('age', 30)\n"
     ]
    }
   ],
   "source": [
    "# 問6: for文でキーと値を取り出して出力してください。\n",
    "for i in dict_test.items():\n",
    "    print(i)"
   ]
  },
  {
   "cell_type": "code",
   "execution_count": 103,
   "id": "db62e967",
   "metadata": {},
   "outputs": [
    {
     "name": "stdout",
     "output_type": "stream",
     "text": [
      "['name', 'age']\n"
     ]
    }
   ],
   "source": [
    "# 問7: 辞書のすべてのキーをリストで取得してください。\n",
    "dict_list = []\n",
    "for i in dict_test.keys():\n",
    "    dict_list.append(i)\n",
    "\n",
    "print(dict_list)"
   ]
  },
  {
   "cell_type": "code",
   "execution_count": 104,
   "id": "e347780c",
   "metadata": {},
   "outputs": [
    {
     "name": "stdout",
     "output_type": "stream",
     "text": [
      "['Alice', 30]\n"
     ]
    }
   ],
   "source": [
    "# 問8: 辞書のすべての値をリストで取得してください。\n",
    "dict_list2 = []\n",
    "for i in dict_test.values():\n",
    "    dict_list2.append(i)\n",
    "\n",
    "print(dict_list2)"
   ]
  },
  {
   "cell_type": "code",
   "execution_count": 105,
   "id": "306dbc16",
   "metadata": {},
   "outputs": [
    {
     "name": "stdout",
     "output_type": "stream",
     "text": [
      "{'age': 30}\n"
     ]
    }
   ],
   "source": [
    "# 問9: 辞書から特定のキーを削除してください。\n",
    "dict_test.pop(\"name\")\n",
    "\n",
    "print(dict_test)"
   ]
  },
  {
   "cell_type": "code",
   "execution_count": 106,
   "id": "63b5bd3b",
   "metadata": {},
   "outputs": [
    {
     "name": "stdout",
     "output_type": "stream",
     "text": [
      "{'名前': '小澤', '年齢': 42}\n",
      "{'名前': '小澤'}\n"
     ]
    }
   ],
   "source": [
    "# 問10: 辞書をコピーして変更が元に影響しないことを確認してください。\n",
    "dict_test2 = {\"名前\":\"小澤\",\"年齢\":42}\n",
    "\n",
    "dict_test3 = dict_test2.copy()\n",
    "dict_test3.pop(\"年齢\")\n",
    "\n",
    "print(dict_test2)\n",
    "print(dict_test3)"
   ]
  },
  {
   "cell_type": "markdown",
   "id": "728262b5",
   "metadata": {},
   "source": [
    "## 4. セット"
   ]
  },
  {
   "cell_type": "code",
   "execution_count": 107,
   "id": "b72af3e1",
   "metadata": {},
   "outputs": [
    {
     "name": "stdout",
     "output_type": "stream",
     "text": [
      "{0, 1, 2, 3}\n"
     ]
    }
   ],
   "source": [
    "# 問1: 空のセットを作成してください。\n",
    "set_test1 = {0,1,2,3}\n",
    "print(set_test1)"
   ]
  },
  {
   "cell_type": "code",
   "execution_count": 108,
   "id": "93bfc85d",
   "metadata": {},
   "outputs": [
    {
     "name": "stdout",
     "output_type": "stream",
     "text": [
      "{1, 2, 3, 4}\n"
     ]
    }
   ],
   "source": [
    "# 問2: {1, 2, 3} に 4 を追加してください。\n",
    "set_test2 = {1, 2, 3}\n",
    "set_test2.add(4)\n",
    "\n",
    "print(set_test2)"
   ]
  },
  {
   "cell_type": "code",
   "execution_count": 109,
   "id": "04a34d65",
   "metadata": {},
   "outputs": [
    {
     "name": "stdout",
     "output_type": "stream",
     "text": [
      "{1, 2, 3, 4}\n"
     ]
    }
   ],
   "source": [
    "# 問3: セットにすでに存在する要素を追加しようとしたときの動作を確認してください。\n",
    "set_test2.add(1)\n",
    "print(set_test2)"
   ]
  },
  {
   "cell_type": "code",
   "execution_count": 110,
   "id": "43997720",
   "metadata": {},
   "outputs": [
    {
     "name": "stdout",
     "output_type": "stream",
     "text": [
      "{0, 1, 2, 3, 4, 5}\n"
     ]
    }
   ],
   "source": [
    "# 問4: 2つのセットの和集合を求めてください。\n",
    "set_test3 = {0, 1, 2, 3}\n",
    "set_test4 = {2, 3, 4, 5}\n",
    "set_test5 = set_test3 | set_test4\n",
    "print(set_test5)"
   ]
  },
  {
   "cell_type": "code",
   "execution_count": 111,
   "id": "32a82de9",
   "metadata": {},
   "outputs": [
    {
     "name": "stdout",
     "output_type": "stream",
     "text": [
      "{2, 3}\n"
     ]
    }
   ],
   "source": [
    "# 問5: 2つのセットの積集合を求めてください。\n",
    "set_test6 = set_test3 & set_test4\n",
    "print(set_test6)"
   ]
  },
  {
   "cell_type": "code",
   "execution_count": 112,
   "id": "b64f60fe",
   "metadata": {},
   "outputs": [
    {
     "name": "stdout",
     "output_type": "stream",
     "text": [
      "{0, 1}\n"
     ]
    }
   ],
   "source": [
    "# 問6: 2つのセットの差集合を求めてください。\n",
    "set_test7 = set_test3 - set_test4\n",
    "print(set_test7)"
   ]
  },
  {
   "cell_type": "code",
   "execution_count": 113,
   "id": "95b13a3e",
   "metadata": {},
   "outputs": [
    {
     "name": "stdout",
     "output_type": "stream",
     "text": [
      "{0, 1, 2, 3, 5, 6, 7, 8, 9, 10}\n"
     ]
    }
   ],
   "source": [
    "# 問7: セットから要素を1つ削除してください。\n",
    "set_test8 = {0, 1, 2, 3, 4, 5, 6, 7, 8, 9, 10}\n",
    "set_test8.remove(4)\n",
    "print(set_test8)"
   ]
  },
  {
   "cell_type": "code",
   "execution_count": 114,
   "id": "fbb40a7a",
   "metadata": {},
   "outputs": [
    {
     "name": "stdout",
     "output_type": "stream",
     "text": [
      "{1, 2, 3, 4, 5, 8}\n"
     ]
    }
   ],
   "source": [
    "# 問8: リストから重複を取り除くためにセットを使ってください。\n",
    "list_set_test1 = [1,2,3,2,5,4,8,5,4,3]\n",
    "list_set_test2 = set(list_set_test1)\n",
    "print(list_set_test2)"
   ]
  },
  {
   "cell_type": "code",
   "execution_count": 115,
   "id": "f110d047",
   "metadata": {},
   "outputs": [
    {
     "name": "stdout",
     "output_type": "stream",
     "text": [
      "{8, 2, 4}\n"
     ]
    }
   ],
   "source": [
    "# 問9: セット内包表記で偶数のみを取り出してください。\n",
    "set_test10 = {i for i in list_set_test1 if i % 2 == 0}\n",
    "print(set_test10)"
   ]
  },
  {
   "cell_type": "code",
   "execution_count": 116,
   "id": "26ee870d",
   "metadata": {},
   "outputs": [
    {
     "name": "stdout",
     "output_type": "stream",
     "text": [
      "True\n"
     ]
    }
   ],
   "source": [
    "# 問10: セットが部分集合かどうかを確認してください。\n",
    "set_test9 = {1,2,3,4,5,6}\n",
    "print(set_test9.issuperset({3,4,6}))\n"
   ]
  },
  {
   "cell_type": "markdown",
   "id": "b01de971",
   "metadata": {},
   "source": [
    "## 5. 組み込みのシーケンス関数"
   ]
  },
  {
   "cell_type": "code",
   "execution_count": 117,
   "id": "1cb61e31",
   "metadata": {},
   "outputs": [
    {
     "name": "stdout",
     "output_type": "stream",
     "text": [
      "10\n"
     ]
    }
   ],
   "source": [
    "# 問1: len() を使ってシーケンスの長さを出力してください。\n",
    "list_test1 = [0,1,2,3,4,5,6,7,8,9]\n",
    "print(len(list_test1))"
   ]
  },
  {
   "cell_type": "code",
   "execution_count": 118,
   "id": "e3349bc0",
   "metadata": {},
   "outputs": [
    {
     "name": "stdout",
     "output_type": "stream",
     "text": [
      "[0, 1, 2, 3, 4, 5, 6, 7, 8, 9]\n"
     ]
    }
   ],
   "source": [
    "# 問2: sorted() を使ってリストを昇順に並べてください。\n",
    "list_test2 = [9,8,7,6,5,4,3,2,1,0]\n",
    "list_test2 = sorted(list_test2)\n",
    "print(list_test2)\n"
   ]
  },
  {
   "cell_type": "code",
   "execution_count": 119,
   "id": "d63b1c79",
   "metadata": {},
   "outputs": [
    {
     "name": "stdout",
     "output_type": "stream",
     "text": [
      "[9, 8, 7, 6, 5, 4, 3, 2, 1, 0]\n"
     ]
    }
   ],
   "source": [
    "# 問3: sorted() を使って降順に並べてください。\n",
    "list_test2 = sorted(list_test2, reverse = True)\n",
    "print(list_test2)"
   ]
  },
  {
   "cell_type": "code",
   "execution_count": 120,
   "id": "24b1da3b",
   "metadata": {},
   "outputs": [
    {
     "name": "stdout",
     "output_type": "stream",
     "text": [
      "[(9, 0), (8, 1), (7, 2), (6, 3), (5, 4), (4, 5), (3, 6), (2, 7), (1, 8), (0, 9)]\n"
     ]
    }
   ],
   "source": [
    "# 問4: zip() を使って2つのリストを組にしてください。\n",
    "zip_test = zip(list_test2, list_test1)\n",
    "print(list(zip_test))"
   ]
  },
  {
   "cell_type": "code",
   "execution_count": 121,
   "id": "25aeac5f",
   "metadata": {},
   "outputs": [
    {
     "name": "stdout",
     "output_type": "stream",
     "text": [
      "0 : 0\n",
      "1 : 1\n",
      "2 : 2\n",
      "3 : 3\n",
      "4 : 4\n",
      "5 : 5\n",
      "6 : 6\n",
      "7 : 7\n",
      "8 : 8\n",
      "9 : 9\n"
     ]
    }
   ],
   "source": [
    "# 問5: enumerate() を使ってリストのインデックスと値を取り出してください。\n",
    "for i, value in enumerate(list_test1):\n",
    "    print(i,\":\",value)"
   ]
  },
  {
   "cell_type": "code",
   "execution_count": 122,
   "id": "32bdccf6",
   "metadata": {},
   "outputs": [
    {
     "name": "stdout",
     "output_type": "stream",
     "text": [
      "45\n"
     ]
    }
   ],
   "source": [
    "# 問6: sum() を使ってリストの合計を出してください。\n",
    "list_sum = sum(list_test2)\n",
    "print(list_sum)"
   ]
  },
  {
   "cell_type": "code",
   "execution_count": 123,
   "id": "47f740bf",
   "metadata": {},
   "outputs": [
    {
     "name": "stdout",
     "output_type": "stream",
     "text": [
      "max= 9\n",
      "min= 0\n"
     ]
    }
   ],
   "source": [
    "# 問7: max() と min() を使って最大値と最小値を取得してください。\n",
    "list_max = max(list_test2)\n",
    "list_min = min(list_test2)\n",
    "\n",
    "print(\"max=\", list_max)\n",
    "print(\"min=\",list_min)"
   ]
  },
  {
   "cell_type": "code",
   "execution_count": 124,
   "id": "a1806903",
   "metadata": {},
   "outputs": [
    {
     "name": "stdout",
     "output_type": "stream",
     "text": [
      "['d', 'f', 'e', 'd', 'c', 'b', 'a']\n"
     ]
    }
   ],
   "source": [
    "# 問8: reversed() を使ってリストを逆順にしてください。\n",
    "list_test4 = [\"a\",\"b\",\"c\",\"d\",\"e\",\"f\",\"d\",]\n",
    "\n",
    "list_reversed = reversed(list_test4)\n",
    "print(list(list_reversed))"
   ]
  },
  {
   "cell_type": "code",
   "execution_count": 125,
   "id": "810b90fd",
   "metadata": {},
   "outputs": [
    {
     "name": "stdout",
     "output_type": "stream",
     "text": [
      "False\n",
      "True\n",
      "True\n"
     ]
    }
   ],
   "source": [
    "# 問9: any() を使ってリストに1つでもTrueがあるかを確認してください。\n",
    "list_any_test = [False, False, False]\n",
    "list_any_test2 = [False, True, False]\n",
    "\n",
    "print(any(list_any_test))\n",
    "print(any(list_any_test2))\n",
    "print(any(list_test4))\n"
   ]
  },
  {
   "cell_type": "code",
   "execution_count": 126,
   "id": "5ecccd85",
   "metadata": {},
   "outputs": [
    {
     "name": "stdout",
     "output_type": "stream",
     "text": [
      "False\n",
      "False\n",
      "True\n",
      "True\n"
     ]
    }
   ],
   "source": [
    "# 問10: all() を使ってリストがすべてTrueかを確認してください。\n",
    "list_any_test3 = [True, True, True]\n",
    "\n",
    "print(all(list_any_test))\n",
    "print(all(list_any_test2))\n",
    "print(all(list_any_test3))\n",
    "print(all(list_test4))\n"
   ]
  },
  {
   "cell_type": "markdown",
   "id": "0acbd437",
   "metadata": {},
   "source": [
    "## 6. 内包表記"
   ]
  },
  {
   "cell_type": "code",
   "execution_count": 127,
   "id": "dc607f94",
   "metadata": {},
   "outputs": [
    {
     "name": "stdout",
     "output_type": "stream",
     "text": [
      "[0, 1, 4, 9, 16, 25, 36, 49, 64, 81]\n"
     ]
    }
   ],
   "source": [
    "# 問1: リスト内包表記で0〜9の2乗をリストにしてください。\n",
    "ex_list_test1 = [x**2 for x in range(10)]\n",
    "print(ex_list_test1)\n",
    "\n",
    "# [処理内容（リストに入れる内容） for 逐次処理対象の値 in 逐次処理の範囲]\n",
    "# for x in range(10)\n",
    "#   ex_list_test.append(x**2)\n",
    "#ということだよ！！"
   ]
  },
  {
   "cell_type": "code",
   "execution_count": 128,
   "id": "51e869b8",
   "metadata": {},
   "outputs": [
    {
     "name": "stdout",
     "output_type": "stream",
     "text": [
      "[0, 2, 4, 6, 8, 10, 12, 14, 16, 18]\n"
     ]
    }
   ],
   "source": [
    "# 問2: リスト内包表記で偶数のみを取り出してください。\n",
    "ex_list_test2 = [x for x in range(20) if x%2 == 0]\n",
    "print(ex_list_test2)"
   ]
  },
  {
   "cell_type": "code",
   "execution_count": 129,
   "id": "765993a0",
   "metadata": {},
   "outputs": [],
   "source": [
    "# 問3: セット内包表記で文字列から母音を取り出してください。\n",
    "\n",
    "#これは解けませんでした・・・。\n"
   ]
  },
  {
   "cell_type": "code",
   "execution_count": 130,
   "id": "52b63b94",
   "metadata": {},
   "outputs": [
    {
     "name": "stdout",
     "output_type": "stream",
     "text": [
      "{0: 0, 1: 1, 2: 4, 3: 9, 4: 16, 5: 25, 6: 36, 7: 49, 8: 64, 9: 81}\n"
     ]
    }
   ],
   "source": [
    "# 問4: 辞書内包表記で数値とその2乗の辞書を作ってください。\n",
    "ex_dict_test1 = {x: x**2 for x in range(10)}\n",
    "print(ex_dict_test1)"
   ]
  },
  {
   "cell_type": "code",
   "execution_count": 131,
   "id": "698e0b6a",
   "metadata": {},
   "outputs": [
    {
     "name": "stdout",
     "output_type": "stream",
     "text": [
      "['cat', 'girl', 'python']\n"
     ]
    }
   ],
   "source": [
    "# 問5: リスト内包表記で文字列の長さが3以上の単語だけ取り出してください。\n",
    "ex_list_test3 = [\"cat\", \"girl\", \"AI\", \"python\", \"T\"]\n",
    "ex_list_test4 = [str_test for str_test in ex_list_test3 if len(str_test)>=3]\n",
    "print(ex_list_test4)"
   ]
  },
  {
   "cell_type": "code",
   "execution_count": 132,
   "id": "c5597ea8",
   "metadata": {},
   "outputs": [
    {
     "name": "stdout",
     "output_type": "stream",
     "text": [
      "[1, 2, 3, 4, 5, 6, 7, 8, 9]\n"
     ]
    }
   ],
   "source": [
    "# 問6: ネストされたリストを1次元に変換してください（flatten）。\n",
    "ex_list_test5 = [[1,2,3], [4,5,6],[7,8,9]]\n",
    "ex_list_test6 = [x for y in ex_list_test5 for x in y]\n",
    "\n",
    "print(ex_list_test6)"
   ]
  },
  {
   "cell_type": "code",
   "execution_count": 133,
   "id": "c62625ed",
   "metadata": {},
   "outputs": [],
   "source": [
    "# 問7: 条件付き内包表記で、0除算を避けながら逆数のリストを作ってください。\n",
    "#ちょっとわからなかった・・・。"
   ]
  },
  {
   "cell_type": "code",
   "execution_count": 134,
   "id": "d3dc4221",
   "metadata": {},
   "outputs": [
    {
     "name": "stdout",
     "output_type": "stream",
     "text": [
      "[0, 9, 18, 27, 36, 45, 54, 63, 72, 81, 90, 99, 108, 117, 126, 135, 144]\n"
     ]
    }
   ],
   "source": [
    "# 問8: リスト内包表記で奇数を3倍したリストを作ってください。\n",
    "ex_list_test7 = [x*3 for x in range(50) if x%3 == 0]\n",
    "print(ex_list_test7)\n"
   ]
  },
  {
   "cell_type": "code",
   "execution_count": 135,
   "id": "766df5b0",
   "metadata": {},
   "outputs": [
    {
     "name": "stdout",
     "output_type": "stream",
     "text": [
      "['girl', 'oza', 'sk']\n"
     ]
    }
   ],
   "source": [
    "# 問9: 辞書から値が3以上のキーだけを抽出してください。\n",
    "ex_dict_test2 = {\"cat\":2, \"girl\":15, \"dog\":1, \"oza\":42, \"sk\":61}\n",
    "ex_dict_test3 = {x:y for x,y in ex_dict_test2.items() if y>=3}\n",
    "\n",
    "print(list(ex_dict_test3.keys()))"
   ]
  },
  {
   "cell_type": "code",
   "execution_count": 136,
   "id": "62246379",
   "metadata": {},
   "outputs": [
    {
     "name": "stdout",
     "output_type": "stream",
     "text": [
      "[2, 4, 6, 8, 10]\n"
     ]
    }
   ],
   "source": [
    "# 問10: リストのリストから偶数のみのリストを作ってください（ネスト内包）。\n",
    "ex_list_test8 = [[1,2,3,4,5],[6,7,8,9,10]]\n",
    "ex_list_test9 = [x for y in ex_list_test8 for x in y if x%2==0]\n",
    "\n",
    "print(ex_list_test9)"
   ]
  },
  {
   "cell_type": "code",
   "execution_count": null,
   "id": "1b9a807c",
   "metadata": {},
   "outputs": [],
   "source": []
  }
 ],
 "metadata": {
  "kernelspec": {
   "display_name": "ai-study",
   "language": "python",
   "name": "python3"
  },
  "language_info": {
   "codemirror_mode": {
    "name": "ipython",
    "version": 3
   },
   "file_extension": ".py",
   "mimetype": "text/x-python",
   "name": "python",
   "nbconvert_exporter": "python",
   "pygments_lexer": "ipython3",
   "version": "3.11.13"
  }
 },
 "nbformat": 4,
 "nbformat_minor": 5
}
