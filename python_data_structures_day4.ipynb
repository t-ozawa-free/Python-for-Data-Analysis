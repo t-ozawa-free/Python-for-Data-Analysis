{
 "cells": [
  {
   "cell_type": "markdown",
   "id": "ec7b5ac7",
   "metadata": {},
   "source": [
    "# Python演習問題 Day4\n",
    "\n",
    "日々の練習でデータ構造の理解を深めましょう。"
   ]
  },
  {
   "cell_type": "code",
   "execution_count": null,
   "id": "d0fb8150",
   "metadata": {},
   "outputs": [
    {
     "name": "stdout",
     "output_type": "stream",
     "text": [
      "2\n",
      "9\n"
     ]
    }
   ],
   "source": [
    "# 問1\n",
    "# タプルとリストをネストして作成し、特定要素にアクセスしてください。\n",
    "tup1 = ((1,2,3),(4,5,6))\n",
    "list1 = [[7,8,9],[10,11,12]]\n",
    "\n",
    "print(tup1[0][1])\n",
    "print(list1[0][2])\n",
    "#これで良いのか自信がないです。"
   ]
  },
  {
   "cell_type": "code",
   "execution_count": null,
   "id": "62d20729",
   "metadata": {},
   "outputs": [
    {
     "name": "stdout",
     "output_type": "stream",
     "text": [
      "2\n"
     ]
    }
   ],
   "source": [
    "# 問2\n",
    "# 辞書の値がリストである構造から、特定の要素を取得してください。\n",
    "\n",
    "dict1 = {\"cat\":[1,2,3],\"dog\":[4,5,6]}\n",
    "print(dict1[\"cat\"][1])\n",
    "#これで良いのか自信がないです。"
   ]
  },
  {
   "cell_type": "code",
   "execution_count": 6,
   "id": "c7411889",
   "metadata": {},
   "outputs": [
    {
     "name": "stdout",
     "output_type": "stream",
     "text": [
      "{1, 2, 3, 4, 5, 6, 7, 8, 9, 10}\n"
     ]
    }
   ],
   "source": [
    "# 問3\n",
    "# 2つのセットの和集合を求めてください。\n",
    "\n",
    "set1 = {1,2,3,4,5}\n",
    "set2 = {6,7,8,9,10}\n",
    "\n",
    "set1.update(set2)\n",
    "print(set1)"
   ]
  },
  {
   "cell_type": "code",
   "execution_count": 9,
   "id": "a7895fe8",
   "metadata": {},
   "outputs": [
    {
     "name": "stdout",
     "output_type": "stream",
     "text": [
      "{'c', 'a'}\n"
     ]
    }
   ],
   "source": [
    "# 問4\n",
    "# 2つのセットの積集合を求めてください。\n",
    "set3 = {\"a\",\"b\",\"c\",\"d\"}\n",
    "set4 = {\"a\",\"c\",\"g\",\"h\"}\n",
    "\n",
    "set3.intersection_update(set4)\n",
    "print(set3)"
   ]
  },
  {
   "cell_type": "code",
   "execution_count": 10,
   "id": "44c7e611",
   "metadata": {},
   "outputs": [
    {
     "name": "stdout",
     "output_type": "stream",
     "text": [
      "{1, 3, 5, 7, 9}\n"
     ]
    }
   ],
   "source": [
    "# 問5\n",
    "# 2つのセットの差集合を求めてください。\n",
    "\n",
    "set5 = {1,2,3,4,5,6,7,8,9,10}\n",
    "set6 = {2,4,6,8,10}\n",
    "\n",
    "set5.difference_update(set6)\n",
    "print(set5)"
   ]
  },
  {
   "cell_type": "code",
   "execution_count": 11,
   "id": "c7cae480",
   "metadata": {},
   "outputs": [
    {
     "name": "stdout",
     "output_type": "stream",
     "text": [
      "{2, 4, 6, 8, 10}\n"
     ]
    }
   ],
   "source": [
    "# 問6\n",
    "# セットの対称差を求めてください。\n",
    "set7 = {1,2,3,4,5,6,7,8,9,10}\n",
    "set8 = {1,3,5,7,9}\n",
    "\n",
    "set7.symmetric_difference_update(set8)\n",
    "print(set7)"
   ]
  },
  {
   "cell_type": "code",
   "execution_count": null,
   "id": "48ff6f3d",
   "metadata": {},
   "outputs": [
    {
     "name": "stdout",
     "output_type": "stream",
     "text": [
      "1\n"
     ]
    }
   ],
   "source": [
    "# 問7\n",
    "# リストの中の辞書から、特定キーの値だけを抽出してください。\n",
    "list2 = [{\"cat\":1,\"dog\":2},{\"oza\":42,\"sk\":61}]\n",
    "\n",
    "print(list2[0][\"cat\"])\n",
    "#これで良いのか自信がないです。"
   ]
  },
  {
   "cell_type": "code",
   "execution_count": null,
   "id": "422c1260",
   "metadata": {},
   "outputs": [
    {
     "name": "stdout",
     "output_type": "stream",
     "text": [
      "1\n"
     ]
    }
   ],
   "source": [
    "# 問8\n",
    "# 辞書の中にタプルをキーにしてアクセスしてください。\n",
    "dict2 = {(\"cat\"):1,(\"dog\"):2}\n",
    "\n",
    "print(dict2[(\"cat\")])\n",
    "#これで良いのか自信がないです。"
   ]
  },
  {
   "cell_type": "code",
   "execution_count": null,
   "id": "be0b1135",
   "metadata": {},
   "outputs": [
    {
     "name": "stdout",
     "output_type": "stream",
     "text": [
      "{0: 0, 1: 1, 2: 4, 3: 9, 4: 16, 5: 25}\n"
     ]
    }
   ],
   "source": [
    "# 問9\n",
    "# リストを辞書に変換してください（キー：インデックス、値：要素）。\n",
    "list3 = [0,1,4,9,16,25]\n",
    "dict3 = {x:y for x,y in enumerate(list3)}\n",
    "print(dict3)\n",
    "#だいぶ時間がかかって結局調べました・・・。"
   ]
  },
  {
   "cell_type": "code",
   "execution_count": null,
   "id": "af51a0a2",
   "metadata": {},
   "outputs": [
    {
     "name": "stdout",
     "output_type": "stream",
     "text": [
      "[1, 2, 3, 1, 2, 3]\n",
      "{1, 2, 3}\n"
     ]
    }
   ],
   "source": [
    "# 問10\n",
    "# セットとリストの違いを例を交えてコメントしてください。\n",
    "list4 = [1,2,3,1,2,3] #同じ値が出ても要素数は変わらない\n",
    "set9 = {1,2,3,1,2,3} #同じ値がある場合は重複しないようにして要素数が変わる。\n",
    "\n",
    "print(list4)\n",
    "print(set9)"
   ]
  },
  {
   "cell_type": "code",
   "execution_count": null,
   "id": "8d36f4fc",
   "metadata": {},
   "outputs": [],
   "source": []
  }
 ],
 "metadata": {
  "kernelspec": {
   "display_name": "ai-study",
   "language": "python",
   "name": "python3"
  },
  "language_info": {
   "codemirror_mode": {
    "name": "ipython",
    "version": 3
   },
   "file_extension": ".py",
   "mimetype": "text/x-python",
   "name": "python",
   "nbconvert_exporter": "python",
   "pygments_lexer": "ipython3",
   "version": "3.11.13"
  }
 },
 "nbformat": 4,
 "nbformat_minor": 5
}
