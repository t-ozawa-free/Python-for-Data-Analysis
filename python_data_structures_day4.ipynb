{
 "cells": [
  {
   "cell_type": "markdown",
   "id": "ec7b5ac7",
   "metadata": {},
   "source": [
    "# Python演習問題 Day4\n",
    "\n",
    "日々の練習でデータ構造の理解を深めましょう。"
   ]
  },
  {
   "cell_type": "code",
   "execution_count": null,
   "id": "d0fb8150",
   "metadata": {},
   "outputs": [],
   "source": [
    "# 問1\n",
    "# タプルとリストをネストして作成し、特定要素にアクセスしてください。"
   ]
  },
  {
   "cell_type": "code",
   "execution_count": null,
   "id": "62d20729",
   "metadata": {},
   "outputs": [],
   "source": [
    "# 問2\n",
    "# 辞書の値がリストである構造から、特定の要素を取得してください。"
   ]
  },
  {
   "cell_type": "code",
   "execution_count": null,
   "id": "c7411889",
   "metadata": {},
   "outputs": [],
   "source": [
    "# 問3\n",
    "# 2つのセットの和集合を求めてください。"
   ]
  },
  {
   "cell_type": "code",
   "execution_count": null,
   "id": "a7895fe8",
   "metadata": {},
   "outputs": [],
   "source": [
    "# 問4\n",
    "# 2つのセットの積集合を求めてください。"
   ]
  },
  {
   "cell_type": "code",
   "execution_count": null,
   "id": "44c7e611",
   "metadata": {},
   "outputs": [],
   "source": [
    "# 問5\n",
    "# 2つのセットの差集合を求めてください。"
   ]
  },
  {
   "cell_type": "code",
   "execution_count": null,
   "id": "c7cae480",
   "metadata": {},
   "outputs": [],
   "source": [
    "# 問6\n",
    "# セットの対称差を求めてください。"
   ]
  },
  {
   "cell_type": "code",
   "execution_count": null,
   "id": "48ff6f3d",
   "metadata": {},
   "outputs": [],
   "source": [
    "# 問7\n",
    "# リストの中の辞書から、特定キーの値だけを抽出してください。"
   ]
  },
  {
   "cell_type": "code",
   "execution_count": null,
   "id": "422c1260",
   "metadata": {},
   "outputs": [],
   "source": [
    "# 問8\n",
    "# 辞書の中にタプルをキーにしてアクセスしてください。"
   ]
  },
  {
   "cell_type": "code",
   "execution_count": null,
   "id": "be0b1135",
   "metadata": {},
   "outputs": [],
   "source": [
    "# 問9\n",
    "# リストを辞書に変換してください（キー：インデックス、値：要素）。"
   ]
  },
  {
   "cell_type": "code",
   "execution_count": null,
   "id": "af51a0a2",
   "metadata": {},
   "outputs": [],
   "source": [
    "# 問10\n",
    "# セットとリストの違いを例を交えてコメントしてください。"
   ]
  }
 ],
 "metadata": {},
 "nbformat": 4,
 "nbformat_minor": 5
}