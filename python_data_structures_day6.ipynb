{
 "cells": [
  {
   "cell_type": "markdown",
   "id": "0ec2dc4f",
   "metadata": {},
   "source": [
    "# Python演習問題 Day6\n",
    "\n",
    "日々の練習でデータ構造の理解を深めましょう。"
   ]
  },
  {
   "cell_type": "code",
   "execution_count": null,
   "id": "09c8db2a",
   "metadata": {},
   "outputs": [],
   "source": [
    "# 問1\n",
    "# リストを集合に変換して重複を除去してください。"
   ]
  },
  {
   "cell_type": "code",
   "execution_count": null,
   "id": "3eedec09",
   "metadata": {},
   "outputs": [],
   "source": [
    "# 問2\n",
    "# セットをリストに変換してソートしてください。"
   ]
  },
  {
   "cell_type": "code",
   "execution_count": null,
   "id": "d132401d",
   "metadata": {},
   "outputs": [],
   "source": [
    "# 問3\n",
    "# 辞書を使って文字列中の文字数をカウントしてください。"
   ]
  },
  {
   "cell_type": "code",
   "execution_count": null,
   "id": "aca1319a",
   "metadata": {},
   "outputs": [],
   "source": [
    "# 問4\n",
    "# 辞書を JSON 風に出力してください。"
   ]
  },
  {
   "cell_type": "code",
   "execution_count": null,
   "id": "2a260bcf",
   "metadata": {},
   "outputs": [],
   "source": [
    "# 問5\n",
    "# タプルとリストを相互変換してください。"
   ]
  },
  {
   "cell_type": "code",
   "execution_count": null,
   "id": "e0df6e79",
   "metadata": {},
   "outputs": [],
   "source": [
    "# 問6\n",
    "# zip() を使って2つのリストから辞書を作成してください。"
   ]
  },
  {
   "cell_type": "code",
   "execution_count": null,
   "id": "3518fd90",
   "metadata": {},
   "outputs": [],
   "source": [
    "# 問7\n",
    "# 辞書のネスト構造から特定のデータにアクセスしてください。"
   ]
  },
  {
   "cell_type": "code",
   "execution_count": null,
   "id": "ade2a847",
   "metadata": {},
   "outputs": [],
   "source": [
    "# 問8\n",
    "# 複数の辞書を結合して1つの辞書にまとめてください。"
   ]
  },
  {
   "cell_type": "code",
   "execution_count": null,
   "id": "4b82ada7",
   "metadata": {},
   "outputs": [],
   "source": [
    "# 問9\n",
    "# リストに存在するすべての辞書から特定キーだけを抽出したリストを作成してください。"
   ]
  },
  {
   "cell_type": "code",
   "execution_count": null,
   "id": "f2c1516a",
   "metadata": {},
   "outputs": [],
   "source": [
    "# 問10\n",
    "# セットにリストを渡そうとするとどうなるか試してみてください（エラー含めて）。"
   ]
  }
 ],
 "metadata": {},
 "nbformat": 4,
 "nbformat_minor": 5
}