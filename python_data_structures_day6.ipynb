{
 "cells": [
  {
   "cell_type": "markdown",
   "id": "0ec2dc4f",
   "metadata": {},
   "source": [
    "# Python演習問題 Day6\n",
    "\n",
    "日々の練習でデータ構造の理解を深めましょう。"
   ]
  },
  {
   "cell_type": "code",
   "execution_count": 3,
   "id": "09c8db2a",
   "metadata": {},
   "outputs": [
    {
     "name": "stdout",
     "output_type": "stream",
     "text": [
      "{1, 2, 3, 6, 8, 41}\n"
     ]
    }
   ],
   "source": [
    "# 問1\n",
    "# リストを集合に変換して重複を除去してください。\n",
    "list1 = [1,2,3,41,3,6,8,3,2,1]\n",
    "list1_set = set(list1)\n",
    "print(list1_set)"
   ]
  },
  {
   "cell_type": "code",
   "execution_count": 5,
   "id": "3eedec09",
   "metadata": {},
   "outputs": [
    {
     "name": "stdout",
     "output_type": "stream",
     "text": [
      "[0, 1, 2, 3, 4, 5, 7, 9, 79]\n"
     ]
    }
   ],
   "source": [
    "# 問2\n",
    "# セットをリストに変換してソートしてください。\n",
    "set1 = {5,4,7,1,5,7,9,3,1,2,4,79,0,4,2}\n",
    "set_list1 = list(set1)\n",
    "print(set_list1)"
   ]
  },
  {
   "cell_type": "code",
   "execution_count": 35,
   "id": "d132401d",
   "metadata": {},
   "outputs": [
    {
     "name": "stdout",
     "output_type": "stream",
     "text": [
      "{'b': 1, 'a': 3, 'n': 2}\n"
     ]
    }
   ],
   "source": [
    "# 問3\n",
    "# 辞書を使って文字列中の文字数をカウントしてください。\n",
    "\n",
    "text = \"banana\"\n",
    "count_dict = {}\n",
    "for char in text:\n",
    "    count_dict[char] = count_dict.get(char, 0) + 1\n",
    "\n",
    "print(count_dict)\n"
   ]
  },
  {
   "cell_type": "code",
   "execution_count": null,
   "id": "aca1319a",
   "metadata": {},
   "outputs": [],
   "source": [
    "# 問4\n",
    "# 辞書を JSON 風に出力してください。\n",
    "#何JSONって・・・。"
   ]
  },
  {
   "cell_type": "code",
   "execution_count": 14,
   "id": "2a260bcf",
   "metadata": {},
   "outputs": [
    {
     "name": "stdout",
     "output_type": "stream",
     "text": [
      "[1, 2, 3, 4, 5]\n",
      "(6, 7, 8, 9, 10)\n"
     ]
    }
   ],
   "source": [
    "# 問5\n",
    "# タプルとリストを相互変換してください。\n",
    "tup1 = (1,2,3,4,5)\n",
    "list4 = [6,7,8,9,10]\n",
    "\n",
    "tup1 = list(tup1)\n",
    "list4 = tuple(list4)\n",
    "\n",
    "print(tup1)\n",
    "print(list4)\n"
   ]
  },
  {
   "cell_type": "code",
   "execution_count": 10,
   "id": "e0df6e79",
   "metadata": {},
   "outputs": [
    {
     "name": "stdout",
     "output_type": "stream",
     "text": [
      "{'cat': 1, 'dog': 2, 'oza': 42, 'sk': 61}\n"
     ]
    }
   ],
   "source": [
    "# 問6\n",
    "# zip() を使って2つのリストから辞書を作成してください。\n",
    "\n",
    "list2 = [\"cat\",\"dog\",\"oza\",\"sk\"]\n",
    "list3 = [1,2,42,61]\n",
    "\n",
    "dict_list1 = dict(zip(list2, list3))\n",
    "print(dict_list1)"
   ]
  },
  {
   "cell_type": "code",
   "execution_count": 30,
   "id": "3518fd90",
   "metadata": {},
   "outputs": [
    {
     "name": "stdout",
     "output_type": "stream",
     "text": [
      "1\n"
     ]
    }
   ],
   "source": [
    "# 問7\n",
    "# 辞書のネスト構造から特定のデータにアクセスしてください。\n",
    "dict5 = {\"animal\":{'cat': 1, 'dog': 2}, \"other\" :{'oza': 42, 'sk': 61,}}\n",
    "\n",
    "print(dict5[\"animal\"][\"cat\"])"
   ]
  },
  {
   "cell_type": "code",
   "execution_count": null,
   "id": "ade2a847",
   "metadata": {},
   "outputs": [
    {
     "name": "stdout",
     "output_type": "stream",
     "text": [
      "{'cat': 1, 'dog': 2, 'oza': 42, 'sk': 61}\n"
     ]
    }
   ],
   "source": [
    "# 問8\n",
    "# 複数の辞書を結合して1つの辞書にまとめてください。\n",
    "\n",
    "dict2 = {\"cat\":1,\"dog\":2}\n",
    "dict3 = {\"oza\":42,\"sk\":61}\n",
    "\n",
    "dict4 = dict(**dict2,**dict3)#このやり方は初めて知った。覚えておきたい。\n",
    "\n",
    "print(dict4)    "
   ]
  },
  {
   "cell_type": "code",
   "execution_count": 36,
   "id": "4b82ada7",
   "metadata": {},
   "outputs": [
    {
     "name": "stdout",
     "output_type": "stream",
     "text": [
      "['でじこ', 'ぷちこ']\n"
     ]
    }
   ],
   "source": [
    "# 問9\n",
    "# リストに存在するすべての辞書から特定キーだけを抽出したリストを作成してください。\n",
    "list_dicts = [{\"名前\": \"でじこ\", \"年齢\": 12}, {\"名前\": \"ぷちこ\", \"年齢\": 10}]\n",
    "\n",
    "name_list = [text[\"名前\"] for text in list_dicts]\n",
    "\n",
    "print(name_list)"
   ]
  },
  {
   "cell_type": "code",
   "execution_count": 34,
   "id": "f2c1516a",
   "metadata": {},
   "outputs": [
    {
     "ename": "TypeError",
     "evalue": "unhashable type: 'list'",
     "output_type": "error",
     "traceback": [
      "\u001b[31m---------------------------------------------------------------------------\u001b[39m",
      "\u001b[31mTypeError\u001b[39m                                 Traceback (most recent call last)",
      "\u001b[36mCell\u001b[39m\u001b[36m \u001b[39m\u001b[32mIn[34]\u001b[39m\u001b[32m, line 3\u001b[39m\n\u001b[32m      1\u001b[39m \u001b[38;5;66;03m# 問10\u001b[39;00m\n\u001b[32m      2\u001b[39m \u001b[38;5;66;03m# セットにリストを渡そうとするとどうなるか試してみてください（エラー含めて）。\u001b[39;00m\n\u001b[32m----> \u001b[39m\u001b[32m3\u001b[39m set2 = \u001b[38;5;28mset\u001b[39m([[\u001b[32m1\u001b[39m,\u001b[32m2\u001b[39m,\u001b[32m3\u001b[39m,\u001b[32m4\u001b[39m]])\n\u001b[32m      4\u001b[39m \u001b[38;5;28mprint\u001b[39m(set2)\n",
      "\u001b[31mTypeError\u001b[39m: unhashable type: 'list'"
     ]
    }
   ],
   "source": [
    "# 問10\n",
    "# セットにリストを渡そうとするとどうなるか試してみてください（エラー含めて）。\n",
    "set2 = set([[1,2,3,4]])\n",
    "print(set2)"
   ]
  },
  {
   "cell_type": "code",
   "execution_count": null,
   "id": "909b3144",
   "metadata": {},
   "outputs": [],
   "source": []
  }
 ],
 "metadata": {
  "kernelspec": {
   "display_name": "ai-study",
   "language": "python",
   "name": "python3"
  },
  "language_info": {
   "codemirror_mode": {
    "name": "ipython",
    "version": 3
   },
   "file_extension": ".py",
   "mimetype": "text/x-python",
   "name": "python",
   "nbconvert_exporter": "python",
   "pygments_lexer": "ipython3",
   "version": "3.11.13"
  }
 },
 "nbformat": 4,
 "nbformat_minor": 5
}
