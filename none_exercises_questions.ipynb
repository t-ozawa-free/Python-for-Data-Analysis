{
 "cells": [
  {
   "cell_type": "markdown",
   "id": "19d0595a",
   "metadata": {},
   "source": [
    "### 演習1"
   ]
  },
  {
   "cell_type": "code",
   "execution_count": 1,
   "id": "0ce3bbf6",
   "metadata": {},
   "outputs": [
    {
     "name": "stdout",
     "output_type": "stream",
     "text": [
      "こんにちは\n",
      "None\n"
     ]
    }
   ],
   "source": [
    "# 演習1: 関数が何も返さないときの戻り値を確認しよう\n",
    "def greet():\n",
    "    print(\"こんにちは\")\n",
    "\n",
    "result = greet()\n",
    "print(result)  # ここに何が出力されるかを予想して答えよう\n",
    "#予想\n",
    "#こんにちは\n",
    "#None"
   ]
  },
  {
   "cell_type": "markdown",
   "id": "41b78f76",
   "metadata": {},
   "source": [
    "### 演習2"
   ]
  },
  {
   "cell_type": "code",
   "execution_count": 2,
   "id": "f93bed22",
   "metadata": {},
   "outputs": [
    {
     "name": "stdout",
     "output_type": "stream",
     "text": [
      "名前が未設定です\n"
     ]
    }
   ],
   "source": [
    "# 演習2: Noneを初期値として使おう\n",
    "name = None\n",
    "if name is None:\n",
    "    print(\"名前が未設定です\")\n",
    "else:\n",
    "    print(f\"ようこそ、{name}さん\")\n"
   ]
  },
  {
   "cell_type": "markdown",
   "id": "a3b27876",
   "metadata": {},
   "source": [
    "### 演習3"
   ]
  },
  {
   "cell_type": "code",
   "execution_count": 3,
   "id": "748422d3",
   "metadata": {},
   "outputs": [
    {
     "name": "stdout",
     "output_type": "stream",
     "text": [
      "こんにちは、ゲストさん\n",
      "こんにちは、紅葉さん\n"
     ]
    }
   ],
   "source": [
    "# 演習3: 関数のデフォルト引数にNoneを使ってみよう\n",
    "def greet(name=None):\n",
    "    if name is None:\n",
    "        name = \"ゲスト\"\n",
    "    print(f\"こんにちは、{name}さん\")\n",
    "\n",
    "greet()         # 引数なし\n",
    "greet(\"紅葉\")  # 引数あり\n"
   ]
  },
  {
   "cell_type": "markdown",
   "id": "85b5a863",
   "metadata": {},
   "source": [
    "### 演習4"
   ]
  },
  {
   "cell_type": "code",
   "execution_count": 5,
   "id": "ae73502c",
   "metadata": {},
   "outputs": [
    {
     "name": "stdout",
     "output_type": "stream",
     "text": [
      "見つかった: banana\n"
     ]
    }
   ],
   "source": [
    "# 演習4: Noneを戻り値として使おう\n",
    "def find_item(items, target):\n",
    "    for item in items:\n",
    "        if item == target:\n",
    "            return item\n",
    "    return None\n",
    "\n",
    "result = find_item([\"apple\", \"banana\"], \"banana\")\n",
    "if result is None:\n",
    "    print(\"見つかりませんでした\")\n",
    "else:\n",
    "    print(f\"見つかった: {result}\")\n"
   ]
  },
  {
   "cell_type": "code",
   "execution_count": null,
   "id": "bf6976cb",
   "metadata": {},
   "outputs": [],
   "source": []
  }
 ],
 "metadata": {
  "kernelspec": {
   "display_name": "ai-study",
   "language": "python",
   "name": "python3"
  },
  "language_info": {
   "codemirror_mode": {
    "name": "ipython",
    "version": 3
   },
   "file_extension": ".py",
   "mimetype": "text/x-python",
   "name": "python",
   "nbconvert_exporter": "python",
   "pygments_lexer": "ipython3",
   "version": "3.11.13"
  }
 },
 "nbformat": 4,
 "nbformat_minor": 5
}
