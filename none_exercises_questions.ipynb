{
 "cells": [
  {
   "cell_type": "markdown",
   "id": "19d0595a",
   "metadata": {},
   "source": [
    "### 演習1"
   ]
  },
  {
   "cell_type": "code",
   "execution_count": null,
   "id": "0ce3bbf6",
   "metadata": {},
   "outputs": [],
   "source": [
    "# 演習1: 関数が何も返さないときの戻り値を確認しよう\n",
    "def greet():\n",
    "    print(\"こんにちは\")\n",
    "\n",
    "result = greet()\n",
    "print(result)  # ここに何が出力されるかを予想して答えよう\n"
   ]
  },
  {
   "cell_type": "markdown",
   "id": "41b78f76",
   "metadata": {},
   "source": [
    "### 演習2"
   ]
  },
  {
   "cell_type": "code",
   "execution_count": null,
   "id": "f93bed22",
   "metadata": {},
   "outputs": [],
   "source": [
    "# 演習2: Noneを初期値として使おう\n",
    "name = None\n",
    "if name is None:\n",
    "    print(\"名前が未設定です\")\n",
    "else:\n",
    "    print(f\"ようこそ、{name}さん\")\n"
   ]
  },
  {
   "cell_type": "markdown",
   "id": "a3b27876",
   "metadata": {},
   "source": [
    "### 演習3"
   ]
  },
  {
   "cell_type": "code",
   "execution_count": null,
   "id": "748422d3",
   "metadata": {},
   "outputs": [],
   "source": [
    "# 演習3: 関数のデフォルト引数にNoneを使ってみよう\n",
    "def greet(name=None):\n",
    "    if name is None:\n",
    "        name = \"ゲスト\"\n",
    "    print(f\"こんにちは、{name}さん\")\n",
    "\n",
    "greet()         # 引数なし\n",
    "greet(\"紅葉\")  # 引数あり\n"
   ]
  },
  {
   "cell_type": "markdown",
   "id": "85b5a863",
   "metadata": {},
   "source": [
    "### 演習4"
   ]
  },
  {
   "cell_type": "code",
   "execution_count": null,
   "id": "ae73502c",
   "metadata": {},
   "outputs": [],
   "source": [
    "# 演習4: Noneを戻り値として使おう\n",
    "def find_item(items, target):\n",
    "    for item in items:\n",
    "        if item == target:\n",
    "            return item\n",
    "    return None\n",
    "\n",
    "result = find_item([\"apple\", \"banana\"], \"orange\")\n",
    "if result is None:\n",
    "    print(\"見つかりませんでした\")\n",
    "else:\n",
    "    print(f\"見つかった: {result}\")\n"
   ]
  }
 ],
 "metadata": {},
 "nbformat": 4,
 "nbformat_minor": 5
}
