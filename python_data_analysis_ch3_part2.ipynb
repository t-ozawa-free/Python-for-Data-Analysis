{
 "cells": [
  {
   "cell_type": "markdown",
   "id": "1d0ebe40",
   "metadata": {},
   "source": [
    "# Pythonによるデータ分析：第3章 演習問題（後半6テーマ）"
   ]
  },
  {
   "cell_type": "markdown",
   "id": "5405686d",
   "metadata": {},
   "source": [
    "## 7. 関数"
   ]
  },
  {
   "cell_type": "code",
   "execution_count": 1,
   "id": "6944d97d",
   "metadata": {},
   "outputs": [
    {
     "name": "stdout",
     "output_type": "stream",
     "text": [
      "20\n"
     ]
    }
   ],
   "source": [
    "# 問1: 引数を受け取って2倍にする関数を定義してください。\n",
    "def test_func(x):\n",
    "    return x*2\n",
    "\n",
    "print(test_func(10))\n"
   ]
  },
  {
   "cell_type": "code",
   "execution_count": 2,
   "id": "687abca4",
   "metadata": {},
   "outputs": [
    {
     "name": "stdout",
     "output_type": "stream",
     "text": [
      "4\n",
      "10\n"
     ]
    }
   ],
   "source": [
    "# 問2: デフォルト引数を使った関数を定義してください。\n",
    "def test_func2(x, y=2):\n",
    "    return x*y\n",
    "print(test_func2(2))\n",
    "print(test_func2(2,5))"
   ]
  },
  {
   "cell_type": "code",
   "execution_count": 3,
   "id": "944ae9c8",
   "metadata": {},
   "outputs": [
    {
     "name": "stdout",
     "output_type": "stream",
     "text": [
      "3 4 5\n"
     ]
    }
   ],
   "source": [
    "# 問3: 複数の戻り値を返す関数を作ってください。\n",
    "def test_func3():\n",
    "    return (3,4,5)\n",
    "a,b,c = test_func3()\n",
    "\n",
    "print(a, b, c)"
   ]
  },
  {
   "cell_type": "code",
   "execution_count": 5,
   "id": "22bc7d77",
   "metadata": {},
   "outputs": [
    {
     "name": "stdout",
     "output_type": "stream",
     "text": [
      "cat dog\n",
      "dog cat\n"
     ]
    }
   ],
   "source": [
    "# 問4: キーワード引数を使って関数を呼び出してください。\n",
    "def test_func4(key1, key2):\n",
    "    print(key1,key2)\n",
    "\n",
    "test_func4(key1=\"cat\",key2=\"dog\")\n",
    "test_func4(key2=\"cat\",key1=\"dog\")"
   ]
  },
  {
   "cell_type": "code",
   "execution_count": 9,
   "id": "7abbd0e5",
   "metadata": {},
   "outputs": [
    {
     "name": "stdout",
     "output_type": "stream",
     "text": [
      "20\n"
     ]
    }
   ],
   "source": [
    "# 問5: 可変長引数（*args）を受け取る関数を定義してください。\n",
    "#ネットで調べました・・・。\n",
    "\n",
    "def test_func5(*args):\n",
    "    return max(args)\n",
    "\n",
    "print(test_func5(3,10,1,6,20,15,8))"
   ]
  },
  {
   "cell_type": "code",
   "execution_count": 13,
   "id": "3314327e",
   "metadata": {},
   "outputs": [
    {
     "name": "stdout",
     "output_type": "stream",
     "text": [
      "{'sk'}\n"
     ]
    }
   ],
   "source": [
    "# 問6: 辞書形式の可変長引数（**kwargs）を受け取る関数を定義してください。\n",
    "def test_func6(**kwargs):\n",
    "    return max(kwargs.values())\n",
    "\n",
    "test_dict = {\"cat\":2,\"dog\":1,\"oza\":42,\"sk\":61}\n",
    "\n",
    "max_num = {i for i,j in test_dict.items() if j == test_func6(**test_dict)}\n",
    "\n",
    "print(max_num)\n",
    "#print(test_func6(**test_dict))"
   ]
  },
  {
   "cell_type": "code",
   "execution_count": 14,
   "id": "96edb9fd",
   "metadata": {},
   "outputs": [
    {
     "name": "stdout",
     "output_type": "stream",
     "text": [
      "None\n",
      "1\n"
     ]
    }
   ],
   "source": [
    "# 問7: 関数内でグローバル変数にアクセスしてください。\n",
    "a = None\n",
    "\n",
    "def test_func7():\n",
    "    global a\n",
    "    a = 1\n",
    "\n",
    "print(a)\n",
    "test_func7()\n",
    "print(a)"
   ]
  },
  {
   "cell_type": "code",
   "execution_count": null,
   "id": "60d934c2",
   "metadata": {},
   "outputs": [],
   "source": [
    "# 問8: 関数のドキュメンテーション文字列（docstring）を確認してください。\n",
    "#わからない・・・。\n",
    "\n"
   ]
  },
  {
   "cell_type": "code",
   "execution_count": null,
   "id": "0454fd3a",
   "metadata": {},
   "outputs": [
    {
     "name": "stdout",
     "output_type": "stream",
     "text": [
      "11\n"
     ]
    }
   ],
   "source": [
    "# 問9: lambda式を使って2つの数の和を計算してください。\n",
    "#ちょっと調べました。\n",
    "test_func8 = lambda x,y:x+y\n",
    "\n",
    "print(test_func8(5,6))"
   ]
  },
  {
   "cell_type": "code",
   "execution_count": 19,
   "id": "abfa7cbe",
   "metadata": {},
   "outputs": [
    {
     "name": "stdout",
     "output_type": "stream",
     "text": [
      "81\n"
     ]
    }
   ],
   "source": [
    "# 問10: 関数を引数に取る関数を定義してください。\n",
    "def test_func9(x,y):\n",
    "    return x+y\n",
    "\n",
    "def test_func10(func, x, y):\n",
    "    print(func(x,y) * func(x,y))\n",
    "    return\n",
    "test_func10(test_func9,5,4)"
   ]
  },
  {
   "cell_type": "markdown",
   "id": "0f01f35e",
   "metadata": {},
   "source": [
    "## 8. 名前空間・スコープ・ローカル関数"
   ]
  },
  {
   "cell_type": "code",
   "execution_count": null,
   "id": "3224698c",
   "metadata": {},
   "outputs": [
    {
     "name": "stdout",
     "output_type": "stream",
     "text": [
      "None\n",
      "None\n",
      "1\n"
     ]
    }
   ],
   "source": [
    "# 問1: ローカル変数とグローバル変数の違いを確認してください。\n",
    "a = None\n",
    "def name_test_func1():\n",
    "    loacal_num = 1\n",
    "    print(a) #グローバル変数なのでアクセス可能\n",
    "    print(loacal_num) #この関数のローカル変数なのでアクセス可能\n",
    "\n",
    "print(a)#グローバル変数なのでどちらのでもアクセス可能\n",
    "#print(loacal_num) #ローカル変数なのでエラーになる\n",
    "\n",
    "name_test_func1()"
   ]
  },
  {
   "cell_type": "code",
   "execution_count": 26,
   "id": "cffb5d33",
   "metadata": {},
   "outputs": [
    {
     "name": "stdout",
     "output_type": "stream",
     "text": [
      "おれはローカルだ！\n"
     ]
    }
   ],
   "source": [
    "# 問2: 関数の中で別の関数（ローカル関数）を定義してください。\n",
    "def name_test_func2():\n",
    "    def name_test_local_func1():\n",
    "        print(\"おれはローカルだ！\")\n",
    "    name_test_local_func1()\n",
    "\n",
    "name_test_func2()\n",
    "#name_test_local_func1() これはエラーになってしまう。なぜならローカル関数だから！"
   ]
  },
  {
   "cell_type": "code",
   "execution_count": 31,
   "id": "00378293",
   "metadata": {},
   "outputs": [
    {
     "name": "stdout",
     "output_type": "stream",
     "text": [
      "None\n",
      "10\n"
     ]
    }
   ],
   "source": [
    "# 問3: nonlocalを使って外側のスコープの変数を変更してください。\n",
    "def name_test_func4():\n",
    "    test_sp_num = None\n",
    "\n",
    "    def name_test_func3(x):\n",
    "        nonlocal test_sp_num\n",
    "        test_sp_num = x\n",
    "\n",
    "    print(test_sp_num)\n",
    "    name_test_func3(10)\n",
    "    print(test_sp_num)\n",
    "\n",
    "name_test_func4()\n"
   ]
  },
  {
   "cell_type": "code",
   "execution_count": 32,
   "id": "16c29e5b",
   "metadata": {},
   "outputs": [
    {
     "name": "stdout",
     "output_type": "stream",
     "text": [
      "None\n",
      "5\n"
     ]
    }
   ],
   "source": [
    "# 問4: グローバル変数を変更する関数を定義してください。\n",
    "test_global_num = None\n",
    "\n",
    "def name_test_func5():\n",
    "    global test_global_num\n",
    "    test_global_num = 5\n",
    "\n",
    "print(test_global_num)\n",
    "name_test_func5()\n",
    "print(test_global_num)"
   ]
  },
  {
   "cell_type": "code",
   "execution_count": 36,
   "id": "39c3ab65",
   "metadata": {},
   "outputs": [
    {
     "name": "stdout",
     "output_type": "stream",
     "text": [
      "9801\n"
     ]
    }
   ],
   "source": [
    "# 問5: ローカル関数から値を返して実行してください。\n",
    "def name_test_func6(x):\n",
    "    def name_test_func7(x):\n",
    "        return x*x\n",
    "    print(name_test_func7(x))\n",
    "\n",
    "name_test_func6(99)"
   ]
  },
  {
   "cell_type": "code",
   "execution_count": null,
   "id": "8866fbec",
   "metadata": {},
   "outputs": [],
   "source": [
    "# 問6: 関数の中で定義された関数のスコープを確認してください。\n",
    "#ちょっとわからない・・・。"
   ]
  },
  {
   "cell_type": "code",
   "execution_count": 37,
   "id": "6582ed08",
   "metadata": {},
   "outputs": [
    {
     "name": "stdout",
     "output_type": "stream",
     "text": [
      "None\n"
     ]
    }
   ],
   "source": [
    "# 問7: グローバルスコープで変数を定義し、関数内から参照してください。\n",
    "test_global_num2 = None\n",
    "def name_test_func8():\n",
    "    global test_global_num2\n",
    "    print(test_global_num2)\n",
    "    return\n",
    "name_test_func8()"
   ]
  },
  {
   "cell_type": "code",
   "execution_count": null,
   "id": "cfa84dcf",
   "metadata": {},
   "outputs": [],
   "source": [
    "# 問8: 変数がどのスコープに属しているかを確認してください。\n",
    "#確認の仕方がいまいちわかりません・・・。"
   ]
  },
  {
   "cell_type": "code",
   "execution_count": 40,
   "id": "d836b991",
   "metadata": {},
   "outputs": [
    {
     "name": "stdout",
     "output_type": "stream",
     "text": [
      "0\n",
      "1\n",
      "4\n",
      "9\n",
      "16\n",
      "25\n",
      "36\n",
      "49\n",
      "64\n",
      "81\n"
     ]
    }
   ],
   "source": [
    "# 問9: 関数内で定義されたローカル関数を複数回呼び出してください。\n",
    "def name_test_func9():\n",
    "    def name_test_func10(y):\n",
    "        return y*y\n",
    "    for i in range(10):\n",
    "        print(name_test_func10(i))\n",
    "\n",
    "name_test_func9()"
   ]
  },
  {
   "cell_type": "code",
   "execution_count": null,
   "id": "68b55aa6",
   "metadata": {},
   "outputs": [
    {
     "ename": "NameError",
     "evalue": "name 'name_test_func12' is not defined",
     "output_type": "error",
     "traceback": [
      "\u001b[31m---------------------------------------------------------------------------\u001b[39m",
      "\u001b[31mNameError\u001b[39m                                 Traceback (most recent call last)",
      "\u001b[36mCell\u001b[39m\u001b[36m \u001b[39m\u001b[32mIn[41]\u001b[39m\u001b[32m, line 8\u001b[39m\n\u001b[32m      5\u001b[39m         \u001b[38;5;28;01mreturn\u001b[39;00m\n\u001b[32m      6\u001b[39m     \u001b[38;5;28;01mreturn\u001b[39;00m\n\u001b[32m----> \u001b[39m\u001b[32m8\u001b[39m name_test_func12()\n",
      "\u001b[31mNameError\u001b[39m: name 'name_test_func12' is not defined"
     ]
    }
   ],
   "source": [
    "# 問10: 関数定義の外からローカル関数を呼び出そうとしたときの挙動を確認してください。\n",
    "def name_test_func11():\n",
    "    def name_test_func12():\n",
    "        print(\"俺はローカル関数\")\n",
    "        return\n",
    "    return\n",
    "\n",
    "#name_test_func12() エラーになりました！！"
   ]
  },
  {
   "cell_type": "markdown",
   "id": "c7ec731c",
   "metadata": {},
   "source": [
    "## 9. ジェネレータ"
   ]
  },
  {
   "cell_type": "code",
   "execution_count": 5,
   "id": "ee236f99",
   "metadata": {},
   "outputs": [
    {
     "name": "stdout",
     "output_type": "stream",
     "text": [
      "0\n",
      "1\n",
      "4\n",
      "9\n",
      "16\n",
      "25\n",
      "36\n",
      "49\n",
      "64\n",
      "81\n"
     ]
    }
   ],
   "source": [
    "# 問1: yieldを使った簡単なジェネレータ関数を定義してください。\n",
    "def test_gen1(x):\n",
    "    for i in range(x):\n",
    "        yield i**2\n",
    "\n",
    "gen1 = test_gen1(10)\n",
    "for val in gen1:\n",
    "    print(val)\n"
   ]
  },
  {
   "cell_type": "code",
   "execution_count": 11,
   "id": "968a4495",
   "metadata": {},
   "outputs": [
    {
     "name": "stdout",
     "output_type": "stream",
     "text": [
      "0\n",
      "1\n",
      "2\n",
      "3\n",
      "4\n",
      "5\n",
      "6\n",
      "7\n",
      "8\n",
      "9\n"
     ]
    }
   ],
   "source": [
    "# 問2: rangeの代わりにジェネレータを使って数値を生成してください。\n",
    "def test_gen2(x):\n",
    "    i = 0\n",
    "    while i < x:\n",
    "        yield i\n",
    "        i+=1\n",
    "\n",
    "gen2 = test_gen2(10)\n",
    "\n",
    "for j in gen2:\n",
    "    print(j)"
   ]
  },
  {
   "cell_type": "code",
   "execution_count": 17,
   "id": "3259e9ea",
   "metadata": {},
   "outputs": [
    {
     "name": "stdout",
     "output_type": "stream",
     "text": [
      "0\n",
      "2\n",
      "4\n",
      "6\n",
      "8\n",
      "10\n",
      "12\n",
      "14\n",
      "16\n",
      "18\n",
      "20\n",
      "22\n",
      "24\n",
      "26\n",
      "28\n",
      "30\n"
     ]
    }
   ],
   "source": [
    "# 問3: ジェネレータ式を使って偶数のシーケンスを作成してください。\n",
    "def test_gen3(x):\n",
    "    for i in range(x+1):\n",
    "        if i%2==0:\n",
    "            yield i\n",
    "\n",
    "gen3 = test_gen3(30)\n",
    "\n",
    "for j in gen3:\n",
    "    print(j)"
   ]
  },
  {
   "cell_type": "code",
   "execution_count": 19,
   "id": "69b65619",
   "metadata": {},
   "outputs": [
    {
     "name": "stdout",
     "output_type": "stream",
     "text": [
      "1\n",
      "1\n",
      "2\n",
      "3\n",
      "5\n",
      "8\n",
      "13\n",
      "21\n",
      "34\n",
      "55\n"
     ]
    }
   ],
   "source": [
    "# 問4: ジェネレータを使ってフィボナッチ数列を生成してください。\n",
    "def test_gen4(count):\n",
    "    x = 1\n",
    "    y = 1\n",
    "    for _ in range(count):\n",
    "        yield x\n",
    "        x, y = y, x+y\n",
    "    \n",
    "gen4 = test_gen4(10)\n",
    "\n",
    "for i in gen4:\n",
    "    print(i)\n"
   ]
  },
  {
   "cell_type": "code",
   "execution_count": 20,
   "id": "037ec511",
   "metadata": {},
   "outputs": [
    {
     "name": "stdout",
     "output_type": "stream",
     "text": [
      "0\n",
      "2\n",
      "4\n",
      "6\n",
      "8\n",
      "10\n",
      "12\n",
      "14\n",
      "16\n",
      "18\n",
      "20\n"
     ]
    }
   ],
   "source": [
    "# 問5: next()でジェネレータから要素を1つずつ取り出してください。\n",
    "def test_gen3(x):\n",
    "    for i in range(x+1):\n",
    "        if i%2==0:\n",
    "            yield i\n",
    "\n",
    "gen3 = test_gen3(30)\n",
    "\n",
    "print(next(gen3))\n",
    "print(next(gen3))\n",
    "print(next(gen3))\n",
    "print(next(gen3))\n",
    "print(next(gen3))\n",
    "print(next(gen3))\n",
    "print(next(gen3))\n",
    "print(next(gen3))\n",
    "print(next(gen3))\n",
    "print(next(gen3))\n",
    "print(next(gen3))"
   ]
  },
  {
   "cell_type": "code",
   "execution_count": null,
   "id": "951dbe3e",
   "metadata": {},
   "outputs": [],
   "source": [
    "# 問6: for文でジェネレータをすべて消費してください。\n",
    "def test_gen3(x):\n",
    "    for i in range(x+1):\n",
    "        if i%2==0:\n",
    "            yield i\n",
    "\n",
    "gen3 = test_gen3(30)\n",
    "\n",
    "for j in gen3:\n",
    "    print(j)"
   ]
  },
  {
   "cell_type": "code",
   "execution_count": null,
   "id": "862ecf94",
   "metadata": {},
   "outputs": [],
   "source": [
    "# 問7: ジェネレータの処理が止まるタイミングを確認してください。\n",
    "#わかりません・・・。"
   ]
  },
  {
   "cell_type": "code",
   "execution_count": 26,
   "id": "acb53760",
   "metadata": {},
   "outputs": [
    {
     "name": "stdout",
     "output_type": "stream",
     "text": [
      "0\n",
      "4\n",
      "16\n",
      "36\n",
      "64\n",
      "100\n"
     ]
    }
   ],
   "source": [
    "# 問8: 複数のジェネレータを組み合わせて使ってください。\n",
    "def first_gen(x):#0～xまでの値を返す\n",
    "    for i in range(x+1):\n",
    "        yield i\n",
    "\n",
    "def second_gen(y):#yが偶数だったら値を返す\n",
    "    for i in y:\n",
    "        if i%2 == 0:\n",
    "            yield i\n",
    "\n",
    "def third_gen(z):\n",
    "    for i in z:\n",
    "        yield i**2\n",
    "\n",
    "for val in third_gen(second_gen(first_gen(10))):\n",
    "    print(val)"
   ]
  },
  {
   "cell_type": "code",
   "execution_count": null,
   "id": "4b003bd1",
   "metadata": {},
   "outputs": [],
   "source": [
    "# 問9: yield from を使ってネストされたジェネレータを定義してください。\n",
    "#わかりません・・・。"
   ]
  },
  {
   "cell_type": "code",
   "execution_count": null,
   "id": "b437bd1d",
   "metadata": {},
   "outputs": [
    {
     "name": "stdout",
     "output_type": "stream",
     "text": [
      "[0, 1, 2, 3, 4, 5, 6, 7, 8, 9]\n"
     ]
    }
   ],
   "source": [
    "# 問10: リスト内包とジェネレータ式の違いを確認してください。\n",
    "#わかりません・・・。\n",
    "\n"
   ]
  },
  {
   "cell_type": "markdown",
   "id": "e382314d",
   "metadata": {},
   "source": [
    "## 10. エラーと例外の処理"
   ]
  },
  {
   "cell_type": "code",
   "execution_count": null,
   "id": "df0a65e9",
   "metadata": {},
   "outputs": [],
   "source": [
    "# 問1: ZeroDivisionError を発生させてみてください。\n"
   ]
  },
  {
   "cell_type": "code",
   "execution_count": null,
   "id": "f98b5e1a",
   "metadata": {},
   "outputs": [],
   "source": [
    "# 問2: try-except 文を使って例外処理してください。\n"
   ]
  },
  {
   "cell_type": "code",
   "execution_count": null,
   "id": "1cb98032",
   "metadata": {},
   "outputs": [],
   "source": [
    "# 問3: 複数の例外をまとめて処理してください。\n"
   ]
  },
  {
   "cell_type": "code",
   "execution_count": null,
   "id": "cdac808c",
   "metadata": {},
   "outputs": [],
   "source": [
    "# 問4: else 節を使って例外が起きなかったときの処理を追加してください。\n"
   ]
  },
  {
   "cell_type": "code",
   "execution_count": null,
   "id": "1c29871d",
   "metadata": {},
   "outputs": [],
   "source": [
    "# 問5: finally 節で必ず実行される処理を記述してください。\n"
   ]
  },
  {
   "cell_type": "code",
   "execution_count": null,
   "id": "8a535ad0",
   "metadata": {},
   "outputs": [],
   "source": [
    "# 問6: 独自の例外クラスを定義してください。\n"
   ]
  },
  {
   "cell_type": "code",
   "execution_count": null,
   "id": "1327c23c",
   "metadata": {},
   "outputs": [],
   "source": [
    "# 問7: raise を使って例外を意図的に発生させてください。\n"
   ]
  },
  {
   "cell_type": "code",
   "execution_count": null,
   "id": "4961e88b",
   "metadata": {},
   "outputs": [],
   "source": [
    "# 問8: 例外メッセージを表示してください。\n"
   ]
  },
  {
   "cell_type": "code",
   "execution_count": null,
   "id": "eba9f12f",
   "metadata": {},
   "outputs": [],
   "source": [
    "# 問9: 関数内で例外処理を行ってください。\n"
   ]
  },
  {
   "cell_type": "code",
   "execution_count": null,
   "id": "9e456101",
   "metadata": {},
   "outputs": [],
   "source": [
    "# 問10: 例外の種類を判別して異なる処理をしてください。\n"
   ]
  },
  {
   "cell_type": "markdown",
   "id": "c5ae26c2",
   "metadata": {},
   "source": [
    "## 11. ファイルとオペレーティングシステム"
   ]
  },
  {
   "cell_type": "code",
   "execution_count": null,
   "id": "c5b0be30",
   "metadata": {},
   "outputs": [],
   "source": [
    "# 問1: テキストファイルを新規作成して書き込みをしてください。\n"
   ]
  },
  {
   "cell_type": "code",
   "execution_count": null,
   "id": "34b849cb",
   "metadata": {},
   "outputs": [],
   "source": [
    "# 問2: ファイルを開いて1行ずつ読み取ってください。\n"
   ]
  },
  {
   "cell_type": "code",
   "execution_count": null,
   "id": "9e823f17",
   "metadata": {},
   "outputs": [],
   "source": [
    "# 問3: with文を使ってファイルを安全に開いてください。\n"
   ]
  },
  {
   "cell_type": "code",
   "execution_count": null,
   "id": "e060b3b1",
   "metadata": {},
   "outputs": [],
   "source": [
    "# 問4: osモジュールを使って現在の作業ディレクトリを確認してください。\n"
   ]
  },
  {
   "cell_type": "code",
   "execution_count": null,
   "id": "8e4ecc4a",
   "metadata": {},
   "outputs": [],
   "source": [
    "# 問5: osモジュールでファイルの存在を確認してください。\n"
   ]
  },
  {
   "cell_type": "code",
   "execution_count": null,
   "id": "b97cee91",
   "metadata": {},
   "outputs": [],
   "source": [
    "# 問6: ファイルを別の場所にコピーしてください。\n"
   ]
  },
  {
   "cell_type": "code",
   "execution_count": null,
   "id": "e198de2b",
   "metadata": {},
   "outputs": [],
   "source": [
    "# 問7: ファイルサイズを取得してください。\n"
   ]
  },
  {
   "cell_type": "code",
   "execution_count": null,
   "id": "dcf2c9a4",
   "metadata": {},
   "outputs": [],
   "source": [
    "# 問8: 複数行のテキストを一度に読み込んでリスト化してください。\n"
   ]
  },
  {
   "cell_type": "code",
   "execution_count": null,
   "id": "cd6373fe",
   "metadata": {},
   "outputs": [],
   "source": [
    "# 問9: ファイルに追記してください。\n"
   ]
  },
  {
   "cell_type": "code",
   "execution_count": null,
   "id": "3bfd7515",
   "metadata": {},
   "outputs": [],
   "source": [
    "# 問10: ファイルの存在を確認して、なければ作成してください。\n"
   ]
  },
  {
   "cell_type": "markdown",
   "id": "09017945",
   "metadata": {},
   "source": [
    "## 12. バイトとUnicode"
   ]
  },
  {
   "cell_type": "code",
   "execution_count": null,
   "id": "4f5e62c8",
   "metadata": {},
   "outputs": [],
   "source": [
    "# 問1: バイト列を定義してください。\n"
   ]
  },
  {
   "cell_type": "code",
   "execution_count": null,
   "id": "d7ef78ee",
   "metadata": {},
   "outputs": [],
   "source": [
    "# 問2: 文字列をUTF-8でバイト列に変換してください。\n"
   ]
  },
  {
   "cell_type": "code",
   "execution_count": null,
   "id": "ca8e8f96",
   "metadata": {},
   "outputs": [],
   "source": [
    "# 問3: バイト列をUTF-8でデコードしてください。\n"
   ]
  },
  {
   "cell_type": "code",
   "execution_count": null,
   "id": "f2c71459",
   "metadata": {},
   "outputs": [],
   "source": [
    "# 問4: ファイルにバイナリデータを書き込んでください。\n"
   ]
  },
  {
   "cell_type": "code",
   "execution_count": null,
   "id": "5c9b2a37",
   "metadata": {},
   "outputs": [],
   "source": [
    "# 問5: ファイルからバイナリデータを読み取ってください。\n"
   ]
  },
  {
   "cell_type": "code",
   "execution_count": null,
   "id": "4198635c",
   "metadata": {},
   "outputs": [],
   "source": [
    "# 問6: 文字列に含まれるUnicodeコードポイントを確認してください。\n"
   ]
  },
  {
   "cell_type": "code",
   "execution_count": null,
   "id": "473961be",
   "metadata": {},
   "outputs": [],
   "source": [
    "# 問7: 文字列に含まれる特殊文字（例：絵文字）をバイト列に変換してください。\n"
   ]
  },
  {
   "cell_type": "code",
   "execution_count": null,
   "id": "0727cd35",
   "metadata": {},
   "outputs": [],
   "source": [
    "# 問8: バイト列の長さと文字列の長さの違いを確認してください。\n"
   ]
  },
  {
   "cell_type": "code",
   "execution_count": null,
   "id": "3380807b",
   "metadata": {},
   "outputs": [],
   "source": [
    "# 問9: バイト列から一部をスライスして取り出してください。\n"
   ]
  },
  {
   "cell_type": "code",
   "execution_count": null,
   "id": "2b114f3f",
   "metadata": {},
   "outputs": [],
   "source": [
    "# 問10: ファイルのエンコーディングを指定して開いてください。\n"
   ]
  }
 ],
 "metadata": {
  "kernelspec": {
   "display_name": "ai-study",
   "language": "python",
   "name": "python3"
  },
  "language_info": {
   "codemirror_mode": {
    "name": "ipython",
    "version": 3
   },
   "file_extension": ".py",
   "mimetype": "text/x-python",
   "name": "python",
   "nbconvert_exporter": "python",
   "pygments_lexer": "ipython3",
   "version": "3.11.13"
  }
 },
 "nbformat": 4,
 "nbformat_minor": 5
}
