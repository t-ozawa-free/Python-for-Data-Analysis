{
 "cells": [
  {
   "cell_type": "markdown",
   "id": "1d0ebe40",
   "metadata": {},
   "source": [
    "# Pythonによるデータ分析：第3章 演習問題（後半6テーマ）"
   ]
  },
  {
   "cell_type": "markdown",
   "id": "5405686d",
   "metadata": {},
   "source": [
    "## 7. 関数"
   ]
  },
  {
   "cell_type": "code",
   "execution_count": null,
   "id": "6944d97d",
   "metadata": {},
   "outputs": [],
   "source": [
    "# 問1: 引数を受け取って2倍にする関数を定義してください。\n"
   ]
  },
  {
   "cell_type": "code",
   "execution_count": null,
   "id": "687abca4",
   "metadata": {},
   "outputs": [],
   "source": [
    "# 問2: デフォルト引数を使った関数を定義してください。\n"
   ]
  },
  {
   "cell_type": "code",
   "execution_count": null,
   "id": "944ae9c8",
   "metadata": {},
   "outputs": [],
   "source": [
    "# 問3: 複数の戻り値を返す関数を作ってください。\n"
   ]
  },
  {
   "cell_type": "code",
   "execution_count": null,
   "id": "22bc7d77",
   "metadata": {},
   "outputs": [],
   "source": [
    "# 問4: キーワード引数を使って関数を呼び出してください。\n"
   ]
  },
  {
   "cell_type": "code",
   "execution_count": null,
   "id": "7abbd0e5",
   "metadata": {},
   "outputs": [],
   "source": [
    "# 問5: 可変長引数（*args）を受け取る関数を定義してください。\n"
   ]
  },
  {
   "cell_type": "code",
   "execution_count": null,
   "id": "3314327e",
   "metadata": {},
   "outputs": [],
   "source": [
    "# 問6: 辞書形式の可変長引数（**kwargs）を受け取る関数を定義してください。\n"
   ]
  },
  {
   "cell_type": "code",
   "execution_count": null,
   "id": "96edb9fd",
   "metadata": {},
   "outputs": [],
   "source": [
    "# 問7: 関数内でグローバル変数にアクセスしてください。\n"
   ]
  },
  {
   "cell_type": "code",
   "execution_count": null,
   "id": "60d934c2",
   "metadata": {},
   "outputs": [],
   "source": [
    "# 問8: 関数のドキュメンテーション文字列（docstring）を確認してください。\n"
   ]
  },
  {
   "cell_type": "code",
   "execution_count": null,
   "id": "0454fd3a",
   "metadata": {},
   "outputs": [],
   "source": [
    "# 問9: lambda式を使って2つの数の和を計算してください。\n"
   ]
  },
  {
   "cell_type": "code",
   "execution_count": null,
   "id": "abfa7cbe",
   "metadata": {},
   "outputs": [],
   "source": [
    "# 問10: 関数を引数に取る関数を定義してください。\n"
   ]
  },
  {
   "cell_type": "markdown",
   "id": "0f01f35e",
   "metadata": {},
   "source": [
    "## 8. 名前空間・スコープ・ローカル関数"
   ]
  },
  {
   "cell_type": "code",
   "execution_count": null,
   "id": "3224698c",
   "metadata": {},
   "outputs": [],
   "source": [
    "# 問1: ローカル変数とグローバル変数の違いを確認してください。\n"
   ]
  },
  {
   "cell_type": "code",
   "execution_count": null,
   "id": "cffb5d33",
   "metadata": {},
   "outputs": [],
   "source": [
    "# 問2: 関数の中で別の関数（ローカル関数）を定義してください。\n"
   ]
  },
  {
   "cell_type": "code",
   "execution_count": null,
   "id": "00378293",
   "metadata": {},
   "outputs": [],
   "source": [
    "# 問3: nonlocalを使って外側のスコープの変数を変更してください。\n"
   ]
  },
  {
   "cell_type": "code",
   "execution_count": null,
   "id": "16c29e5b",
   "metadata": {},
   "outputs": [],
   "source": [
    "# 問4: グローバル変数を変更する関数を定義してください。\n"
   ]
  },
  {
   "cell_type": "code",
   "execution_count": null,
   "id": "39c3ab65",
   "metadata": {},
   "outputs": [],
   "source": [
    "# 問5: ローカル関数から値を返して実行してください。\n"
   ]
  },
  {
   "cell_type": "code",
   "execution_count": null,
   "id": "8866fbec",
   "metadata": {},
   "outputs": [],
   "source": [
    "# 問6: 関数の中で定義された関数のスコープを確認してください。\n"
   ]
  },
  {
   "cell_type": "code",
   "execution_count": null,
   "id": "6582ed08",
   "metadata": {},
   "outputs": [],
   "source": [
    "# 問7: グローバルスコープで変数を定義し、関数内から参照してください。\n"
   ]
  },
  {
   "cell_type": "code",
   "execution_count": null,
   "id": "cfa84dcf",
   "metadata": {},
   "outputs": [],
   "source": [
    "# 問8: 変数がどのスコープに属しているかを確認してください。\n"
   ]
  },
  {
   "cell_type": "code",
   "execution_count": null,
   "id": "d836b991",
   "metadata": {},
   "outputs": [],
   "source": [
    "# 問9: 関数内で定義されたローカル関数を複数回呼び出してください。\n"
   ]
  },
  {
   "cell_type": "code",
   "execution_count": null,
   "id": "68b55aa6",
   "metadata": {},
   "outputs": [],
   "source": [
    "# 問10: 関数定義の外からローカル関数を呼び出そうとしたときの挙動を確認してください。\n"
   ]
  },
  {
   "cell_type": "markdown",
   "id": "c7ec731c",
   "metadata": {},
   "source": [
    "## 9. ジェネレータ"
   ]
  },
  {
   "cell_type": "code",
   "execution_count": null,
   "id": "ee236f99",
   "metadata": {},
   "outputs": [],
   "source": [
    "# 問1: yieldを使った簡単なジェネレータ関数を定義してください。\n"
   ]
  },
  {
   "cell_type": "code",
   "execution_count": null,
   "id": "968a4495",
   "metadata": {},
   "outputs": [],
   "source": [
    "# 問2: rangeの代わりにジェネレータを使って数値を生成してください。\n"
   ]
  },
  {
   "cell_type": "code",
   "execution_count": null,
   "id": "3259e9ea",
   "metadata": {},
   "outputs": [],
   "source": [
    "# 問3: ジェネレータ式を使って偶数のシーケンスを作成してください。\n"
   ]
  },
  {
   "cell_type": "code",
   "execution_count": null,
   "id": "69b65619",
   "metadata": {},
   "outputs": [],
   "source": [
    "# 問4: ジェネレータを使ってフィボナッチ数列を生成してください。\n"
   ]
  },
  {
   "cell_type": "code",
   "execution_count": null,
   "id": "037ec511",
   "metadata": {},
   "outputs": [],
   "source": [
    "# 問5: next()でジェネレータから要素を1つずつ取り出してください。\n"
   ]
  },
  {
   "cell_type": "code",
   "execution_count": null,
   "id": "951dbe3e",
   "metadata": {},
   "outputs": [],
   "source": [
    "# 問6: for文でジェネレータをすべて消費してください。\n"
   ]
  },
  {
   "cell_type": "code",
   "execution_count": null,
   "id": "862ecf94",
   "metadata": {},
   "outputs": [],
   "source": [
    "# 問7: ジェネレータの処理が止まるタイミングを確認してください。\n"
   ]
  },
  {
   "cell_type": "code",
   "execution_count": null,
   "id": "acb53760",
   "metadata": {},
   "outputs": [],
   "source": [
    "# 問8: 複数のジェネレータを組み合わせて使ってください。\n"
   ]
  },
  {
   "cell_type": "code",
   "execution_count": null,
   "id": "4b003bd1",
   "metadata": {},
   "outputs": [],
   "source": [
    "# 問9: yield from を使ってネストされたジェネレータを定義してください。\n"
   ]
  },
  {
   "cell_type": "code",
   "execution_count": null,
   "id": "b437bd1d",
   "metadata": {},
   "outputs": [],
   "source": [
    "# 問10: リスト内包とジェネレータ式の違いを確認してください。\n"
   ]
  },
  {
   "cell_type": "markdown",
   "id": "e382314d",
   "metadata": {},
   "source": [
    "## 10. エラーと例外の処理"
   ]
  },
  {
   "cell_type": "code",
   "execution_count": null,
   "id": "df0a65e9",
   "metadata": {},
   "outputs": [],
   "source": [
    "# 問1: ZeroDivisionError を発生させてみてください。\n"
   ]
  },
  {
   "cell_type": "code",
   "execution_count": null,
   "id": "f98b5e1a",
   "metadata": {},
   "outputs": [],
   "source": [
    "# 問2: try-except 文を使って例外処理してください。\n"
   ]
  },
  {
   "cell_type": "code",
   "execution_count": null,
   "id": "1cb98032",
   "metadata": {},
   "outputs": [],
   "source": [
    "# 問3: 複数の例外をまとめて処理してください。\n"
   ]
  },
  {
   "cell_type": "code",
   "execution_count": null,
   "id": "cdac808c",
   "metadata": {},
   "outputs": [],
   "source": [
    "# 問4: else 節を使って例外が起きなかったときの処理を追加してください。\n"
   ]
  },
  {
   "cell_type": "code",
   "execution_count": null,
   "id": "1c29871d",
   "metadata": {},
   "outputs": [],
   "source": [
    "# 問5: finally 節で必ず実行される処理を記述してください。\n"
   ]
  },
  {
   "cell_type": "code",
   "execution_count": null,
   "id": "8a535ad0",
   "metadata": {},
   "outputs": [],
   "source": [
    "# 問6: 独自の例外クラスを定義してください。\n"
   ]
  },
  {
   "cell_type": "code",
   "execution_count": null,
   "id": "1327c23c",
   "metadata": {},
   "outputs": [],
   "source": [
    "# 問7: raise を使って例外を意図的に発生させてください。\n"
   ]
  },
  {
   "cell_type": "code",
   "execution_count": null,
   "id": "4961e88b",
   "metadata": {},
   "outputs": [],
   "source": [
    "# 問8: 例外メッセージを表示してください。\n"
   ]
  },
  {
   "cell_type": "code",
   "execution_count": null,
   "id": "eba9f12f",
   "metadata": {},
   "outputs": [],
   "source": [
    "# 問9: 関数内で例外処理を行ってください。\n"
   ]
  },
  {
   "cell_type": "code",
   "execution_count": null,
   "id": "9e456101",
   "metadata": {},
   "outputs": [],
   "source": [
    "# 問10: 例外の種類を判別して異なる処理をしてください。\n"
   ]
  },
  {
   "cell_type": "markdown",
   "id": "c5ae26c2",
   "metadata": {},
   "source": [
    "## 11. ファイルとオペレーティングシステム"
   ]
  },
  {
   "cell_type": "code",
   "execution_count": null,
   "id": "c5b0be30",
   "metadata": {},
   "outputs": [],
   "source": [
    "# 問1: テキストファイルを新規作成して書き込みをしてください。\n"
   ]
  },
  {
   "cell_type": "code",
   "execution_count": null,
   "id": "34b849cb",
   "metadata": {},
   "outputs": [],
   "source": [
    "# 問2: ファイルを開いて1行ずつ読み取ってください。\n"
   ]
  },
  {
   "cell_type": "code",
   "execution_count": null,
   "id": "9e823f17",
   "metadata": {},
   "outputs": [],
   "source": [
    "# 問3: with文を使ってファイルを安全に開いてください。\n"
   ]
  },
  {
   "cell_type": "code",
   "execution_count": null,
   "id": "e060b3b1",
   "metadata": {},
   "outputs": [],
   "source": [
    "# 問4: osモジュールを使って現在の作業ディレクトリを確認してください。\n"
   ]
  },
  {
   "cell_type": "code",
   "execution_count": null,
   "id": "8e4ecc4a",
   "metadata": {},
   "outputs": [],
   "source": [
    "# 問5: osモジュールでファイルの存在を確認してください。\n"
   ]
  },
  {
   "cell_type": "code",
   "execution_count": null,
   "id": "b97cee91",
   "metadata": {},
   "outputs": [],
   "source": [
    "# 問6: ファイルを別の場所にコピーしてください。\n"
   ]
  },
  {
   "cell_type": "code",
   "execution_count": null,
   "id": "e198de2b",
   "metadata": {},
   "outputs": [],
   "source": [
    "# 問7: ファイルサイズを取得してください。\n"
   ]
  },
  {
   "cell_type": "code",
   "execution_count": null,
   "id": "dcf2c9a4",
   "metadata": {},
   "outputs": [],
   "source": [
    "# 問8: 複数行のテキストを一度に読み込んでリスト化してください。\n"
   ]
  },
  {
   "cell_type": "code",
   "execution_count": null,
   "id": "cd6373fe",
   "metadata": {},
   "outputs": [],
   "source": [
    "# 問9: ファイルに追記してください。\n"
   ]
  },
  {
   "cell_type": "code",
   "execution_count": null,
   "id": "3bfd7515",
   "metadata": {},
   "outputs": [],
   "source": [
    "# 問10: ファイルの存在を確認して、なければ作成してください。\n"
   ]
  },
  {
   "cell_type": "markdown",
   "id": "09017945",
   "metadata": {},
   "source": [
    "## 12. バイトとUnicode"
   ]
  },
  {
   "cell_type": "code",
   "execution_count": null,
   "id": "4f5e62c8",
   "metadata": {},
   "outputs": [],
   "source": [
    "# 問1: バイト列を定義してください。\n"
   ]
  },
  {
   "cell_type": "code",
   "execution_count": null,
   "id": "d7ef78ee",
   "metadata": {},
   "outputs": [],
   "source": [
    "# 問2: 文字列をUTF-8でバイト列に変換してください。\n"
   ]
  },
  {
   "cell_type": "code",
   "execution_count": null,
   "id": "ca8e8f96",
   "metadata": {},
   "outputs": [],
   "source": [
    "# 問3: バイト列をUTF-8でデコードしてください。\n"
   ]
  },
  {
   "cell_type": "code",
   "execution_count": null,
   "id": "f2c71459",
   "metadata": {},
   "outputs": [],
   "source": [
    "# 問4: ファイルにバイナリデータを書き込んでください。\n"
   ]
  },
  {
   "cell_type": "code",
   "execution_count": null,
   "id": "5c9b2a37",
   "metadata": {},
   "outputs": [],
   "source": [
    "# 問5: ファイルからバイナリデータを読み取ってください。\n"
   ]
  },
  {
   "cell_type": "code",
   "execution_count": null,
   "id": "4198635c",
   "metadata": {},
   "outputs": [],
   "source": [
    "# 問6: 文字列に含まれるUnicodeコードポイントを確認してください。\n"
   ]
  },
  {
   "cell_type": "code",
   "execution_count": null,
   "id": "473961be",
   "metadata": {},
   "outputs": [],
   "source": [
    "# 問7: 文字列に含まれる特殊文字（例：絵文字）をバイト列に変換してください。\n"
   ]
  },
  {
   "cell_type": "code",
   "execution_count": null,
   "id": "0727cd35",
   "metadata": {},
   "outputs": [],
   "source": [
    "# 問8: バイト列の長さと文字列の長さの違いを確認してください。\n"
   ]
  },
  {
   "cell_type": "code",
   "execution_count": null,
   "id": "3380807b",
   "metadata": {},
   "outputs": [],
   "source": [
    "# 問9: バイト列から一部をスライスして取り出してください。\n"
   ]
  },
  {
   "cell_type": "code",
   "execution_count": null,
   "id": "2b114f3f",
   "metadata": {},
   "outputs": [],
   "source": [
    "# 問10: ファイルのエンコーディングを指定して開いてください。\n"
   ]
  }
 ],
 "metadata": {},
 "nbformat": 4,
 "nbformat_minor": 5
}