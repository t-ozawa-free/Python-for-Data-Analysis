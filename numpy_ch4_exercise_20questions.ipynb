{
 "cells": [
  {
   "cell_type": "code",
   "execution_count": null,
   "id": "8045b8bc",
   "metadata": {},
   "outputs": [
    {
     "name": "stdout",
     "output_type": "stream",
     "text": [
      "[0. 1. 2. 3. 4. 5. 6. 7. 8. 9.]\n"
     ]
    }
   ],
   "source": [
    "# ↓ここにコードを記入してください\n",
    "# 問1：NumPy配列の作成\n",
    "# 0から9までの整数を要素に持つ1次元ndarrayを作成し、出力してください。\n",
    "import numpy as np\n",
    "\n",
    "arr = np.linspace(0,9,10)\n",
    "\n",
    "print(arr)\n"
   ]
  },
  {
   "cell_type": "code",
   "execution_count": 13,
   "id": "2b1d4bf9",
   "metadata": {},
   "outputs": [
    {
     "name": "stdout",
     "output_type": "stream",
     "text": [
      "[[0 1 2]\n",
      " [3 4 5]\n",
      " [6 7 8]]\n"
     ]
    }
   ],
   "source": [
    "# ↓ここにコードを記入してください\n",
    "# 問2：2次元配列の作成\n",
    "# 3行3列のndarrayを、0から8までの整数で埋めて作成してください。\n",
    "\n",
    "arr2 = np.array(([0,1,2],[3,4,5],[6,7,8]))\n",
    "\n",
    "print(arr2)"
   ]
  },
  {
   "cell_type": "code",
   "execution_count": 16,
   "id": "89d76adc",
   "metadata": {},
   "outputs": [
    {
     "name": "stdout",
     "output_type": "stream",
     "text": [
      "int64\n"
     ]
    }
   ],
   "source": [
    "# ↓ここにコードを記入してください\n",
    "# 問3：データ型の確認\n",
    "# 上記の配列のデータ型（dtype）を確認して表示してください。\n",
    "\n",
    "print(arr2.dtype)"
   ]
  },
  {
   "cell_type": "code",
   "execution_count": 25,
   "id": "32303915",
   "metadata": {},
   "outputs": [
    {
     "name": "stdout",
     "output_type": "stream",
     "text": [
      "[0. 1. 1. 1. 1. 1. 1. 1. 1. 1. 1. 1. 1. 1. 1. 1. 1. 1. 1. 1. 1. 1. 1. 1.\n",
      " 1. 1. 1. 1. 1. 1. 1. 1.]\n"
     ]
    }
   ],
   "source": [
    "# ↓ここにコードを記入してください\n",
    "# 問4：ユニバーサル関数の使用\n",
    "# 0からπまでを0.1刻みで生成した配列にsin関数を適用し、結果を出力してください。\n",
    "\n",
    "\n",
    "arr3 = np.arange(0, np.pi ,0.1)\n",
    "arr4 = np.sign(arr3)\n",
    "print(arr4)"
   ]
  },
  {
   "cell_type": "code",
   "execution_count": 27,
   "id": "ad761df3",
   "metadata": {},
   "outputs": [
    {
     "name": "stdout",
     "output_type": "stream",
     "text": [
      "(array([ 0,  2,  4,  6,  8, 10, 12, 14, 16, 18]),)\n"
     ]
    }
   ],
   "source": [
    "# ↓ここにコードを記入してください\n",
    "# 問5：要素の条件抽出\n",
    "# 0～20の整数からなる配列を作成し、偶数の要素だけを抽出して表示してください。\n",
    "\n",
    "arr4 = np.arange(0,20)\n",
    "\n",
    "print(np.where(arr4 % 2 == 0))\n",
    "\n"
   ]
  },
  {
   "cell_type": "code",
   "execution_count": 34,
   "id": "fdda8400",
   "metadata": {},
   "outputs": [
    {
     "name": "stdout",
     "output_type": "stream",
     "text": [
      "(3, 1)\n",
      "(1, 4)\n",
      "[[ 5  6  7  8]\n",
      " [ 6  7  8  9]\n",
      " [ 7  8  9 10]]\n"
     ]
    }
   ],
   "source": [
    "# ↓ここにコードを記入してください\n",
    "# 問6：配列のブロードキャスト\n",
    "# shape (3,1) と shape (1,4) の配列を足し算し、結果を出力してください。\n",
    "\n",
    "arr5 = np.array([[1],[2],[3]])\n",
    "arr6 = np.array([[4,5,6,7]])\n",
    "\n",
    "print(arr5.shape)\n",
    "print(arr6.shape)\n",
    "\n",
    "print(arr5+arr6)"
   ]
  },
  {
   "cell_type": "code",
   "execution_count": 41,
   "id": "0e2ba214",
   "metadata": {},
   "outputs": [
    {
     "name": "stdout",
     "output_type": "stream",
     "text": [
      "[0 1 2 3 4 5 6 7 8 9]\n",
      "[64 64]\n"
     ]
    }
   ],
   "source": [
    "# ↓ここにコードを記入してください\n",
    "# 問7：配列のスライスとコピー\n",
    "# 1次元配列からスライスした部分配列を変更しても元の配列に影響がないようにしてください。\n",
    "\n",
    "arr7 = np.arange(10)\n",
    "\n",
    "arr8 = np.copy(arr7[3:5])\n",
    "\n",
    "arr8[:] = 64\n",
    "\n",
    "print(arr7)\n",
    "print(arr8)"
   ]
  },
  {
   "cell_type": "code",
   "execution_count": 42,
   "id": "95ce31c3",
   "metadata": {},
   "outputs": [
    {
     "name": "stdout",
     "output_type": "stream",
     "text": [
      "[12 15 18]\n",
      "[ 6 15 24]\n"
     ]
    }
   ],
   "source": [
    "# ↓ここにコードを記入してください\n",
    "# 問8：配列の軸方向の合計\n",
    "# shape (3,3) の配列を作成し、axis=0 と axis=1 での合計をそれぞれ表示してください。\n",
    "\n",
    "arr9 = np.array([[1,2,3],[4,5,6],[7,8,9]])\n",
    "\n",
    "print(np.sum(arr9, axis=0))\n",
    "print(np.sum(arr9, axis=1))\n"
   ]
  },
  {
   "cell_type": "code",
   "execution_count": 46,
   "id": "25698ef0",
   "metadata": {},
   "outputs": [
    {
     "name": "stdout",
     "output_type": "stream",
     "text": [
      "[ 11  12  13  14  15  16  17  18  19 110]\n"
     ]
    }
   ],
   "source": [
    "# ↓ここにコードを記入してください\n",
    "# 問9：ブールインデックスの利用\n",
    "# 任意の5×5配列を作成し、10より大きい要素だけを抽出してください。\n",
    "\n",
    "arr10 = np.array([[1,2,3,4,5],[6,7,8,9,10],[11,12,13,14,15],[16,17,18,19,110],[1,2,3,4,5]])\n",
    "\n",
    "arr11 = arr10[arr10 > 10]\n",
    "\n",
    "print(arr11)"
   ]
  },
  {
   "cell_type": "code",
   "execution_count": 48,
   "id": "863aee32",
   "metadata": {},
   "outputs": [
    {
     "name": "stdout",
     "output_type": "stream",
     "text": [
      "[3 5 7]\n"
     ]
    }
   ],
   "source": [
    "# ↓ここにコードを記入してください\n",
    "# 問10：Fancy Indexで要素抽出\n",
    "# 任意の1次元配列から、[2, 4, 6] 番目の要素を抽出してください。\n",
    "\n",
    "arr12 = np.array([1,2,3,4,5,6,7,8,9,10])\n",
    "\n",
    "print(arr12[[2,4,6]])"
   ]
  },
  {
   "cell_type": "code",
   "execution_count": 66,
   "id": "4b9ee71b",
   "metadata": {},
   "outputs": [
    {
     "name": "stdout",
     "output_type": "stream",
     "text": [
      "[-2.02859611  1.4814767   0.2645628   0.56291997 -0.15664535  0.10740438\n",
      " -1.16894858  0.77954732  0.98146101 -0.05156785]\n",
      "[0.         1.4814767  0.2645628  0.56291997 0.         0.10740438\n",
      " 0.         0.77954732 0.98146101 0.        ]\n"
     ]
    }
   ],
   "source": [
    "# ↓ここにコードを記入してください\n",
    "# 問11：where関数の利用\n",
    "# ランダムな10個の整数の配列を作成し、0以上の要素はそのまま、負の要素は0に変換した配列を作成してください。\n",
    "\n",
    "arr13 = np.random.standard_normal(size=10)\n",
    "print(arr13)\n",
    "arr13 = np.where(arr13 < 0, 0,arr13)\n",
    "print(arr13)"
   ]
  },
  {
   "cell_type": "code",
   "execution_count": 68,
   "id": "f9f62522",
   "metadata": {},
   "outputs": [
    {
     "name": "stdout",
     "output_type": "stream",
     "text": [
      "[[ 1  2  3  4  5  6]\n",
      " [ 7  8  9 10 11 12]]\n",
      "[[ 1  2  3  4]\n",
      " [ 5  6  7  8]\n",
      " [ 9 10 11 12]]\n",
      "[[ 1  5  9]\n",
      " [ 2  6 10]\n",
      " [ 3  7 11]\n",
      " [ 4  8 12]]\n"
     ]
    }
   ],
   "source": [
    "# ↓ここにコードを記入してください\n",
    "# 問12：転置とreshape\n",
    "# shape (2,6) の配列を作成し、shape (3,4) に reshape した後に転置してください。\n",
    "\n",
    "arr14 = np.array([[1,2,3,4,5,6],[7,8,9,10,11,12]])\n",
    "print(arr14)\n",
    "\n",
    "arr14 = arr14.reshape(3,4)\n",
    "\n",
    "print(arr14)\n",
    "\n",
    "arr14 = arr14.T\n",
    "\n",
    "print(arr14)\n"
   ]
  },
  {
   "cell_type": "code",
   "execution_count": 69,
   "id": "11cbbd23",
   "metadata": {},
   "outputs": [
    {
     "name": "stdout",
     "output_type": "stream",
     "text": [
      "6.5\n",
      "6.5\n",
      "3.452052529534663\n"
     ]
    }
   ],
   "source": [
    "# ↓ここにコードを記入してください\n",
    "# 問13：平均・中央値・標準偏差\n",
    "# 任意の配列に対して mean, median, std を計算してください。\n",
    "\n",
    "arr14_mean = np.mean(arr14)\n",
    "arr14_median = np.median(arr14)\n",
    "arr14_std = np.std(arr14)\n",
    "\n",
    "print(arr14_mean)\n",
    "print(arr14_median)\n",
    "print(arr14_std)"
   ]
  },
  {
   "cell_type": "code",
   "execution_count": null,
   "id": "5cb298a6",
   "metadata": {},
   "outputs": [
    {
     "name": "stdout",
     "output_type": "stream",
     "text": [
      "[ 0.45587491  1.0239144  -1.02320539  0.52969766 -1.77470536 -0.51201746\n",
      "  1.44615873  0.62622539 -1.83977983 -0.40950031]\n"
     ]
    }
   ],
   "source": [
    "# ↓ここにコードを記入してください\n",
    "# 問14：np.argsortの利用\n",
    "# ランダムな10個の整数の配列を昇順にソートし、そのソート順のインデックスを表示してください。\n",
    "\n",
    "#わかりません！\n"
   ]
  },
  {
   "cell_type": "code",
   "execution_count": 71,
   "id": "dc389d45",
   "metadata": {},
   "outputs": [
    {
     "name": "stdout",
     "output_type": "stream",
     "text": [
      "[ 10   5   3  78 123   1   5  79  12   0]\n",
      "[False False False  True  True False False  True  True False]\n"
     ]
    }
   ],
   "source": [
    "# ↓ここにコードを記入してください\n",
    "# 問15：ブール配列の作成\n",
    "# 任意の配列に対して、10より大きいかどうかを判定するブール配列を作成してください。\n",
    "\n",
    "arr15 = np.array([10,5,3,78,123,1,5,79,12,0])\n",
    "arr15_bool = arr15 > 10\n",
    "print(arr15)\n",
    "print(arr15_bool)"
   ]
  },
  {
   "cell_type": "code",
   "execution_count": 72,
   "id": "2874f031",
   "metadata": {},
   "outputs": [
    {
     "name": "stdout",
     "output_type": "stream",
     "text": [
      "[   1    2    2    2    4   65    7    4   24   35 2431    3   56    1\n",
      "   65    1]\n",
      "[   1    2    3    4    7   24   35   56   65 2431]\n"
     ]
    }
   ],
   "source": [
    "# ↓ここにコードを記入してください\n",
    "# 問16：np.uniqueの利用\n",
    "# 重複を含む1次元配列を作成し、ユニークな要素だけを取得してください。\n",
    "\n",
    "arr16 = np.array([1,2,2,2,4,65,7,4,24,35,2431,3,56,1,65,1])\n",
    "\n",
    "arr16_uni = np.unique(arr16)\n",
    "\n",
    "print(arr16)\n",
    "print(arr16_uni)"
   ]
  },
  {
   "cell_type": "code",
   "execution_count": 74,
   "id": "8cde4a3a",
   "metadata": {},
   "outputs": [
    {
     "name": "stdout",
     "output_type": "stream",
     "text": [
      "[[ 0.37772147 -1.06928078  0.23380512 -2.20106613  0.03765673]\n",
      " [-0.73485311 -0.88750983 -0.85267199 -0.25917273  0.23117293]\n",
      " [ 1.15612198  1.76596308 -0.5083501   0.13281773 -0.16024591]]\n",
      "[[-0.98827867 -0.75724152 -0.86184329 -0.16348749 -1.58120042]\n",
      " [ 0.89107961 -1.42658037  0.5538194  -2.76865659  1.07619749]\n",
      " [ 0.8634787  -2.04690008  0.45683853  1.94870597  0.21738019]]\n",
      "[[-0.6105572  -1.8265223  -0.62803817 -2.36455361 -1.5435437 ]\n",
      " [ 0.1562265  -2.3140902  -0.29885259 -3.02782931  1.30737042]\n",
      " [ 2.01960068 -0.280937   -0.05151157  2.0815237   0.05713428]]\n",
      "[[ 1.36600015 -0.31203926  1.09564842 -2.03757864  1.61885715]\n",
      " [-1.62593272  0.53907054 -1.40649139  2.50948386 -0.84502456]\n",
      " [ 0.29264329  3.81286316 -0.96518863 -1.81588824 -0.3776261 ]]\n",
      "[[-0.37329408  0.80970381 -0.20150338  0.35984677 -0.05954283]\n",
      " [-0.65481263  1.2661041  -0.47222629  0.71756028  0.24878773]\n",
      " [ 0.99828671 -3.61474997 -0.23223391  0.2588227  -0.03483429]]\n"
     ]
    }
   ],
   "source": [
    "# ↓ここにコードを記入してください\n",
    "# 問17：ndarrayの演算\n",
    "# 任意の2つの同じshapeの配列を作成し、加算・減算・乗算を行ってください。\n",
    "\n",
    "arr17_1 = np.random.standard_normal(size=15).reshape(3,5)\n",
    "arr17_2 = np.random.standard_normal(size=15).reshape(3,5)\n",
    "\n",
    "print(arr17_1)\n",
    "print(arr17_2)\n",
    "\n",
    "print(arr17_1 + arr17_2)\n",
    "print(arr17_1 - arr17_2)\n",
    "print(arr17_1 * arr17_2)\n"
   ]
  },
  {
   "cell_type": "code",
   "execution_count": 79,
   "id": "bab5d95a",
   "metadata": {},
   "outputs": [
    {
     "name": "stdout",
     "output_type": "stream",
     "text": [
      "[1.24181242 0.33809702 0.37607867 0.02880582]\n"
     ]
    }
   ],
   "source": [
    "# ↓ここにコードを記入してください\n",
    "# 問18：axisを指定した最大値\n",
    "# shape (4,5) の配列に対して、axis=1 方向の最大値を取得してください。\n",
    "arr18 = np.random.standard_normal(size=20).reshape(4,5)\n",
    "\n",
    "print(np.max(arr18,axis=1))"
   ]
  },
  {
   "cell_type": "code",
   "execution_count": 91,
   "id": "b811ac90",
   "metadata": {},
   "outputs": [
    {
     "name": "stdout",
     "output_type": "stream",
     "text": [
      "[[ 0  1  2  3  4]\n",
      " [ 5  6  7  8  9]\n",
      " [10 11 12 13 14]\n",
      " [15 16 17 18 19]]\n",
      "[[0 0 0 0 0]\n",
      " [1 1 1 1 1]\n",
      " [1 1 1 1 1]\n",
      " [1 1 1 1 1]]\n"
     ]
    }
   ],
   "source": [
    "# ↓ここにコードを記入してください\n",
    "# 問19：ndarrayの要素置換\n",
    "# 任意の配列において、5未満の値を0に、それ以外を1に変換した配列を作成してください。\n",
    "\n",
    "arr19 = np.arange(20).reshape(4,5)\n",
    "\n",
    "arr19_5 = np.where(arr19 < 5, 0,1)\n",
    "\n",
    "print(arr19)\n",
    "print(arr19_5)"
   ]
  },
  {
   "cell_type": "code",
   "execution_count": 93,
   "id": "a8bacf11",
   "metadata": {},
   "outputs": [
    {
     "name": "stdout",
     "output_type": "stream",
     "text": [
      "[[0 1 2]\n",
      " [3 4 5]\n",
      " [6 7 8]]\n",
      "[0 1 2 3 4 5 6 7 8]\n"
     ]
    }
   ],
   "source": [
    "# ↓ここにコードを記入してください\n",
    "# 問20：ndarrayのflatten\n",
    "# shape (3,3) の配列を作成し、1次元に変換してください。\n",
    "\n",
    "arr20 = np.arange(9).reshape(3,3)\n",
    "arr20_fla = arr20.flatten()\n",
    "\n",
    "print(arr20)\n",
    "print(arr20_fla)"
   ]
  },
  {
   "cell_type": "code",
   "execution_count": null,
   "id": "07af747d",
   "metadata": {},
   "outputs": [],
   "source": []
  }
 ],
 "metadata": {
  "kernelspec": {
   "display_name": "ai-study",
   "language": "python",
   "name": "python3"
  },
  "language_info": {
   "codemirror_mode": {
    "name": "ipython",
    "version": 3
   },
   "file_extension": ".py",
   "mimetype": "text/x-python",
   "name": "python",
   "nbconvert_exporter": "python",
   "pygments_lexer": "ipython3",
   "version": "3.11.13"
  }
 },
 "nbformat": 4,
 "nbformat_minor": 5
}
