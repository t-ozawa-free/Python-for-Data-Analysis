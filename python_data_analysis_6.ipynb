{
 "cells": [
  {
   "cell_type": "code",
   "execution_count": 1,
   "id": "fe4bb34b",
   "metadata": {},
   "outputs": [
    {
     "name": "stdout",
     "output_type": "stream",
     "text": [
      "   a   b   c   d message\n",
      "0  1   2   3   4   hello\n",
      "1  5   6   7   8   world\n",
      "2  9  10  11  12     foo\n"
     ]
    }
   ],
   "source": [
    "import pandas as pd\n",
    "\n",
    "df1 = pd.read_csv(\"exl.csv\")\n",
    "\n",
    "print(df1)"
   ]
  },
  {
   "cell_type": "code",
   "execution_count": 2,
   "id": "50a460d9",
   "metadata": {},
   "outputs": [
    {
     "name": "stdout",
     "output_type": "stream",
     "text": [
      "   0   1   2   3      4\n",
      "0  1   2   3   4  hello\n",
      "1  5   6   7   8  world\n",
      "2  9  10  11  12    foo\n",
      "   a   b   c   d mmessage\n",
      "0  1   2   3   4    hello\n",
      "1  5   6   7   8    world\n",
      "2  9  10  11  12      foo\n"
     ]
    }
   ],
   "source": [
    "df2 = pd.read_csv(\"ex2.csv\",header=None)\n",
    "\n",
    "df3 = pd.read_csv(\"ex2.csv\", names=[\"a\",\"b\",\"c\",\"d\",\"mmessage\"])\n",
    "\n",
    "print(df2)\n",
    "print(df3)\n"
   ]
  },
  {
   "cell_type": "code",
   "execution_count": null,
   "id": "a9c92db0",
   "metadata": {},
   "outputs": [
    {
     "name": "stdout",
     "output_type": "stream",
     "text": [
      "    a   b   c message\n",
      "d                    \n",
      "4   1   2   3   hello\n",
      "8   5   6   7   world\n",
      "12  9  10  11     foo\n"
     ]
    }
   ],
   "source": [
    "df4 = pd.read_csv(\"ex2.csv\",names=[\"a\",\"b\",\"c\",\"d\",\"message\"], index_col=\"message\")\n",
    "\n",
    "print(df4)"
   ]
  },
  {
   "cell_type": "code",
   "execution_count": 6,
   "id": "ab920e01",
   "metadata": {},
   "outputs": [
    {
     "name": "stdout",
     "output_type": "stream",
     "text": [
      "           one       two     three      four key\n",
      "0     0.467976 -0.038649 -0.295344 -1.824726   L\n",
      "1    -0.358893  1.404453  0.704965 -0.200638   B\n",
      "2    -0.501840  0.659254 -0.421691 -0.057688   G\n",
      "3     0.204886  1.074134  1.388361 -0.982404   R\n",
      "4     0.354628 -0.133116  0.283763 -0.837063   Q\n",
      "...        ...       ...       ...       ...  ..\n",
      "9995  2.311896 -0.417070 -1.409599 -0.515821   L\n",
      "9996 -0.479893 -0.650419  0.745152 -0.646038   E\n",
      "9997  0.523331  0.787112  0.486066  1.093156   K\n",
      "9998 -0.362559  0.598894 -1.843201  0.887292   G\n",
      "9999 -0.096376 -1.012999 -0.657431 -0.573315   0\n",
      "\n",
      "[10000 rows x 5 columns]\n"
     ]
    }
   ],
   "source": [
    "pd.options.display.max_rows=10\n",
    "\n",
    "result = pd.read_csv(\"ex6.csv\")\n",
    "\n",
    "print(result)"
   ]
  },
  {
   "cell_type": "code",
   "execution_count": 8,
   "id": "9978d5b6",
   "metadata": {},
   "outputs": [
    {
     "name": "stdout",
     "output_type": "stream",
     "text": [
      "        one       two     three      four key\n",
      "0  0.467976 -0.038649 -0.295344 -1.824726   L\n",
      "1 -0.358893  1.404453  0.704965 -0.200638   B\n",
      "2 -0.501840  0.659254 -0.421691 -0.057688   G\n",
      "3  0.204886  1.074134  1.388361 -0.982404   R\n",
      "4  0.354628 -0.133116  0.283763 -0.837063   Q\n"
     ]
    }
   ],
   "source": [
    "result2 = pd.read_csv(\"ex6.csv\", nrows=5)\n",
    "\n",
    "print(result2)"
   ]
  },
  {
   "cell_type": "code",
   "execution_count": 12,
   "id": "263cef20",
   "metadata": {},
   "outputs": [
    {
     "name": "stdout",
     "output_type": "stream",
     "text": [
      "key\n",
      "E    368.0\n",
      "X    364.0\n",
      "L    346.0\n",
      "O    343.0\n",
      "Q    340.0\n",
      "M    338.0\n",
      "J    337.0\n",
      "F    335.0\n",
      "K    334.0\n",
      "H    330.0\n",
      "dtype: float64\n"
     ]
    }
   ],
   "source": [
    "chunker = pd.read_csv(\"ex6.csv\",chunksize=1000)\n",
    "\n",
    "tot = pd.Series([], dtype=\"int64\")\n",
    "for piece in chunker:\n",
    "    tot = tot.add(piece[\"key\"].value_counts(), fill_value=0)\n",
    "\n",
    "tot = tot.sort_values(ascending=False)\n",
    "\n",
    "print(tot[:10])"
   ]
  },
  {
   "cell_type": "code",
   "execution_count": 16,
   "id": "142cdac5",
   "metadata": {},
   "outputs": [
    {
     "name": "stdout",
     "output_type": "stream",
     "text": [
      "[                             Bank Name             City  ST   CERT  \\\n",
      "0                          Allied Bank         Mulberry  AR     91   \n",
      "1         The Woodbury Banking Company         Woodbury  GA  11297   \n",
      "2               First CornerStone Bank  King of Prussia  PA  35312   \n",
      "3                   Trust Company Bank          Memphis  TN   9956   \n",
      "4           North Milwaukee State Bank        Milwaukee  WI  20364   \n",
      "..                                 ...              ...  ..    ...   \n",
      "542                 Superior Bank, FSB         Hinsdale  IL  32646   \n",
      "543                Malta National Bank            Malta  OH   6629   \n",
      "544    First Alliance Bank & Trust Co.       Manchester  NH  34264   \n",
      "545  National State Bank of Metropolis       Metropolis  IL   3815   \n",
      "546                   Bank of Honolulu         Honolulu  HI  21029   \n",
      "\n",
      "                   Acquiring Institution        Closing Date  \\\n",
      "0                           Today's Bank  September 23, 2016   \n",
      "1                            United Bank     August 19, 2016   \n",
      "2    First-Citizens Bank & Trust Company         May 6, 2016   \n",
      "3             The Bank of Fayette County      April 29, 2016   \n",
      "4    First-Citizens Bank & Trust Company      March 11, 2016   \n",
      "..                                   ...                 ...   \n",
      "542                Superior Federal, FSB       July 27, 2001   \n",
      "543                    North Valley Bank         May 3, 2001   \n",
      "544  Southern New Hampshire Bank & Trust    February 2, 2001   \n",
      "545              Banterra Bank of Marion   December 14, 2000   \n",
      "546                   Bank of the Orient    October 13, 2000   \n",
      "\n",
      "          Updated Date  \n",
      "0    November 17, 2016  \n",
      "1    November 17, 2016  \n",
      "2    September 6, 2016  \n",
      "3    September 6, 2016  \n",
      "4        June 16, 2016  \n",
      "..                 ...  \n",
      "542    August 19, 2014  \n",
      "543  November 18, 2002  \n",
      "544  February 18, 2003  \n",
      "545     March 17, 2005  \n",
      "546     March 17, 2005  \n",
      "\n",
      "[547 rows x 7 columns]]\n"
     ]
    }
   ],
   "source": [
    "tables = pd.read_html(\"fdic_failed_bank_list.html\")\n",
    "\n",
    "print(tables)\n",
    "failues = tables[0]\n",
    "#print(failues.head())\n"
   ]
  },
  {
   "cell_type": "code",
   "execution_count": 19,
   "id": "5583499c",
   "metadata": {},
   "outputs": [
    {
     "name": "stdout",
     "output_type": "stream",
     "text": [
      "['Sheet1']\n",
      "{'Sheet1':    a   b   c   d message\n",
      "0  1   2   3   4   hello\n",
      "1  5   6   7   8   world\n",
      "2  9  10  11  12     foo}\n"
     ]
    }
   ],
   "source": [
    "xlsx = pd.ExcelFile(\"ex1.xlsx\")\n",
    "\n",
    "print(xlsx.sheet_names)\n",
    "print(xlsx.parse(sheet_name=xlsx.sheet_names,index_col=0))\n",
    "\n"
   ]
  },
  {
   "cell_type": "code",
   "execution_count": 21,
   "id": "34071f80",
   "metadata": {},
   "outputs": [
    {
     "name": "stdout",
     "output_type": "stream",
     "text": [
      "<Response [200]>\n",
      "BUG: Series.replace with CoW when made from an Index\n"
     ]
    }
   ],
   "source": [
    "import requests\n",
    "\n",
    "url = \"https://api.github.com/repos/pandas-dev/pandas/issues\"\n",
    "\n",
    "resp = requests.get(url)\n",
    "\n",
    "resp.raise_for_status()\n",
    "\n",
    "print(resp)\n",
    "\n",
    "data = resp.json()\n",
    "print(data[0][\"title\"])\n"
   ]
  },
  {
   "cell_type": "code",
   "execution_count": null,
   "id": "0a140623",
   "metadata": {},
   "outputs": [
    {
     "ename": "IndentationError",
     "evalue": "unexpected indent (818078012.py, line 5)",
     "output_type": "error",
     "traceback": [
      "  \u001b[36mCell\u001b[39m\u001b[36m \u001b[39m\u001b[32mIn[23]\u001b[39m\u001b[32m, line 5\u001b[39m\n\u001b[31m    \u001b[39m\u001b[31m\"latitude=35.6895&longitude=139.6917\"\u001b[39m\n    ^\n\u001b[31mIndentationError\u001b[39m\u001b[31m:\u001b[39m unexpected indent\n"
     ]
    }
   ],
   "source": [
    "import requests\n",
    "import pandas as pd\n",
    "\n",
    "url = (\"https://api.open-meteo.com/v1/forecast?\"\n",
    "    \"latitude=35.6895&longitude=139.6917\"\n",
    "    \"&hourly=temperature_2m\"\n",
    "    \"&timezone=Asia%2FTokyo\")\n",
    "\n",
    "response = requests.get(url)\n",
    "\n",
    "data = response.json()\n",
    "\n",
    "df = pd.DataFrame(data)\n",
    "\n",
    "print(df.head())\n"
   ]
  },
  {
   "cell_type": "code",
   "execution_count": null,
   "id": "5a663e48",
   "metadata": {},
   "outputs": [],
   "source": []
  }
 ],
 "metadata": {
  "kernelspec": {
   "display_name": "ai-study",
   "language": "python",
   "name": "python3"
  },
  "language_info": {
   "codemirror_mode": {
    "name": "ipython",
    "version": 3
   },
   "file_extension": ".py",
   "mimetype": "text/x-python",
   "name": "python",
   "nbconvert_exporter": "python",
   "pygments_lexer": "ipython3",
   "version": "3.11.13"
  }
 },
 "nbformat": 4,
 "nbformat_minor": 5
}
