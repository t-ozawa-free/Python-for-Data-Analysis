{
 "cells": [
  {
   "cell_type": "markdown",
   "id": "c2638319",
   "metadata": {},
   "source": [
    "# 📘 Pythonによるデータ分析入門 第3版 - Day 1\n",
    "\n",
    "このノートでは、第1章と第2章に対応するPythonの基礎文法をJupyter上で実践します。\n",
    "\n",
    "---"
   ]
  },
  {
   "cell_type": "markdown",
   "id": "148c2708",
   "metadata": {},
   "source": [
    "## ✅ 1. リストと辞書の復習"
   ]
  },
  {
   "cell_type": "code",
   "execution_count": 1,
   "id": "b2f8f7fd",
   "metadata": {},
   "outputs": [
    {
     "name": "stdout",
     "output_type": "stream",
     "text": [
      "バナナの価格： 80\n"
     ]
    }
   ],
   "source": [
    "fruits = ['apple', 'banana', 'orange']\n",
    "prices = {'apple': 100, 'banana': 80, 'orange': 120}\n",
    "\n",
    "print(\"バナナの価格：\", prices['banana'])"
   ]
  },
  {
   "cell_type": "markdown",
   "id": "8a3e1b99",
   "metadata": {},
   "source": [
    "## ✅ 2. for文と`enumerate()`"
   ]
  },
  {
   "cell_type": "code",
   "execution_count": 2,
   "id": "687b0bb3",
   "metadata": {},
   "outputs": [
    {
     "name": "stdout",
     "output_type": "stream",
     "text": [
      "0: apple\n",
      "1: banana\n",
      "2: orange\n"
     ]
    }
   ],
   "source": [
    "for i, fruit in enumerate(fruits):\n",
    "    print(f\"{i}: {fruit}\")"
   ]
  },
  {
   "cell_type": "markdown",
   "id": "c623fc92",
   "metadata": {},
   "source": [
    "## ✅ 3. zipによる同時ループ"
   ]
  },
  {
   "cell_type": "code",
   "execution_count": 3,
   "id": "dc163922",
   "metadata": {},
   "outputs": [
    {
     "name": "stdout",
     "output_type": "stream",
     "text": [
      "appleを2個買いました\n",
      "bananaを1個買いました\n",
      "orangeを3個買いました\n"
     ]
    }
   ],
   "source": [
    "quantities = [2, 1, 3]\n",
    "for fruit, qty in zip(fruits, quantities):\n",
    "    print(f\"{fruit}を{qty}個買いました\")"
   ]
  },
  {
   "cell_type": "markdown",
   "id": "408ff22e",
   "metadata": {},
   "source": [
    "## ✅ 4. 関数の定義と利用"
   ]
  },
  {
   "cell_type": "code",
   "execution_count": 4,
   "id": "a6ee75ef",
   "metadata": {},
   "outputs": [
    {
     "name": "stdout",
     "output_type": "stream",
     "text": [
      "合計金額： 640\n"
     ]
    }
   ],
   "source": [
    "def calc_total(prices, quantities):\n",
    "    total = 0\n",
    "    for fruit, qty in zip(prices.keys(), quantities):\n",
    "        total += prices[fruit] * qty\n",
    "    return total\n",
    "\n",
    "print(\"合計金額：\", calc_total(prices, quantities))"
   ]
  },
  {
   "cell_type": "markdown",
   "id": "e0acba34",
   "metadata": {},
   "source": [
    "## ✅ 5. 例外処理"
   ]
  },
  {
   "cell_type": "code",
   "execution_count": 5,
   "id": "39fa8629",
   "metadata": {},
   "outputs": [
    {
     "name": "stdout",
     "output_type": "stream",
     "text": [
      "その果物は存在しません\n"
     ]
    }
   ],
   "source": [
    "try:\n",
    "    print(prices['grape'])\n",
    "except KeyError:\n",
    "    print(\"その果物は存在しません\")"
   ]
  },
  {
   "cell_type": "markdown",
   "id": "bc93b001",
   "metadata": {},
   "source": [
    "## ✍️ 自主課題（今日のチャレンジ）\n",
    "\n",
    "1. 辞書を使って「社員IDと名前の対応表」を作ろう\n",
    "2. `zip()` を使って、商品と価格を同時に表示するループを作ろう\n",
    "3. `def` で好きな計算を行う関数を2つ作って、試してみよう（例：割引計算、税込み計算など）"
   ]
  },
  {
   "cell_type": "code",
   "execution_count": null,
   "id": "0c3f319e",
   "metadata": {},
   "outputs": [
    {
     "name": "stdout",
     "output_type": "stream",
     "text": [
      "3210\n",
      "3211\n",
      "3212\n"
     ]
    }
   ],
   "source": [
    "comp_name_id = {\"ozawa\" : 3210, \"tanaka\" : 3211, \"yamada\" : 3212} #辞書は波括弧！\n",
    "print(comp_name_id[\"ozawa\"])\n",
    "print(comp_name_id[\"tanaka\"])\n",
    "print(comp_name_id[\"yamada\"])\n"
   ]
  },
  {
   "cell_type": "code",
   "execution_count": 16,
   "id": "26e8b717",
   "metadata": {},
   "outputs": [
    {
     "name": "stdout",
     "output_type": "stream",
     "text": [
      "りんご 100 円\n",
      "バナナ 80 円\n",
      "メロン 3000 円\n"
     ]
    }
   ],
   "source": [
    "syouhin = {\"りんご\":100, \"バナナ\":80, \"メロン\":3000}\n",
    "for name, num in zip(syouhin.keys(), syouhin.values()):\n",
    "    print(name, num,\"円\")"
   ]
  },
  {
   "cell_type": "code",
   "execution_count": 19,
   "id": "0d931943",
   "metadata": {},
   "outputs": [
    {
     "name": "stdout",
     "output_type": "stream",
     "text": [
      "3300.0000000000005\n",
      "76.0\n"
     ]
    }
   ],
   "source": [
    "def tax_proc(price):\n",
    "    return price*1.10\n",
    "def nebiki_proc(price):\n",
    "    return price * 0.95\n",
    "\n",
    "print(tax_proc(syouhin[\"メロン\"]))\n",
    "print(nebiki_proc(syouhin[\"バナナ\"]))"
   ]
  }
 ],
 "metadata": {
  "kernelspec": {
   "display_name": "ai-study",
   "language": "python",
   "name": "python3"
  },
  "language_info": {
   "codemirror_mode": {
    "name": "ipython",
    "version": 3
   },
   "file_extension": ".py",
   "mimetype": "text/x-python",
   "name": "python",
   "nbconvert_exporter": "python",
   "pygments_lexer": "ipython3",
   "version": "3.11.13"
  }
 },
 "nbformat": 4,
 "nbformat_minor": 5
}
