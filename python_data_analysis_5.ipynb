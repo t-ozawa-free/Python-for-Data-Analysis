{
 "cells": [
  {
   "cell_type": "code",
   "execution_count": 13,
   "id": "70074380",
   "metadata": {},
   "outputs": [
    {
     "name": "stdout",
     "output_type": "stream",
     "text": [
      "0    4\n",
      "1    7\n",
      "2   -5\n",
      "3    3\n",
      "dtype: int64\n",
      "a    4\n",
      "b    7\n",
      "c   -5\n",
      "d    3\n",
      "dtype: int64\n",
      "7\n",
      "a      4\n",
      "b    100\n",
      "c     -5\n",
      "d      3\n",
      "dtype: int64\n",
      "a      4\n",
      "b    100\n",
      "d      3\n",
      "dtype: int64\n",
      "a      4\n",
      "b    100\n",
      "dtype: int64\n",
      "a      8\n",
      "b    200\n",
      "c    -10\n",
      "d      6\n",
      "dtype: int64\n",
      "a      4\n",
      "b    100\n",
      "c     -5\n",
      "d      3\n",
      "dtype: int64\n"
     ]
    }
   ],
   "source": [
    "import numpy as np\n",
    "import pandas as pd\n",
    "from pandas import Series, DataFrame\n",
    "#これらが基本の参照\n",
    "\n",
    "obj = pd.Series([4,7,-5,3])\n",
    "\n",
    "print(obj)\n",
    "\n",
    "obj2 = pd.Series([4,7,-5,3], index=[\"a\",\"b\",\"c\",\"d\"])\n",
    "\n",
    "print(obj2)\n",
    "\n",
    "print(obj2[\"b\"])\n",
    "obj2[\"b\"] = 100\n",
    "print(obj2)\n",
    "print(obj2[[\"a\",\"b\",\"d\"]])\n",
    "\n",
    "print(obj2[obj2 > 3])\n",
    "print(obj2 * 2)\n",
    "\n",
    "print(obj2)"
   ]
  },
  {
   "cell_type": "code",
   "execution_count": 15,
   "id": "df93f274",
   "metadata": {},
   "outputs": [
    {
     "name": "stdout",
     "output_type": "stream",
     "text": [
      "Ohio      35000\n",
      "Texas     71000\n",
      "Oregon    16000\n",
      "Utah       5000\n",
      "dtype: int64\n",
      "California        NaN\n",
      "Ohio          35000.0\n",
      "Oregon        16000.0\n",
      "Texas         71000.0\n",
      "dtype: float64\n"
     ]
    }
   ],
   "source": [
    "import numpy as np\n",
    "import pandas as pd\n",
    "from pandas import Series,DataFrame\n",
    "\n",
    "test_dict1 = {\"Ohio\":35000,\"Texas\":71000,\"Oregon\":16000, \"Utah\":5000}\n",
    "\n",
    "obj3 = pd.Series(test_dict1)\n",
    "\n",
    "print(obj3)\n",
    "\n",
    "states = [\"California\", \"Ohio\", \"Oregon\", \"Texas\"]\n",
    "obj4 = pd.Series(test_dict1, index=states)\n",
    "\n",
    "print(obj4)"
   ]
  },
  {
   "cell_type": "code",
   "execution_count": 20,
   "id": "31d3176a",
   "metadata": {},
   "outputs": [
    {
     "data": {
      "text/html": [
       "<div>\n",
       "<style scoped>\n",
       "    .dataframe tbody tr th:only-of-type {\n",
       "        vertical-align: middle;\n",
       "    }\n",
       "\n",
       "    .dataframe tbody tr th {\n",
       "        vertical-align: top;\n",
       "    }\n",
       "\n",
       "    .dataframe thead th {\n",
       "        text-align: right;\n",
       "    }\n",
       "</style>\n",
       "<table border=\"1\" class=\"dataframe\">\n",
       "  <thead>\n",
       "    <tr style=\"text-align: right;\">\n",
       "      <th></th>\n",
       "      <th>year</th>\n",
       "      <th>state</th>\n",
       "      <th>pop</th>\n",
       "      <th>debt</th>\n",
       "    </tr>\n",
       "  </thead>\n",
       "  <tbody>\n",
       "    <tr>\n",
       "      <th>0</th>\n",
       "      <td>2000</td>\n",
       "      <td>Ohio</td>\n",
       "      <td>1.5</td>\n",
       "      <td>NaN</td>\n",
       "    </tr>\n",
       "    <tr>\n",
       "      <th>1</th>\n",
       "      <td>2001</td>\n",
       "      <td>Ohio</td>\n",
       "      <td>1.7</td>\n",
       "      <td>NaN</td>\n",
       "    </tr>\n",
       "    <tr>\n",
       "      <th>2</th>\n",
       "      <td>2002</td>\n",
       "      <td>Ohio</td>\n",
       "      <td>3.6</td>\n",
       "      <td>NaN</td>\n",
       "    </tr>\n",
       "    <tr>\n",
       "      <th>3</th>\n",
       "      <td>2001</td>\n",
       "      <td>Nevada</td>\n",
       "      <td>2.4</td>\n",
       "      <td>NaN</td>\n",
       "    </tr>\n",
       "    <tr>\n",
       "      <th>4</th>\n",
       "      <td>2002</td>\n",
       "      <td>Nevada</td>\n",
       "      <td>2.9</td>\n",
       "      <td>NaN</td>\n",
       "    </tr>\n",
       "    <tr>\n",
       "      <th>5</th>\n",
       "      <td>2003</td>\n",
       "      <td>Nevada</td>\n",
       "      <td>3.2</td>\n",
       "      <td>NaN</td>\n",
       "    </tr>\n",
       "  </tbody>\n",
       "</table>\n",
       "</div>"
      ],
      "text/plain": [
       "   year   state  pop debt\n",
       "0  2000    Ohio  1.5  NaN\n",
       "1  2001    Ohio  1.7  NaN\n",
       "2  2002    Ohio  3.6  NaN\n",
       "3  2001  Nevada  2.4  NaN\n",
       "4  2002  Nevada  2.9  NaN\n",
       "5  2003  Nevada  3.2  NaN"
      ]
     },
     "execution_count": 20,
     "metadata": {},
     "output_type": "execute_result"
    }
   ],
   "source": [
    "import numpy as np\n",
    "import pandas as pd\n",
    "from pandas import Series,DataFrame\n",
    "\n",
    "data = {\"state\":[\"Ohio\",\"Ohio\",\"Ohio\",\"Nevada\",\"Nevada\",\"Nevada\"],\"year\":[2000,2001,2002,2001,2002,2003],\"pop\":[1.5,1.7,3.6,2.4,2.9,3.2]}\n",
    "frame = pd.DataFrame(data)\n",
    "frame\n",
    "#print(frame)\n",
    "\n",
    "frame2 = pd.DataFrame(data, columns=[\"year\", \"state\",\"pop\",\"debt\"])\n",
    "frame2"
   ]
  },
  {
   "cell_type": "code",
   "execution_count": 26,
   "id": "93e31523",
   "metadata": {},
   "outputs": [
    {
     "name": "stdout",
     "output_type": "stream",
     "text": [
      "               b         d         e\n",
      "Utah   -0.135535 -0.441866  1.456439\n",
      "Ohio    0.625085  1.121071  1.622924\n",
      "Texas  -0.097341 -0.023491 -0.062342\n",
      "Oregon  0.121318 -1.770142  0.553895\n",
      "b    0.760619\n",
      "d    2.891212\n",
      "e    1.685266\n",
      "dtype: float64\n",
      "Utah      1.898305\n",
      "Ohio      0.997839\n",
      "Texas     0.073850\n",
      "Oregon    2.324037\n",
      "dtype: float64\n"
     ]
    }
   ],
   "source": [
    "import numpy as np\n",
    "import pandas as pd\n",
    "from pandas import Series,DataFrame\n",
    "\n",
    "frame = pd.DataFrame(np.random.standard_normal((4,3)),columns=list(\"bde\"),index=[\"Utah\",\"Ohio\",\"Texas\",\"Oregon\"])\n",
    "\n",
    "print(frame)\n",
    "\n",
    "def f1(x):\n",
    "    return x.max()-x.min()\n",
    "\n",
    "print(frame.apply(f1))\n",
    "\n",
    "print(frame.apply(f1, axis=\"columns\"))\n"
   ]
  },
  {
   "cell_type": "code",
   "execution_count": null,
   "id": "b49d93bc",
   "metadata": {},
   "outputs": [],
   "source": []
  }
 ],
 "metadata": {
  "kernelspec": {
   "display_name": "ai-study",
   "language": "python",
   "name": "python3"
  },
  "language_info": {
   "codemirror_mode": {
    "name": "ipython",
    "version": 3
   },
   "file_extension": ".py",
   "mimetype": "text/x-python",
   "name": "python",
   "nbconvert_exporter": "python",
   "pygments_lexer": "ipython3",
   "version": "3.11.13"
  }
 },
 "nbformat": 4,
 "nbformat_minor": 5
}
