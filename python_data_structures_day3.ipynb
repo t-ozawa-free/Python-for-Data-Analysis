{
 "cells": [
  {
   "cell_type": "markdown",
   "id": "1ccf3ccc",
   "metadata": {},
   "source": [
    "# Python演習問題 Day3\n",
    "\n",
    "日々の練習でデータ構造の理解を深めましょう。"
   ]
  },
  {
   "cell_type": "code",
   "execution_count": null,
   "id": "b19f73cd",
   "metadata": {},
   "outputs": [],
   "source": [
    "# 問1\n",
    "# リスト内包表記を使って 1〜10 の偶数を抽出してください。"
   ]
  },
  {
   "cell_type": "code",
   "execution_count": null,
   "id": "28bd1cd3",
   "metadata": {},
   "outputs": [],
   "source": [
    "# 問2\n",
    "# 辞書内包表記を使って、1〜5 の各数値をキー、その2乗を値とする辞書を作成してください。"
   ]
  },
  {
   "cell_type": "code",
   "execution_count": null,
   "id": "9da55f84",
   "metadata": {},
   "outputs": [],
   "source": [
    "# 問3\n",
    "# セット内包表記で文字列から母音だけを取り出してください。"
   ]
  },
  {
   "cell_type": "code",
   "execution_count": null,
   "id": "358298cd",
   "metadata": {},
   "outputs": [],
   "source": [
    "# 問4\n",
    "# 条件付き内包表記でリスト `[1,2,3,4,5]` のうち奇数のみ 2 倍した新しいリストを作成してください。"
   ]
  },
  {
   "cell_type": "code",
   "execution_count": null,
   "id": "28721d45",
   "metadata": {},
   "outputs": [],
   "source": [
    "# 問5\n",
    "# タプルのリスト `[(1, 2), (3, 4)]` から2番目の要素だけを取り出してリスト化してください。"
   ]
  },
  {
   "cell_type": "code",
   "execution_count": null,
   "id": "d28e7c12",
   "metadata": {},
   "outputs": [],
   "source": [
    "# 問6\n",
    "# 辞書のキーが 3 より大きいものだけ取り出してください。"
   ]
  },
  {
   "cell_type": "code",
   "execution_count": null,
   "id": "dd4ce43e",
   "metadata": {},
   "outputs": [],
   "source": [
    "# 問7\n",
    "# `zip()` を使って 2 つのリストを結合し、辞書に変換してください。"
   ]
  },
  {
   "cell_type": "code",
   "execution_count": null,
   "id": "09cce7df",
   "metadata": {},
   "outputs": [],
   "source": [
    "# 問8\n",
    "# `enumerate()` を使ってリストのインデックスと要素を出力してください。"
   ]
  },
  {
   "cell_type": "code",
   "execution_count": null,
   "id": "12a03c8c",
   "metadata": {},
   "outputs": [],
   "source": [
    "# 問9\n",
    "# セットでリストの重複を除去してください。"
   ]
  },
  {
   "cell_type": "code",
   "execution_count": null,
   "id": "1333e20f",
   "metadata": {},
   "outputs": [],
   "source": [
    "# 問10\n",
    "# 文字列リストから長さ 3 以上の単語だけを抽出してください（リスト内包表記使用）。"
   ]
  }
 ],
 "metadata": {},
 "nbformat": 4,
 "nbformat_minor": 5
}