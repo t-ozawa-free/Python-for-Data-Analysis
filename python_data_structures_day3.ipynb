{
 "cells": [
  {
   "cell_type": "markdown",
   "id": "1ccf3ccc",
   "metadata": {},
   "source": [
    "# Python演習問題 Day3\n",
    "\n",
    "日々の練習でデータ構造の理解を深めましょう。"
   ]
  },
  {
   "cell_type": "code",
   "execution_count": 3,
   "id": "b19f73cd",
   "metadata": {},
   "outputs": [
    {
     "name": "stdout",
     "output_type": "stream",
     "text": [
      "[2, 4, 6, 8, 10]\n"
     ]
    }
   ],
   "source": [
    "# 問1\n",
    "# リスト内包表記を使って 1〜10 の偶数を抽出してください。\n",
    "\n",
    "test_list1 = [i for i in range(1,11) if i%2 == 0]\n",
    "print(test_list1)"
   ]
  },
  {
   "cell_type": "code",
   "execution_count": 5,
   "id": "28bd1cd3",
   "metadata": {},
   "outputs": [
    {
     "name": "stdout",
     "output_type": "stream",
     "text": [
      "{1: 1, 2: 4, 3: 9, 4: 16, 5: 25}\n"
     ]
    }
   ],
   "source": [
    "# 問2\n",
    "# 辞書内包表記を使って、1〜5 の各数値をキー、その2乗を値とする辞書を作成してください。\n",
    "test_dict1 = {x: x**2 for x in range(1,6)}\n",
    "print(test_dict1)"
   ]
  },
  {
   "cell_type": "code",
   "execution_count": 14,
   "id": "9da55f84",
   "metadata": {},
   "outputs": [
    {
     "name": "stdout",
     "output_type": "stream",
     "text": [
      "['hukuzawa yukiti']\n"
     ]
    }
   ],
   "source": [
    "# 問3\n",
    "# セット内包表記で文字列から母音だけを取り出してください。\n",
    "test_str1 = {\"hukuzawa yukiti\"}\n",
    "test_set1 = {i for i in test_str1 if i not in \"aeiou\"}\n",
    "\n",
    "print(list(test_set1))"
   ]
  },
  {
   "cell_type": "code",
   "execution_count": 16,
   "id": "358298cd",
   "metadata": {},
   "outputs": [
    {
     "name": "stdout",
     "output_type": "stream",
     "text": [
      "[4, 8]\n"
     ]
    }
   ],
   "source": [
    "# 問4\n",
    "# 条件付き内包表記でリスト `[1,2,3,4,5]` のうち奇数のみ 2 倍した新しいリストを作成してください。\n",
    "test_list2 = [1,2,3,4,5]\n",
    "test_list3 = [i*2 for i in test_list2 if i%2==0]\n",
    "print(test_list3)"
   ]
  },
  {
   "cell_type": "code",
   "execution_count": 18,
   "id": "28721d45",
   "metadata": {},
   "outputs": [
    {
     "name": "stdout",
     "output_type": "stream",
     "text": [
      "[2, 4]\n"
     ]
    }
   ],
   "source": [
    "# 問5\n",
    "# タプルのリスト `[(1, 2), (3, 4)]` から2番目の要素だけを取り出してリスト化してください。\n",
    "test_tup1 = [(1, 2), (3, 4)]\n",
    "test_list4 = [b for a,b in test_tup1]\n",
    "\n",
    "print(test_list4)"
   ]
  },
  {
   "cell_type": "code",
   "execution_count": 22,
   "id": "d28e7c12",
   "metadata": {},
   "outputs": [
    {
     "name": "stdout",
     "output_type": "stream",
     "text": [
      "{'oza': 42, 'sk': 61}\n"
     ]
    }
   ],
   "source": [
    "# 問6\n",
    "# 辞書のキーが 3 より大きいものだけ取り出してください。\n",
    "test_dict1 = {\"cat\":2,\"dog\":1,\"oza\":42,\"sk\":61}\n",
    "\n",
    "test_dict2 = {x:y for x,y in test_dict1.items() if y > 3}\n",
    "\n",
    "print(test_dict2)"
   ]
  },
  {
   "cell_type": "code",
   "execution_count": 25,
   "id": "dd4ce43e",
   "metadata": {},
   "outputs": [
    {
     "name": "stdout",
     "output_type": "stream",
     "text": [
      "{'cat': 2, 'dog': 1, 'oza': 42, 'sk': 61}\n"
     ]
    }
   ],
   "source": [
    "# 問7\n",
    "# `zip()` を使って 2 つのリストを結合し、辞書に変換してください。\n",
    "\n",
    "test_list5 = [\"cat\",\"dog\",\"oza\",\"sk\"]\n",
    "test_list6 = [2,1,42,61]\n",
    "\n",
    "test_dict3 = {x:y for x,y in zip(test_list5,test_list6)}\n",
    "\n",
    "print(test_dict3)"
   ]
  },
  {
   "cell_type": "code",
   "execution_count": 26,
   "id": "09cce7df",
   "metadata": {},
   "outputs": [
    {
     "name": "stdout",
     "output_type": "stream",
     "text": [
      "1 cat\n",
      "2 dog\n",
      "3 oza\n",
      "4 sk\n"
     ]
    }
   ],
   "source": [
    "# 問8\n",
    "# `enumerate()` を使ってリストのインデックスと要素を出力してください。\n",
    "for i,j in enumerate(test_list5,1):\n",
    "    print(i,j)"
   ]
  },
  {
   "cell_type": "code",
   "execution_count": 28,
   "id": "12a03c8c",
   "metadata": {},
   "outputs": [
    {
     "name": "stdout",
     "output_type": "stream",
     "text": [
      "{1, 2, 3, 4, 5, 7}\n"
     ]
    }
   ],
   "source": [
    "# 問9\n",
    "# セットでリストの重複を除去してください。\n",
    "test_list7 = [1,2,3,4,5,3,5,7,1,3,]\n",
    "test_set2 = set(test_list7)\n",
    "\n",
    "print(test_set2)"
   ]
  },
  {
   "cell_type": "code",
   "execution_count": 29,
   "id": "1333e20f",
   "metadata": {},
   "outputs": [
    {
     "name": "stdout",
     "output_type": "stream",
     "text": [
      "['def', 'ghij', 'klmn']\n"
     ]
    }
   ],
   "source": [
    "# 問10\n",
    "# 文字列リストから長さ 3 以上の単語だけを抽出してください（リスト内包表記使用）。\n",
    "test_list8 = [\"a\", \"bc\", \"def\", \"ghij\", \"klmn\"]\n",
    "test_list9 = [s for s in test_list8 if len(s) >= 3]\n",
    "print(test_list9)"
   ]
  },
  {
   "cell_type": "code",
   "execution_count": null,
   "id": "d5795b31",
   "metadata": {},
   "outputs": [],
   "source": []
  }
 ],
 "metadata": {
  "kernelspec": {
   "display_name": "ai-study",
   "language": "python",
   "name": "python3"
  },
  "language_info": {
   "codemirror_mode": {
    "name": "ipython",
    "version": 3
   },
   "file_extension": ".py",
   "mimetype": "text/x-python",
   "name": "python",
   "nbconvert_exporter": "python",
   "pygments_lexer": "ipython3",
   "version": "3.11.13"
  }
 },
 "nbformat": 4,
 "nbformat_minor": 5
}
