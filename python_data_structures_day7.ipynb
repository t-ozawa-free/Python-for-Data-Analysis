{
 "cells": [
  {
   "cell_type": "markdown",
   "id": "c60b09d1",
   "metadata": {},
   "source": [
    "# Python演習問題 Day7\n",
    "\n",
    "日々の練習でデータ構造の理解を深めましょう。"
   ]
  },
  {
   "cell_type": "code",
   "execution_count": 9,
   "id": "2db3c372",
   "metadata": {},
   "outputs": [
    {
     "name": "stdout",
     "output_type": "stream",
     "text": [
      "{'和牛': 3000, 'ラム肉': 1000}\n"
     ]
    }
   ],
   "source": [
    "# 問1\n",
    "# 商品名と価格の辞書を作成し、価格が 1000 円以上のものを抽出してください。\n",
    "dict1 = {\"鶏肉\":200,\"牛肉\":500,\"豚肉\":300,\"和牛\":3000,\"ラム肉\":1000}\n",
    "\n",
    "dict2 = {x:y for x,y in dict1.items() if y >= 1000}\n",
    "\n",
    "print(dict2)\n"
   ]
  },
  {
   "cell_type": "code",
   "execution_count": 10,
   "id": "a102af15",
   "metadata": {},
   "outputs": [
    {
     "name": "stdout",
     "output_type": "stream",
     "text": [
      "{'neko': 90, 'meq': 80}\n"
     ]
    }
   ],
   "source": [
    "# 問2\n",
    "# 学生の名前と成績を格納した辞書から、成績が 80 点以上の学生だけを出力してください。\n",
    "dict3 = {\"oza\":40,\"neko\":90,\"meq\":80,\"innu\":20}\n",
    "dict4 = {x:y for x,y in dict3.items() if y >= 80}\n",
    "\n",
    "print(dict4)"
   ]
  },
  {
   "cell_type": "code",
   "execution_count": null,
   "id": "aa454cd6",
   "metadata": {},
   "outputs": [],
   "source": [
    "# 問3\n",
    "# リストの中にある辞書の 'id' だけを取り出して新しいリストを作成してください。\n",
    "\n",
    "#わかりません・・・。"
   ]
  },
  {
   "cell_type": "code",
   "execution_count": 25,
   "id": "601c2043",
   "metadata": {},
   "outputs": [
    {
     "name": "stdout",
     "output_type": "stream",
     "text": [
      "{'cat', 'oza'}\n"
     ]
    }
   ],
   "source": [
    "# 問4\n",
    "# セットを使って AクラスとBクラスの共通メンバーを求めてください。\n",
    "\n",
    "A_class = [\"cat\",\"dog\",\"oza\",\"sk\"]\n",
    "B_class = [\"neko\",\"meq\",\"cat\",\"oza\"]\n",
    "\n",
    "common_menb = set(A_class) & set(B_class)\n",
    "print(common_menb)"
   ]
  },
  {
   "cell_type": "code",
   "execution_count": 26,
   "id": "fb45cc7a",
   "metadata": {},
   "outputs": [
    {
     "name": "stdout",
     "output_type": "stream",
     "text": [
      "[6, 12, 18, 24, 30]\n"
     ]
    }
   ],
   "source": [
    "# 問5\n",
    "# リストから偶数のみの要素を3倍して新しいリストにしてください。\n",
    "list4 = [1,2,3,4,5,6,7,8,9,10]\n",
    "list5 = [x*3 for x in list4 if x%2==0]\n",
    "print(list5)"
   ]
  },
  {
   "cell_type": "code",
   "execution_count": 28,
   "id": "2d42dcf2",
   "metadata": {},
   "outputs": [
    {
     "name": "stdout",
     "output_type": "stream",
     "text": [
      "{'cat': 2, 'dog': 1, 'oza': 42, 'sk': 61}\n"
     ]
    }
   ],
   "source": [
    "# 問6\n",
    "# タプルのリストを辞書に変換してください（タプル内は(key, value)形式）。\n",
    "tup1 = [(\"cat\",2),(\"dog\",1),(\"oza\",42),(\"sk\",61)]\n",
    "\n",
    "dict5 = {x:y for x,y in tup1}\n",
    "\n",
    "print(dict5)"
   ]
  },
  {
   "cell_type": "code",
   "execution_count": 30,
   "id": "8b62fd52",
   "metadata": {},
   "outputs": [
    {
     "name": "stdout",
     "output_type": "stream",
     "text": [
      "{'oza'}\n"
     ]
    }
   ],
   "source": [
    "# 問7\n",
    "# 2つの辞書を比較して、共通するキーを出力してください。\n",
    "dict6 = {\"cat\":1,\"dog\":2,\"oza\":42,\"sk\":61}\n",
    "dict7 = {\"oza\":163,\"meq\":160,\"takane\":170,\"kity\":\"tomato\"}\n",
    "\n",
    "key1 = set(dict6.keys()) & set(dict7.keys())\n",
    "\n",
    "print(key1)"
   ]
  },
  {
   "cell_type": "code",
   "execution_count": 31,
   "id": "de2dde2f",
   "metadata": {},
   "outputs": [
    {
     "name": "stdout",
     "output_type": "stream",
     "text": [
      "{'sk', 'dog'}\n"
     ]
    }
   ],
   "source": [
    "# 問8\n",
    "# セットで2つのデータ群にしかないデータを抽出してください（対称差）。\n",
    "A_class = {\"cat\",\"dog\",\"oza\",\"sk\"}\n",
    "B_class = {\"neko\",\"meq\",\"cat\",\"oza\"}\n",
    "\n",
    "common_menb1 = A_class - B_class\n",
    "print(common_menb1)"
   ]
  },
  {
   "cell_type": "code",
   "execution_count": 38,
   "id": "3d34f181",
   "metadata": {},
   "outputs": [
    {
     "name": "stdout",
     "output_type": "stream",
     "text": [
      "neko\n"
     ]
    }
   ],
   "source": [
    "# 問9\n",
    "# 辞書の中で最も値が大きいキーを取得してください。\n",
    "dict3 = {\"oza\":40,\"neko\":90,\"meq\":80,\"innu\":20}\n",
    "\n",
    "value2 = max(dict3.values())\n",
    "\n",
    "for x,y in dict3.items():\n",
    "    if y == value2:\n",
    "        key3 = x\n",
    "\n",
    "print(key3)"
   ]
  },
  {
   "cell_type": "code",
   "execution_count": null,
   "id": "7274d239",
   "metadata": {},
   "outputs": [],
   "source": [
    "# 問10\n",
    "# リストをフィルタ＋ソートして、最後に集合に変換してください（総合問題）。\n",
    "\n",
    "#わかりません。"
   ]
  }
 ],
 "metadata": {
  "kernelspec": {
   "display_name": "ai-study",
   "language": "python",
   "name": "python3"
  },
  "language_info": {
   "codemirror_mode": {
    "name": "ipython",
    "version": 3
   },
   "file_extension": ".py",
   "mimetype": "text/x-python",
   "name": "python",
   "nbconvert_exporter": "python",
   "pygments_lexer": "ipython3",
   "version": "3.11.13"
  }
 },
 "nbformat": 4,
 "nbformat_minor": 5
}
