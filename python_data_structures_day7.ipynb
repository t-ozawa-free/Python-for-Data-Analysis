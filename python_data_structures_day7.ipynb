{
 "cells": [
  {
   "cell_type": "markdown",
   "id": "c60b09d1",
   "metadata": {},
   "source": [
    "# Python演習問題 Day7\n",
    "\n",
    "日々の練習でデータ構造の理解を深めましょう。"
   ]
  },
  {
   "cell_type": "code",
   "execution_count": null,
   "id": "2db3c372",
   "metadata": {},
   "outputs": [],
   "source": [
    "# 問1\n",
    "# 商品名と価格の辞書を作成し、価格が 1000 円以上のものを抽出してください。"
   ]
  },
  {
   "cell_type": "code",
   "execution_count": null,
   "id": "a102af15",
   "metadata": {},
   "outputs": [],
   "source": [
    "# 問2\n",
    "# 学生の名前と成績を格納した辞書から、成績が 80 点以上の学生だけを出力してください。"
   ]
  },
  {
   "cell_type": "code",
   "execution_count": null,
   "id": "aa454cd6",
   "metadata": {},
   "outputs": [],
   "source": [
    "# 問3\n",
    "# リストの中にある辞書の 'id' だけを取り出して新しいリストを作成してください。"
   ]
  },
  {
   "cell_type": "code",
   "execution_count": null,
   "id": "601c2043",
   "metadata": {},
   "outputs": [],
   "source": [
    "# 問4\n",
    "# セットを使って AクラスとBクラスの共通メンバーを求めてください。"
   ]
  },
  {
   "cell_type": "code",
   "execution_count": null,
   "id": "fb45cc7a",
   "metadata": {},
   "outputs": [],
   "source": [
    "# 問5\n",
    "# リストから偶数のみの要素を3倍して新しいリストにしてください。"
   ]
  },
  {
   "cell_type": "code",
   "execution_count": null,
   "id": "2d42dcf2",
   "metadata": {},
   "outputs": [],
   "source": [
    "# 問6\n",
    "# タプルのリストを辞書に変換してください（タプル内は(key, value)形式）。"
   ]
  },
  {
   "cell_type": "code",
   "execution_count": null,
   "id": "8b62fd52",
   "metadata": {},
   "outputs": [],
   "source": [
    "# 問7\n",
    "# 2つの辞書を比較して、共通するキーを出力してください。"
   ]
  },
  {
   "cell_type": "code",
   "execution_count": null,
   "id": "de2dde2f",
   "metadata": {},
   "outputs": [],
   "source": [
    "# 問8\n",
    "# セットで2つのデータ群にしかないデータを抽出してください（対称差）。"
   ]
  },
  {
   "cell_type": "code",
   "execution_count": null,
   "id": "3d34f181",
   "metadata": {},
   "outputs": [],
   "source": [
    "# 問9\n",
    "# 辞書の中で最も値が大きいキーを取得してください。"
   ]
  },
  {
   "cell_type": "code",
   "execution_count": null,
   "id": "7274d239",
   "metadata": {},
   "outputs": [],
   "source": [
    "# 問10\n",
    "# リストをフィルタ＋ソートして、最後に集合に変換してください（総合問題）。"
   ]
  }
 ],
 "metadata": {},
 "nbformat": 4,
 "nbformat_minor": 5
}