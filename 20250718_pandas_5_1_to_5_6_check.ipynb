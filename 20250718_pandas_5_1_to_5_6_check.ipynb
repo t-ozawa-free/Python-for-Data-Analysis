{
 "cells": [
  {
   "cell_type": "code",
   "execution_count": null,
   "id": "2fa6b8e7",
   "metadata": {},
   "outputs": [],
   "source": [
    "# Q1. pandasの2つの主要なデータ構造の名前を書いてください。\n",
    "# ヒント：Seriesと...\n",
    "\n",
    "# 解答欄\n",
    "\n"
   ]
  },
  {
   "cell_type": "code",
   "execution_count": null,
   "id": "5857489c",
   "metadata": {},
   "outputs": [],
   "source": [
    "# Q2. 以下のリストからpandasのSeriesを作成し、インデックスを0から始まる順番に設定してください。\n",
    "values = [10, 20, 30]\n",
    "\n",
    "import pandas as pd\n",
    "# 解答欄\n",
    "\n"
   ]
  },
  {
   "cell_type": "code",
   "execution_count": null,
   "id": "6646141f",
   "metadata": {},
   "outputs": [],
   "source": [
    "# Q3. 以下のDataFrameから、列'b'を削除してください。\n",
    "import pandas as pd\n",
    "\n",
    "df = pd.DataFrame({\"a\": [1, 2], \"b\": [3, 4]})\n",
    "print(\"元のDataFrame\")\n",
    "print(df)\n",
    "\n",
    "# 解答欄\n"
   ]
  },
  {
   "cell_type": "code",
   "execution_count": null,
   "id": "248057cf",
   "metadata": {},
   "outputs": [],
   "source": [
    "# Q4. 以下のDataFrameから、値が50以上の行だけを抽出してください。\n",
    "import pandas as pd\n",
    "\n",
    "df = pd.DataFrame({\"name\": [\"Ken\", \"Aya\", \"Taro\"], \"score\": [45, 70, 60]})\n",
    "\n",
    "# 解答欄\n"
   ]
  },
  {
   "cell_type": "code",
   "execution_count": null,
   "id": "89c208b8",
   "metadata": {},
   "outputs": [],
   "source": [
    "# Q5. 以下のSeriesに10を加算してください（アラインメントに注意）。\n",
    "import pandas as pd\n",
    "\n",
    "s = pd.Series([1, 2, 3], index=[\"a\", \"b\", \"c\"])\n",
    "\n",
    "# 解答欄\n"
   ]
  },
  {
   "cell_type": "code",
   "execution_count": null,
   "id": "0f6612b6",
   "metadata": {},
   "outputs": [],
   "source": [
    "# Q6. 以下のDataFrameの各要素を2倍する処理をapplymapを使って実装してください。\n",
    "import pandas as pd\n",
    "\n",
    "df = pd.DataFrame({\"x\": [1, 2], \"y\": [3, 4]})\n",
    "\n",
    "# 解答欄\n"
   ]
  }
 ],
 "metadata": {},
 "nbformat": 4,
 "nbformat_minor": 5
}
