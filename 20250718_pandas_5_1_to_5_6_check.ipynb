{
 "cells": [
  {
   "cell_type": "code",
   "execution_count": 1,
   "id": "2fa6b8e7",
   "metadata": {},
   "outputs": [
    {
     "ename": "NameError",
     "evalue": "name 'DataFrame' is not defined",
     "output_type": "error",
     "traceback": [
      "\u001b[31m---------------------------------------------------------------------------\u001b[39m",
      "\u001b[31mNameError\u001b[39m                                 Traceback (most recent call last)",
      "\u001b[36mCell\u001b[39m\u001b[36m \u001b[39m\u001b[32mIn[1]\u001b[39m\u001b[32m, line 5\u001b[39m\n\u001b[32m      1\u001b[39m \u001b[38;5;66;03m# Q1. pandasの2つの主要なデータ構造の名前を書いてください。\u001b[39;00m\n\u001b[32m      2\u001b[39m \u001b[38;5;66;03m# ヒント：Seriesと...\u001b[39;00m\n\u001b[32m      3\u001b[39m \n\u001b[32m      4\u001b[39m \u001b[38;5;66;03m# 解答欄\u001b[39;00m\n\u001b[32m----> \u001b[39m\u001b[32m5\u001b[39m DataFrame\n",
      "\u001b[31mNameError\u001b[39m: name 'DataFrame' is not defined"
     ]
    }
   ],
   "source": [
    "# Q1. pandasの2つの主要なデータ構造の名前を書いてください。\n",
    "# ヒント：Seriesと...\n",
    "\n",
    "# 解答欄\n",
    "DataFrame\n"
   ]
  },
  {
   "cell_type": "code",
   "execution_count": 2,
   "id": "5857489c",
   "metadata": {},
   "outputs": [
    {
     "name": "stdout",
     "output_type": "stream",
     "text": [
      "0    10\n",
      "1    20\n",
      "2    30\n",
      "dtype: int64\n"
     ]
    }
   ],
   "source": [
    "# Q2. 以下のリストからpandasのSeriesを作成し、インデックスを0から始まる順番に設定してください。\n",
    "values = [10, 20, 30]\n",
    "\n",
    "import pandas as pd\n",
    "# 解答欄\n",
    "\n",
    "pd_values = pd.Series(values)\n",
    "\n",
    "print(pd_values)"
   ]
  },
  {
   "cell_type": "code",
   "execution_count": 5,
   "id": "6646141f",
   "metadata": {},
   "outputs": [
    {
     "name": "stdout",
     "output_type": "stream",
     "text": [
      "元のDataFrame\n",
      "   a  b\n",
      "0  1  3\n",
      "1  2  4\n",
      "列bを消したやつ\n",
      "   a\n",
      "0  1\n",
      "1  2\n"
     ]
    }
   ],
   "source": [
    "# Q3. 以下のDataFrameから、列'b'を削除してください。\n",
    "import pandas as pd\n",
    "\n",
    "df = pd.DataFrame({\"a\": [1, 2], \"b\": [3, 4]})\n",
    "print(\"元のDataFrame\")\n",
    "print(df)\n",
    "\n",
    "# 解答欄\n",
    "df = df.drop(columns=\"b\")\n",
    "\n",
    "print(\"列bを消したやつ\")\n",
    "print(df)"
   ]
  },
  {
   "cell_type": "code",
   "execution_count": 13,
   "id": "248057cf",
   "metadata": {},
   "outputs": [
    {
     "name": "stdout",
     "output_type": "stream",
     "text": [
      "   name  score\n",
      "0   Ken     45\n",
      "1   Aya     70\n",
      "2  Taro     60\n",
      "   name  score\n",
      "1   Aya     70\n",
      "2  Taro     60\n"
     ]
    }
   ],
   "source": [
    "# Q4. 以下のDataFrameから、値が50以上の行だけを抽出してください。\n",
    "import pandas as pd\n",
    "\n",
    "df = pd.DataFrame({\"name\": [\"Ken\", \"Aya\", \"Taro\"], \"score\": [45, 70, 60]})\n",
    "\n",
    "# 解答欄\n",
    "print(df)\n",
    "\n",
    "print(df.iloc[:][df.score >= 50])"
   ]
  },
  {
   "cell_type": "code",
   "execution_count": 14,
   "id": "89c208b8",
   "metadata": {},
   "outputs": [
    {
     "name": "stdout",
     "output_type": "stream",
     "text": [
      "a    11\n",
      "b    12\n",
      "c    13\n",
      "dtype: int64\n"
     ]
    }
   ],
   "source": [
    "# Q5. 以下のSeriesに10を加算してください（アラインメントに注意）。\n",
    "import pandas as pd\n",
    "\n",
    "s = pd.Series([1, 2, 3], index=[\"a\", \"b\", \"c\"])\n",
    "\n",
    "# 解答欄\n",
    "print(s+10)\n"
   ]
  },
  {
   "cell_type": "code",
   "execution_count": 17,
   "id": "0f6612b6",
   "metadata": {},
   "outputs": [
    {
     "name": "stderr",
     "output_type": "stream",
     "text": [
      "C:\\Users\\kawor\\AppData\\Local\\Temp\\ipykernel_13044\\3719325440.py:11: FutureWarning: DataFrame.applymap has been deprecated. Use DataFrame.map instead.\n",
      "  df.applymap(double)\n"
     ]
    },
    {
     "data": {
      "text/html": [
       "<div>\n",
       "<style scoped>\n",
       "    .dataframe tbody tr th:only-of-type {\n",
       "        vertical-align: middle;\n",
       "    }\n",
       "\n",
       "    .dataframe tbody tr th {\n",
       "        vertical-align: top;\n",
       "    }\n",
       "\n",
       "    .dataframe thead th {\n",
       "        text-align: right;\n",
       "    }\n",
       "</style>\n",
       "<table border=\"1\" class=\"dataframe\">\n",
       "  <thead>\n",
       "    <tr style=\"text-align: right;\">\n",
       "      <th></th>\n",
       "      <th>x</th>\n",
       "      <th>y</th>\n",
       "    </tr>\n",
       "  </thead>\n",
       "  <tbody>\n",
       "    <tr>\n",
       "      <th>0</th>\n",
       "      <td>2</td>\n",
       "      <td>6</td>\n",
       "    </tr>\n",
       "    <tr>\n",
       "      <th>1</th>\n",
       "      <td>4</td>\n",
       "      <td>8</td>\n",
       "    </tr>\n",
       "  </tbody>\n",
       "</table>\n",
       "</div>"
      ],
      "text/plain": [
       "   x  y\n",
       "0  2  6\n",
       "1  4  8"
      ]
     },
     "execution_count": 17,
     "metadata": {},
     "output_type": "execute_result"
    }
   ],
   "source": [
    "# Q6. 以下のDataFrameの各要素を2倍する処理をapplymapを使って実装してください。\n",
    "import pandas as pd\n",
    "from pandas import Series,DataFrame\n",
    "\n",
    "df = pd.DataFrame({\"x\": [1, 2], \"y\": [3, 4]})\n",
    "\n",
    "# 解答欄\n",
    "def double(x):\n",
    "    return x*2\n",
    "\n",
    "df.applymap(double)"
   ]
  },
  {
   "cell_type": "code",
   "execution_count": null,
   "id": "e79c8a38",
   "metadata": {},
   "outputs": [],
   "source": []
  }
 ],
 "metadata": {
  "kernelspec": {
   "display_name": "ai-study",
   "language": "python",
   "name": "python3"
  },
  "language_info": {
   "codemirror_mode": {
    "name": "ipython",
    "version": 3
   },
   "file_extension": ".py",
   "mimetype": "text/x-python",
   "name": "python",
   "nbconvert_exporter": "python",
   "pygments_lexer": "ipython3",
   "version": "3.11.13"
  }
 },
 "nbformat": 4,
 "nbformat_minor": 5
}
