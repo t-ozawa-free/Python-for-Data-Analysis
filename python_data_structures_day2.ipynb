{
 "cells": [
  {
   "cell_type": "markdown",
   "id": "2b227326",
   "metadata": {},
   "source": [
    "# Python演習問題 Day2\n",
    "\n",
    "日々の練習でデータ構造の理解を深めましょう。"
   ]
  },
  {
   "cell_type": "code",
   "execution_count": null,
   "id": "a3b8560b",
   "metadata": {},
   "outputs": [
    {
     "name": "stdout",
     "output_type": "stream",
     "text": [
      "5\n",
      "10\n",
      "15\n"
     ]
    }
   ],
   "source": [
    "# 問1\n",
    "# タプル `(5, 10, 15)` の各要素を for 文で出力してください。\n",
    "tup1 = (5,10,15)\n",
    "for i in tup1:\n",
    "    print(i)"
   ]
  },
  {
   "cell_type": "code",
   "execution_count": 4,
   "id": "edfa299c",
   "metadata": {},
   "outputs": [
    {
     "name": "stdout",
     "output_type": "stream",
     "text": [
      "[20, 30, 40]\n"
     ]
    }
   ],
   "source": [
    "# 問2\n",
    "# リスト `[10, 20, 30, 40, 50]` の 2 〜 4 番目の要素をスライスで取得してください。\n",
    "list1 = [10, 20, 30, 40, 50]\n",
    "\n",
    "print(list1[1:4])"
   ]
  },
  {
   "cell_type": "code",
   "execution_count": 5,
   "id": "b96f2801",
   "metadata": {},
   "outputs": [
    {
     "name": "stdout",
     "output_type": "stream",
     "text": [
      "5 10\n",
      "10 5\n"
     ]
    }
   ],
   "source": [
    "# 問3\n",
    "# `a, b = b, a` のような変数の入れ替えをタプルを使って実装してください。\n",
    "a = 5\n",
    "b = 10\n",
    "print(a,b)\n",
    "a,b = b,a\n",
    "print(a,b)"
   ]
  },
  {
   "cell_type": "code",
   "execution_count": 7,
   "id": "6968290b",
   "metadata": {},
   "outputs": [
    {
     "name": "stdout",
     "output_type": "stream",
     "text": [
      "cat\n",
      "dog\n",
      "oza\n",
      "sk\n"
     ]
    }
   ],
   "source": [
    "# 問4\n",
    "# 辞書のすべてのキーを for 文で出力してください。\n",
    "dict1 = {\"cat\":2, \"dog\":1, \"oza\":42, \"sk\":61}\n",
    "\n",
    "for i in dict1.keys():\n",
    "    print(i)"
   ]
  },
  {
   "cell_type": "code",
   "execution_count": 9,
   "id": "63493892",
   "metadata": {},
   "outputs": [
    {
     "name": "stdout",
     "output_type": "stream",
     "text": [
      "1\n",
      "2\n",
      "3\n",
      "4\n",
      "5\n",
      "6\n",
      "7\n",
      "8\n"
     ]
    }
   ],
   "source": [
    "# 問5\n",
    "# セットのすべての要素を for 文で出力してください。\n",
    "set1 = {1,2,3,4,5,6,7,8}\n",
    "\n",
    "for i in set1:\n",
    "    print(i)"
   ]
  },
  {
   "cell_type": "code",
   "execution_count": 12,
   "id": "90294b15",
   "metadata": {},
   "outputs": [
    {
     "name": "stdout",
     "output_type": "stream",
     "text": [
      "True\n"
     ]
    }
   ],
   "source": [
    "# 問6\n",
    "# `not in` を使ってリストに要素が含まれていないことを確認してください。\n",
    "list2 = [1,2,3,4,5,6,7,8,9]\n",
    "\n",
    "print(10 not in list2)"
   ]
  },
  {
   "cell_type": "code",
   "execution_count": 17,
   "id": "60636cc0",
   "metadata": {},
   "outputs": [
    {
     "name": "stdout",
     "output_type": "stream",
     "text": [
      "[2, 4]\n",
      "2\n",
      "4\n"
     ]
    }
   ],
   "source": [
    "# 問7\n",
    "# リスト `[1, 2, 3, 4, 5]` の偶数だけを出力してください。\n",
    "list3 = [1, 2, 3, 4, 5]\n",
    "list4 = [x for x in list3 if x%2==0]\n",
    "print(list4)\n",
    "\n",
    "for i in list3:\n",
    "    if i % 2 == 0:\n",
    "        print(i)\n"
   ]
  },
  {
   "cell_type": "code",
   "execution_count": 18,
   "id": "66d251b8",
   "metadata": {},
   "outputs": [
    {
     "name": "stdout",
     "output_type": "stream",
     "text": [
      "None\n"
     ]
    }
   ],
   "source": [
    "# 問8\n",
    "# 辞書に存在しないキーに対して `.get()` を使ってデフォルト値を取得してください。\n",
    "dict2 = {\"cat\":2, \"dog\":1, \"oza\":42, \"sk\":61}\n",
    "\n",
    "print(dict2.get(\"megu\"))"
   ]
  },
  {
   "cell_type": "code",
   "execution_count": 21,
   "id": "15bb1179",
   "metadata": {},
   "outputs": [
    {
     "name": "stdout",
     "output_type": "stream",
     "text": [
      "{50, 20, 40, 10, 30}\n",
      "{50, 40, 10, 30}\n"
     ]
    }
   ],
   "source": [
    "# 問9\n",
    "# セットから任意の要素を削除して、変更後のセットを表示してください。\n",
    "set2 = {10,20,30,40,50}\n",
    "\n",
    "print(set2)\n",
    "\n",
    "set2.remove(20)\n",
    "\n",
    "print(set2)"
   ]
  },
  {
   "cell_type": "code",
   "execution_count": 24,
   "id": "50c7d010",
   "metadata": {},
   "outputs": [
    {
     "name": "stdout",
     "output_type": "stream",
     "text": [
      "[4, 2, 3]\n"
     ]
    }
   ],
   "source": [
    "# 問10\n",
    "# リストとタプルの違いをコードコメントで説明してください。\n",
    "\n",
    "list5 = [1,2,3] #リストは鍵括弧\n",
    "tup2 = (1,2,3) #タプルは丸括弧\n",
    "\n",
    "list5[0] = 4 #リストは変更可能\n",
    "print(list5) #変更された結果\n",
    "\n",
    "#tup2[0] = 5 #これはエラーになる。なぜならタプルは変更できないから"
   ]
  }
 ],
 "metadata": {
  "kernelspec": {
   "display_name": "ai-study",
   "language": "python",
   "name": "python3"
  },
  "language_info": {
   "codemirror_mode": {
    "name": "ipython",
    "version": 3
   },
   "file_extension": ".py",
   "mimetype": "text/x-python",
   "name": "python",
   "nbconvert_exporter": "python",
   "pygments_lexer": "ipython3",
   "version": "3.11.13"
  }
 },
 "nbformat": 4,
 "nbformat_minor": 5
}
