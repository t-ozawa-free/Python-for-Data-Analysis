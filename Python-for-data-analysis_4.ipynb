{
 "cells": [
  {
   "cell_type": "code",
   "execution_count": 2,
   "id": "e74f2799",
   "metadata": {},
   "outputs": [
    {
     "name": "stdout",
     "output_type": "stream",
     "text": [
      "1.46 ms ± 39.7 μs per loop (mean ± std. dev. of 7 runs, 1,000 loops each)\n",
      "32.9 ms ± 178 μs per loop (mean ± std. dev. of 7 runs, 10 loops each)\n"
     ]
    }
   ],
   "source": [
    "import numpy as np\n",
    "my_arr = np.arange(1000000)\n",
    "my_list = list(range(1000000))\n",
    "\n",
    "%timeit my_arr2 = my_arr * 2\n",
    "\n",
    "%timeit my_list2 = [x * 2 for x in my_list]"
   ]
  },
  {
   "cell_type": "code",
   "execution_count": 7,
   "id": "df96e11e",
   "metadata": {},
   "outputs": [
    {
     "name": "stdout",
     "output_type": "stream",
     "text": [
      "[[ 1.5 -0.1  3. ]\n",
      " [ 0.  -3.   6.5]]\n",
      "[[ 3.  -0.2  6. ]\n",
      " [ 0.  -6.  13. ]]\n",
      "[[ 15.  -1.  30.]\n",
      " [  0. -30.  65.]]\n",
      "(2, 3)\n",
      "float64\n"
     ]
    }
   ],
   "source": [
    "import numpy as np\n",
    "data = np.array([[1.5,-0.1,3],[0,-3,6.5]])\n",
    "\n",
    "print(data)\n",
    "print(data + data)\n",
    "print(data * 10)\n",
    "print(data.shape)\n",
    "print(data.dtype)\n"
   ]
  },
  {
   "cell_type": "code",
   "execution_count": null,
   "id": "d8ea3aff",
   "metadata": {},
   "outputs": [
    {
     "data": {
      "text/plain": [
       "array([6. , 7.5, 8. , 0. , 1. ])"
      ]
     },
     "execution_count": 11,
     "metadata": {},
     "output_type": "execute_result"
    }
   ],
   "source": [
    "data1 = [6, 7.5 , 8 , 0, 1]\n",
    "arr1 = np.array(data1)\n",
    "arr1\n",
    "#print(arr1)"
   ]
  },
  {
   "cell_type": "code",
   "execution_count": 16,
   "id": "dbd3eee9",
   "metadata": {},
   "outputs": [
    {
     "data": {
      "text/plain": [
       "array([[1, 2, 3, 4],\n",
       "       [5, 6, 7, 8]])"
      ]
     },
     "execution_count": 16,
     "metadata": {},
     "output_type": "execute_result"
    }
   ],
   "source": [
    "data2 = [[1,2,3,4],[5,6,7,8]]\n",
    "arr2 = np.array(data2)\n",
    "arr2\n",
    "#print(arr2)"
   ]
  },
  {
   "cell_type": "code",
   "execution_count": 17,
   "id": "58c26332",
   "metadata": {},
   "outputs": [
    {
     "data": {
      "text/plain": [
       "array([0., 0., 0., 0., 0., 0., 0., 0., 0., 0.])"
      ]
     },
     "execution_count": 17,
     "metadata": {},
     "output_type": "execute_result"
    }
   ],
   "source": [
    "np.zeros(10)"
   ]
  },
  {
   "cell_type": "code",
   "execution_count": 18,
   "id": "e1cfb8b8",
   "metadata": {},
   "outputs": [
    {
     "data": {
      "text/plain": [
       "array([[0., 0., 0., 0., 0., 0.],\n",
       "       [0., 0., 0., 0., 0., 0.],\n",
       "       [0., 0., 0., 0., 0., 0.]])"
      ]
     },
     "execution_count": 18,
     "metadata": {},
     "output_type": "execute_result"
    }
   ],
   "source": [
    "np.zeros((3,6))"
   ]
  },
  {
   "cell_type": "code",
   "execution_count": null,
   "id": "46bf18d4",
   "metadata": {},
   "outputs": [
    {
     "data": {
      "text/plain": [
       "array([[[9.28826599e-312, 9.28826599e-312],\n",
       "        [9.28826599e-312, 1.26974871e-321],\n",
       "        [7.56571287e-307, 5.74084271e+169]],\n",
       "\n",
       "       [[6.20516042e-091, 1.65847382e-076],\n",
       "        [2.82923033e-033, 9.05274525e-043],\n",
       "        [3.99910963e+252, 1.46030983e-319]]])"
      ]
     },
     "execution_count": 19,
     "metadata": {},
     "output_type": "execute_result"
    }
   ],
   "source": [
    "np.empty((2,3,2)) #これは必ず0が入るわけではない。"
   ]
  },
  {
   "cell_type": "code",
   "execution_count": 21,
   "id": "a6e97347",
   "metadata": {},
   "outputs": [
    {
     "data": {
      "text/plain": [
       "array([ 0,  1,  2,  3,  4,  5,  6,  7,  8,  9, 10, 11, 12, 13, 14])"
      ]
     },
     "execution_count": 21,
     "metadata": {},
     "output_type": "execute_result"
    }
   ],
   "source": [
    "np.arange(15)"
   ]
  },
  {
   "cell_type": "code",
   "execution_count": 24,
   "id": "0ad9a6ac",
   "metadata": {},
   "outputs": [
    {
     "name": "stdout",
     "output_type": "stream",
     "text": [
      "int64\n",
      "float64\n",
      "[ 3 -1 -2  0 12 10]\n"
     ]
    }
   ],
   "source": [
    "arr = np.array([1,2,3,4,5])\n",
    "\n",
    "print(arr.dtype)\n",
    "\n",
    "float_arr = arr.astype(np.float64)\n",
    "\n",
    "print(float_arr.dtype)\n",
    "\n",
    "arr = np.array([3.7, -1.2, -2.6, 0.5, 12.9, 10.1])\n",
    "\n",
    "print(arr.astype(np.int32))"
   ]
  },
  {
   "cell_type": "code",
   "execution_count": 28,
   "id": "03450e19",
   "metadata": {},
   "outputs": [
    {
     "name": "stdout",
     "output_type": "stream",
     "text": [
      "[[False False False]\n",
      " [False  True False]]\n"
     ]
    }
   ],
   "source": [
    "arr = np.array([[1.,2.,3.],[4.,5.,6]])\n",
    "\n",
    "arr2 = np.array([[1.,2.,3.],[4.,10.,6]])\n",
    "\n",
    "print(arr2 > arr)"
   ]
  },
  {
   "cell_type": "code",
   "execution_count": 33,
   "id": "f52a7fa9",
   "metadata": {},
   "outputs": [
    {
     "name": "stdout",
     "output_type": "stream",
     "text": [
      "[1, 10, 3, 4, 5, 6] [ 1 10  3  4  5  6]\n",
      "[1, 10, 3, 4, 5, 6] [  1  10 100 100   5   6]\n"
     ]
    }
   ],
   "source": [
    "list1 = [1,2,3,4,5,6]\n",
    "list2 = np.array([1,2,3,4,5,6])\n",
    "\n",
    "list1[1] = 10\n",
    "list2[1] = 10\n",
    "\n",
    "print(list1, list2)\n",
    "\n",
    "#list1[2:4] = 100 #できない！\n",
    "list2[2:4] = 100\n",
    "print(list1,list2)"
   ]
  },
  {
   "cell_type": "code",
   "execution_count": 37,
   "id": "4dc84254",
   "metadata": {},
   "outputs": [
    {
     "name": "stdout",
     "output_type": "stream",
     "text": [
      "3\n",
      "3\n"
     ]
    }
   ],
   "source": [
    "arr2d = np.array([[1,2,3],[4,5,6],[7,8,9]])\n",
    "\n",
    "arr2d[2]\n",
    "print(arr2d[0][2])\n",
    "print(arr2d[0,2])"
   ]
  },
  {
   "cell_type": "code",
   "execution_count": 51,
   "id": "a20d68fd",
   "metadata": {},
   "outputs": [
    {
     "name": "stdout",
     "output_type": "stream",
     "text": [
      "[[[42 42 42]\n",
      "  [42 42 42]]\n",
      "\n",
      " [[ 7  8  9]\n",
      "  [10 11 12]]]\n",
      "[[[ 1  2  3]\n",
      "  [ 4  5  6]]\n",
      "\n",
      " [[ 7  8  9]\n",
      "  [10 11 12]]]\n",
      "[7 8 9]\n"
     ]
    }
   ],
   "source": [
    "arr3d = np.array([[[1,2,3],[4,5,6]],[[7,8,9],[10,11,12]]])\n",
    "arr3d\n",
    "#print(arr3d[0])\n",
    "\n",
    "old_values = arr3d[0].copy()\n",
    "arr3d[0] = 42\n",
    "\n",
    "print(arr3d)\n",
    "\n",
    "#print(old_values)\n",
    "\n",
    "arr3d[0] = old_values\n",
    "\n",
    "print(arr3d)\n",
    "\n",
    "print(arr3d[1,0])"
   ]
  },
  {
   "cell_type": "code",
   "execution_count": 55,
   "id": "acb2dd56",
   "metadata": {},
   "outputs": [
    {
     "data": {
      "text/plain": [
       "array([[1., 2., 3.]])"
      ]
     },
     "execution_count": 55,
     "metadata": {},
     "output_type": "execute_result"
    }
   ],
   "source": [
    "arr[:1]"
   ]
  },
  {
   "cell_type": "code",
   "execution_count": 59,
   "id": "d6ae53a9",
   "metadata": {},
   "outputs": [
    {
     "name": "stdout",
     "output_type": "stream",
     "text": [
      "[[4 7]\n",
      " [0 0]]\n",
      "[7 0]\n",
      "[[7]\n",
      " [0]]\n"
     ]
    }
   ],
   "source": [
    "names = np.array([\"Bob\",\"Joe\",\"Will\",\"Bob\",\"Will\",\"Joe\",\"Joe\"])\n",
    "\n",
    "data = np.array([[4,7],[0,2],[5,6],[0,0],[1,2],[-12,-4],[3,4]])\n",
    "\n",
    "print(data[names == \"Bob\"])\n",
    "print(data[names == \"Bob\", 1])\n",
    "print(data[names == \"Bob\", 1:])\n",
    "\n"
   ]
  },
  {
   "cell_type": "code",
   "execution_count": 61,
   "id": "a9d76aee",
   "metadata": {},
   "outputs": [
    {
     "data": {
      "text/plain": [
       "array([[4., 4., 4., 4.],\n",
       "       [3., 3., 3., 3.],\n",
       "       [0., 0., 0., 0.],\n",
       "       [6., 6., 6., 6.]])"
      ]
     },
     "execution_count": 61,
     "metadata": {},
     "output_type": "execute_result"
    }
   ],
   "source": [
    "arr = np.zeros((8,4))\n",
    "for i in range(8):\n",
    "    arr[i] = i\n",
    "\n",
    "arr[[4,3,0,6]]"
   ]
  },
  {
   "cell_type": "code",
   "execution_count": 63,
   "id": "9819be04",
   "metadata": {},
   "outputs": [
    {
     "data": {
      "text/plain": [
       "array([[ 0,  1,  2,  3],\n",
       "       [ 4,  5,  6,  7],\n",
       "       [ 8,  9, 10, 11],\n",
       "       [12, 13, 14, 15],\n",
       "       [16, 17, 18, 19],\n",
       "       [20, 21, 22, 23],\n",
       "       [24, 25, 26, 27],\n",
       "       [28, 29, 30, 31]])"
      ]
     },
     "execution_count": 63,
     "metadata": {},
     "output_type": "execute_result"
    }
   ],
   "source": [
    "arr = np.arange(32).reshape((8,4))\n",
    "arr"
   ]
  },
  {
   "cell_type": "code",
   "execution_count": 65,
   "id": "5b0c4d09",
   "metadata": {},
   "outputs": [
    {
     "name": "stdout",
     "output_type": "stream",
     "text": [
      "[[ 0  1  2  3  4]\n",
      " [ 5  6  7  8  9]\n",
      " [10 11 12 13 14]]\n",
      "[[ 0  5 10]\n",
      " [ 1  6 11]\n",
      " [ 2  7 12]\n",
      " [ 3  8 13]\n",
      " [ 4  9 14]]\n",
      "[[ 0  1  2  3  4]\n",
      " [ 5  6  7  8  9]\n",
      " [10 11 12 13 14]]\n"
     ]
    }
   ],
   "source": [
    "arr4 = np.arange(15).reshape((3,5))\n",
    "print(arr4)\n",
    "print(arr4.T)\n",
    "print(arr4)"
   ]
  },
  {
   "cell_type": "code",
   "execution_count": null,
   "id": "80fb1d0b",
   "metadata": {},
   "outputs": [
    {
     "name": "stdout",
     "output_type": "stream",
     "text": [
      "[1 2 3 4 5]\n",
      "[0. 0. 0. 0. 0. 0. 0. 0. 0. 0.]\n",
      "[ 1  2  3  4  5  6  7  8  9 10]\n",
      "[[1 2 3]\n",
      " [4 5 6]\n",
      " [7 8 9]]\n",
      "[40 50 60]\n",
      "[ 2  4  6  8 10]\n",
      "[2 4 6]\n",
      "[[1 3]\n",
      " [2 4]]\n",
      "8\n",
      "2\n",
      "4.6\n"
     ]
    }
   ],
   "source": [
    "#昨日の復習\n",
    "import numpy as np\n",
    "\n",
    "#問題1\n",
    "#NumPy配列 [1, 2, 3, 4, 5] を作成してください。\n",
    "\n",
    "#解答\n",
    "ndarry_test1 = np.array([1,2,3,4,5])\n",
    "print(ndarry_test1)\n",
    "\n",
    "#問題2\n",
    "#長さ10で、すべての値が0のNumPy配列を作成してください。\n",
    "\n",
    "#解答\n",
    "ndarry_test2 = np.zeros(10)\n",
    "print(ndarry_test2)\n",
    "\n",
    "#問題3\n",
    "#1から10までの値を持つNumPy配列を作成してください（np.arange使用）。\n",
    "\n",
    "#解答\n",
    "ndarry_test3 = np.arange(1,11)\n",
    "print(ndarry_test3)\n",
    "\n",
    "#問題4\n",
    "#np.arange(1, 10) を使って、3行3列の行列に変換してください（reshape）。\n",
    "\n",
    "#解答\n",
    "ndarry_test4 = np.arange(1,10).reshape(3,3)\n",
    "print(ndarry_test4)\n",
    "\n",
    "#問題5\n",
    "#以下の2次元配列から、2行目だけを取り出してください。\n",
    "\n",
    "arr = np.array([[10, 20, 30],\n",
    "                [40, 50, 60],\n",
    "                [70, 80, 90]])\n",
    "\n",
    "#解答\n",
    "print(arr[1])\n",
    "\n",
    "#問題6\n",
    "#以下の配列の要素をすべて2倍にしてください。\n",
    "\n",
    "arr = np.array([1, 2, 3, 4, 5])\n",
    "\n",
    "#解答\n",
    "arr = arr * 2\n",
    "print(arr)\n",
    "\n",
    "#問題7\n",
    "#次の配列から、偶数の要素だけを抽出してください（ブールインデックス使用）。\n",
    "\n",
    "arr = np.array([1, 2, 3, 4, 5, 6, 7])\n",
    "\n",
    "#解答\n",
    "print(arr[arr%2==0])\n",
    "\n",
    "#問題8\n",
    "#以下の2つの配列を縦方向に連結（vstack）してください。\n",
    "\n",
    "a = np.array([1, 2, 3])\n",
    "b = np.array([4, 5, 6])\n",
    "\n",
    "#解答\n",
    "#わかりません\n",
    "\n",
    "#問題9\n",
    "#次の2次元配列を転置してください。\n",
    "\n",
    "arr = np.array([[1, 2], [3, 4]])\n",
    "\n",
    "#解答\n",
    "arr = arr.T\n",
    "print(arr)\n",
    "\n",
    "\n",
    "#問題10\n",
    "#次の配列の最大値、最小値、平均値を出力してください。\n",
    "\n",
    "arr = np.array([3, 6, 2, 8, 4])\n",
    "\n",
    "#解答\n",
    "max_num = arr.max()\n",
    "min_num = arr.min()\n",
    "ave_mum = arr.sum()/len(arr)\n",
    "\n",
    "print(max_num)\n",
    "print(min_num)\n",
    "print(ave_mum)"
   ]
  },
  {
   "cell_type": "code",
   "execution_count": 21,
   "id": "d55b472b",
   "metadata": {},
   "outputs": [
    {
     "data": {
      "text/plain": [
       "Text(0.5, 1.0, 'Image plot of $\\\\sqrt{x^2 + y^2}$ for a grid of values')"
      ]
     },
     "execution_count": 21,
     "metadata": {},
     "output_type": "execute_result"
    },
    {
     "data": {
      "image/png": "[encoded data removed]",
      "text/plain": [
       "<Figure size 640x480 with 2 Axes>"
      ]
     },
     "metadata": {},
     "output_type": "display_data"
    }
   ],
   "source": [
    "import matplotlib.pyplot as plt\n",
    "\n",
    "points = np.arange(-5,5,0.01)\n",
    "xs,ys = np.meshgrid(points,points)\n",
    "ys\n",
    "\n",
    "z = np.sqrt(xs ** 2 + ys **2)\n",
    "z\n",
    "\n",
    "plt.imshow(z, cmap=plt.cm.gray, extent=[-5,5,-5,5])\n",
    "\n",
    "plt.colorbar()\n",
    "\n",
    "plt.title(\"Image plot of $\\sqrt{x^2 + y^2}$ for a grid of values\")\n"
   ]
  },
  {
   "cell_type": "code",
   "execution_count": 22,
   "id": "b7e7bc96",
   "metadata": {},
   "outputs": [
    {
     "data": {
      "text/plain": [
       "array([1.1, 2.2, 1.3, 1.4, 2.5])"
      ]
     },
     "execution_count": 22,
     "metadata": {},
     "output_type": "execute_result"
    }
   ],
   "source": [
    "xarr = np.array([1.1,1.2,1.3,1.4,1.5])\n",
    "\n",
    "yarr = np.array([2.1,2.2,2.3,2.4,2.5])\n",
    "\n",
    "cond = np.array([True,False,True,True,False])\n",
    "\n",
    "result = np.where(cond,xarr,yarr)\n",
    "result"
   ]
  },
  {
   "cell_type": "code",
   "execution_count": 28,
   "id": "cb5559ad",
   "metadata": {},
   "outputs": [
    {
     "name": "stdout",
     "output_type": "stream",
     "text": [
      "[[-0.58145405 -0.16461604 -1.09981844 -0.35128692]\n",
      " [ 0.23888389  0.40016246  1.68475597 -1.31057981]\n",
      " [ 0.31122096 -0.10944525 -1.37588978  0.19114478]\n",
      " [-1.27625633  0.56006326  0.63735632 -1.11199793]]\n",
      "[[-2 -2 -2 -2]\n",
      " [ 2  2  2 -2]\n",
      " [ 2 -2 -2  2]\n",
      " [-2  2  2 -2]]\n"
     ]
    }
   ],
   "source": [
    "import numpy.random as rng\n",
    "\n",
    "arr = rng.standard_normal((4,4))\n",
    "\n",
    "print(arr)\n",
    "\n",
    "print(np.where(arr > 0,2,-2))"
   ]
  },
  {
   "cell_type": "code",
   "execution_count": 32,
   "id": "b252a49a",
   "metadata": {},
   "outputs": [
    {
     "name": "stdout",
     "output_type": "stream",
     "text": [
      "[12 15 18]\n",
      "[ 6 15 24]\n"
     ]
    }
   ],
   "source": [
    "arr = np.array(([1,2,3],[4,5,6],[7,8,9]))\n",
    "\n",
    "print(arr.sum(axis=0))\n",
    "print(arr.sum(axis=1))"
   ]
  },
  {
   "cell_type": "code",
   "execution_count": null,
   "id": "1717692f",
   "metadata": {},
   "outputs": [],
   "source": []
  }
 ],
 "metadata": {
  "kernelspec": {
   "display_name": "ai-study",
   "language": "python",
   "name": "python3"
  },
  "language_info": {
   "codemirror_mode": {
    "name": "ipython",
    "version": 3
   },
   "file_extension": ".py",
   "mimetype": "text/x-python",
   "name": "python",
   "nbconvert_exporter": "python",
   "pygments_lexer": "ipython3",
   "version": "3.11.13"
  }
 },
 "nbformat": 4,
 "nbformat_minor": 5
}
