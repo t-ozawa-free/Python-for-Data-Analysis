{
 "cells": [
  {
   "cell_type": "markdown",
   "id": "1422ec51",
   "metadata": {},
   "source": [
    "# Python演習問題 Day5\n",
    "\n",
    "日々の練習でデータ構造の理解を深めましょう。"
   ]
  },
  {
   "cell_type": "code",
   "execution_count": null,
   "id": "35910111",
   "metadata": {},
   "outputs": [],
   "source": [
    "# 問1\n",
    "# 辞書で人物の情報（名前・年齢）を管理してください。"
   ]
  },
  {
   "cell_type": "code",
   "execution_count": null,
   "id": "4836dfe2",
   "metadata": {},
   "outputs": [],
   "source": [
    "# 問2\n",
    "# 複数人分の情報をリストに辞書形式で保存してください。"
   ]
  },
  {
   "cell_type": "code",
   "execution_count": null,
   "id": "14ea2e23",
   "metadata": {},
   "outputs": [],
   "source": [
    "# 問3\n",
    "# ユーザーの年齢が20歳以上の人だけを抽出してください（リスト内包表記）。"
   ]
  },
  {
   "cell_type": "code",
   "execution_count": null,
   "id": "b08850df",
   "metadata": {},
   "outputs": [],
   "source": [
    "# 問4\n",
    "# 辞書のキーが存在する場合のみ値を更新してください。"
   ]
  },
  {
   "cell_type": "code",
   "execution_count": null,
   "id": "4517de44",
   "metadata": {},
   "outputs": [],
   "source": [
    "# 問5\n",
    "# セットを使ってカテゴリの重複を除去してください。"
   ]
  },
  {
   "cell_type": "code",
   "execution_count": null,
   "id": "bffb8e30",
   "metadata": {},
   "outputs": [],
   "source": [
    "# 問6\n",
    "# セットの演算でブラックリストに該当する要素を除外してください。"
   ]
  },
  {
   "cell_type": "code",
   "execution_count": null,
   "id": "f3d24cb7",
   "metadata": {},
   "outputs": [],
   "source": [
    "# 問7\n",
    "# リストに含まれる数値の合計と平均を求めてください。"
   ]
  },
  {
   "cell_type": "code",
   "execution_count": null,
   "id": "2de626f7",
   "metadata": {},
   "outputs": [],
   "source": [
    "# 問8\n",
    "# タプルのリストから最大値を持つ要素を抽出してください。"
   ]
  },
  {
   "cell_type": "code",
   "execution_count": null,
   "id": "cc46a47d",
   "metadata": {},
   "outputs": [],
   "source": [
    "# 問9\n",
    "# 辞書の値の合計を求めてください。"
   ]
  },
  {
   "cell_type": "code",
   "execution_count": null,
   "id": "ae6da56c",
   "metadata": {},
   "outputs": [],
   "source": [
    "# 問10\n",
    "# リストをソートして降順で出力してください。"
   ]
  }
 ],
 "metadata": {},
 "nbformat": 4,
 "nbformat_minor": 5
}