{
 "cells": [
  {
   "cell_type": "markdown",
   "id": "1422ec51",
   "metadata": {},
   "source": [
    "# Python演習問題 Day5\n",
    "\n",
    "日々の練習でデータ構造の理解を深めましょう。"
   ]
  },
  {
   "cell_type": "code",
   "execution_count": 1,
   "id": "35910111",
   "metadata": {},
   "outputs": [
    {
     "name": "stdout",
     "output_type": "stream",
     "text": [
      "名前： でじこ 年齢： 12\n",
      "名前： ぷちこ 年齢： 10\n",
      "名前： うさだ 年齢： 16\n"
     ]
    }
   ],
   "source": [
    "# 問1\n",
    "# 辞書で人物の情報（名前・年齢）を管理してください。\n",
    "dect1 = {\"でじこ\":12,\"ぷちこ\":10,\"うさだ\":16}\n",
    "\n",
    "for i,j in dect1.items():\n",
    "    print(\"名前：\",i,\"年齢：\",j)\n"
   ]
  },
  {
   "cell_type": "code",
   "execution_count": null,
   "id": "4836dfe2",
   "metadata": {},
   "outputs": [],
   "source": [
    "# 問2\n",
    "# 複数人分の情報をリストに辞書形式で保存してください。\n",
    "list_dict1 = [{\"名前\":\"でじこ\",\"年齢\":12},{\"名前\":\"ぷちこ\",\"年齢\":10},{\"名前\":\"うさだ\",\"年齢\":16},]\n",
    "\n",
    "#どういうことかわかりません・・・。"
   ]
  },
  {
   "cell_type": "code",
   "execution_count": null,
   "id": "14ea2e23",
   "metadata": {},
   "outputs": [
    {
     "name": "stdout",
     "output_type": "stream",
     "text": [
      "['oza', 'sk']\n"
     ]
    }
   ],
   "source": [
    "# 問3\n",
    "# ユーザーの年齢が20歳以上の人だけを抽出してください（リスト内包表記）。\n",
    "\n",
    "dict2 = {\"cat\":2,\"dog\":1,\"oza\":42,\"sk\":61}\n",
    "\n",
    "list1 = [x for x,y in dict2.items() if y >= 20]\n",
    "\n",
    "print(list1)\n",
    "\n",
    "#やっぱり辞書の内包表記がぱっと出ない・・・！悔しい！"
   ]
  },
  {
   "cell_type": "code",
   "execution_count": null,
   "id": "b08850df",
   "metadata": {},
   "outputs": [
    {
     "name": "stdout",
     "output_type": "stream",
     "text": [
      "\n",
      "\n",
      "\n",
      "\n"
     ]
    }
   ],
   "source": [
    "# 問4\n",
    "# 辞書のキーが存在する場合のみ値を更新してください。\n",
    "\n",
    "#わかりません・・・。"
   ]
  },
  {
   "cell_type": "code",
   "execution_count": 17,
   "id": "4517de44",
   "metadata": {},
   "outputs": [
    {
     "name": "stdout",
     "output_type": "stream",
     "text": [
      "[1, 2, 3, 4, 5, 6, 2, 4, 6]\n",
      "{1, 2, 3, 4, 5, 6}\n"
     ]
    }
   ],
   "source": [
    "# 問5\n",
    "# セットを使ってカテゴリの重複を除去してください。\n",
    "\n",
    "list2 = [1,2,3,4,5,6,2,4,6]\n",
    "set1 = set(list2)\n",
    "print(list2)\n",
    "print(set1)"
   ]
  },
  {
   "cell_type": "code",
   "execution_count": null,
   "id": "bffb8e30",
   "metadata": {},
   "outputs": [],
   "source": [
    "# 問6\n",
    "# セットの演算でブラックリストに該当する要素を除外してください。\n",
    "\n",
    "#どういうことかわかりません・・・。"
   ]
  },
  {
   "cell_type": "code",
   "execution_count": null,
   "id": "f3d24cb7",
   "metadata": {},
   "outputs": [
    {
     "name": "stdout",
     "output_type": "stream",
     "text": [
      "55\n",
      "5.5\n"
     ]
    }
   ],
   "source": [
    "# 問7\n",
    "# リストに含まれる数値の合計と平均を求めてください。\n",
    "total = 0\n",
    "ave = 0\n",
    "\n",
    "list3 = [1,2,3,4,5,6,7,8,9,10]\n",
    "\n",
    "print(sum(list3))\n",
    "print(sum(list3)/len(list3))\n",
    "\n",
    "#ネットで調べました・・・。"
   ]
  },
  {
   "cell_type": "code",
   "execution_count": 19,
   "id": "2de626f7",
   "metadata": {},
   "outputs": [
    {
     "name": "stdout",
     "output_type": "stream",
     "text": [
      "32\n"
     ]
    }
   ],
   "source": [
    "# 問8\n",
    "# タプルのリストから最大値を持つ要素を抽出してください。\n",
    "\n",
    "tup1 = (1,2,3,4,1,4,6,8,3,1,3,32,1)\n",
    "\n",
    "print(max(tup1))"
   ]
  },
  {
   "cell_type": "code",
   "execution_count": 21,
   "id": "cc46a47d",
   "metadata": {},
   "outputs": [
    {
     "name": "stdout",
     "output_type": "stream",
     "text": [
      "106\n"
     ]
    }
   ],
   "source": [
    "# 問9\n",
    "# 辞書の値の合計を求めてください。\n",
    "dict3 = {\"cat\":2,\"dog\":1,\"oza\":42,\"sk\":61}\n",
    "\n",
    "print(sum(dict3.values()))"
   ]
  },
  {
   "cell_type": "code",
   "execution_count": 24,
   "id": "ae6da56c",
   "metadata": {},
   "outputs": [
    {
     "data": {
      "text/plain": [
       "[32, 8, 6, 4, 4, 3, 3, 3, 2, 1, 1, 1, 1]"
      ]
     },
     "execution_count": 24,
     "metadata": {},
     "output_type": "execute_result"
    }
   ],
   "source": [
    "# 問10\n",
    "# リストをソートして降順で出力してください。\n",
    "\n",
    "list4 = [1,2,3,4,1,4,6,8,3,1,3,32,1]\n",
    "\n",
    "sorted(list4, reverse=True)"
   ]
  }
 ],
 "metadata": {
  "kernelspec": {
   "display_name": "ai-study",
   "language": "python",
   "name": "python3"
  },
  "language_info": {
   "codemirror_mode": {
    "name": "ipython",
    "version": 3
   },
   "file_extension": ".py",
   "mimetype": "text/x-python",
   "name": "python",
   "nbconvert_exporter": "python",
   "pygments_lexer": "ipython3",
   "version": "3.11.13"
  }
 },
 "nbformat": 4,
 "nbformat_minor": 5
}
