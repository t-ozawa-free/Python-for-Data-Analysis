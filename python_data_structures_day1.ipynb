{
 "cells": [
  {
   "cell_type": "markdown",
   "id": "e4bbfc46",
   "metadata": {},
   "source": [
    "# Python演習問題 Day1\n",
    "\n",
    "基礎のデータ構造（タプル・リスト・ディクショナリ・セット）の構文と基本操作を確認します。"
   ]
  },
  {
   "cell_type": "code",
   "execution_count": 1,
   "id": "6b8667eb",
   "metadata": {},
   "outputs": [
    {
     "name": "stdout",
     "output_type": "stream",
     "text": [
      "(1, 2, 3)\n"
     ]
    }
   ],
   "source": [
    "# 問1\n",
    "# タプルを使って (1, 2, 3) を表す変数 `t` を作成してください。\n",
    "\n",
    "t = (1,2,3)\n",
    "\n",
    "print(t)"
   ]
  },
  {
   "cell_type": "code",
   "execution_count": 2,
   "id": "e70c9400",
   "metadata": {},
   "outputs": [
    {
     "name": "stdout",
     "output_type": "stream",
     "text": [
      "20\n"
     ]
    }
   ],
   "source": [
    "# 問2\n",
    "# タプル `t = (10, 20, 30)` から2番目の要素を取り出して出力してください。\n",
    "\n",
    "t = (10,20,30)\n",
    "\n",
    "print(t[1])"
   ]
  },
  {
   "cell_type": "code",
   "execution_count": 3,
   "id": "ad3ebf78",
   "metadata": {},
   "outputs": [
    {
     "name": "stdout",
     "output_type": "stream",
     "text": [
      "[1, 2, 3]\n",
      "[1, 2, 3, 4]\n"
     ]
    }
   ],
   "source": [
    "# 問3\n",
    "# リスト `[1, 2, 3]` に 4 を追加してください。\n",
    "\n",
    "l = [1, 2, 3]\n",
    "print(l)\n",
    "l.append(4)\n",
    "print(l)\n"
   ]
  },
  {
   "cell_type": "code",
   "execution_count": null,
   "id": "ac78eabd",
   "metadata": {},
   "outputs": [
    {
     "name": "stdout",
     "output_type": "stream",
     "text": [
      "[1, 2, 3, 4]\n",
      "[2, 3, 4]\n"
     ]
    }
   ],
   "source": [
    "# 問4\n",
    "# リスト `[1, 2, 3, 4]` の先頭の要素を削除してください。\n",
    "\n",
    "print(l)\n",
    "l.pop(0)\n",
    "print(l)\n",
    "\n",
    "#本当にこのやり方が良いのか疑問。"
   ]
  },
  {
   "cell_type": "code",
   "execution_count": null,
   "id": "ea11aeb9",
   "metadata": {},
   "outputs": [
    {
     "name": "stdout",
     "output_type": "stream",
     "text": [
      "{'a': 1, 'b': 2}\n",
      "{'a': 1, 'b': 2, 'c': 3}\n"
     ]
    }
   ],
   "source": [
    "# 問5\n",
    "# 辞書 `{'a': 1, 'b': 2}` にキー `'c'` と値 `3` を追加してください。\n",
    "\n",
    "d = {\"a\":1, \"b\":2}\n",
    "print(d)\n",
    "d[\"c\"] = 3\n",
    "print(d)\n",
    "\n",
    "#辞書に関して、キーのアクセスとかキーの設定で[\"キー\"]ということを忘れる！これは確実に覚えておきたい！"
   ]
  },
  {
   "cell_type": "code",
   "execution_count": 7,
   "id": "4533b0d6",
   "metadata": {},
   "outputs": [
    {
     "name": "stdout",
     "output_type": "stream",
     "text": [
      "1\n"
     ]
    }
   ],
   "source": [
    "# 問6\n",
    "# 辞書からキー `'a'` の値を取り出して出力してください。\n",
    "\n",
    "print(d[\"a\"])"
   ]
  },
  {
   "cell_type": "code",
   "execution_count": null,
   "id": "1feda033",
   "metadata": {},
   "outputs": [
    {
     "name": "stdout",
     "output_type": "stream",
     "text": [
      "{1, 2, 3}\n",
      "{1, 2, 3}\n"
     ]
    }
   ],
   "source": [
    "# 問7\n",
    "# セット `{1, 2, 3}` に 3 を追加したときの動作を確認してください（重複は？）。\n",
    "s = {1,2,3}\n",
    "print(s)\n",
    "s.add(3)\n",
    "print(s)\n",
    "\n",
    "#変わりませんね！重複しているので！"
   ]
  },
  {
   "cell_type": "code",
   "execution_count": 9,
   "id": "92a21206",
   "metadata": {},
   "outputs": [
    {
     "name": "stdout",
     "output_type": "stream",
     "text": [
      "{1, 2, 3, 4}\n"
     ]
    }
   ],
   "source": [
    "# 問8\n",
    "# セットに 4 を追加して、全体を出力してください。\n",
    "\n",
    "s.add(4)\n",
    "print(s)"
   ]
  },
  {
   "cell_type": "code",
   "execution_count": 11,
   "id": "c8bc86f3",
   "metadata": {},
   "outputs": [
    {
     "name": "stdout",
     "output_type": "stream",
     "text": [
      "<class 'tuple'>\n",
      "<class 'list'>\n",
      "<class 'set'>\n",
      "<class 'dict'>\n"
     ]
    }
   ],
   "source": [
    "# 問9\n",
    "# タプル、リスト、セット、辞書の型を `type()` を使って確認し、それぞれ出力してください。\n",
    "\n",
    "print(type(t))\n",
    "print(type(l))\n",
    "print(type(s))\n",
    "print(type(d))"
   ]
  },
  {
   "cell_type": "code",
   "execution_count": 12,
   "id": "d233b9e5",
   "metadata": {},
   "outputs": [
    {
     "name": "stdout",
     "output_type": "stream",
     "text": [
      "3\n",
      "4\n",
      "3\n"
     ]
    }
   ],
   "source": [
    "# 問10\n",
    "# リスト、セット、辞書の `len()` を使って要素数を出力してください。\n",
    "\n",
    "print(len(l))\n",
    "print(len(s))\n",
    "print(len(d))\n"
   ]
  },
  {
   "cell_type": "code",
   "execution_count": null,
   "id": "344e4a4c",
   "metadata": {},
   "outputs": [],
   "source": []
  }
 ],
 "metadata": {
  "kernelspec": {
   "display_name": "ai-study",
   "language": "python",
   "name": "python3"
  },
  "language_info": {
   "codemirror_mode": {
    "name": "ipython",
    "version": 3
   },
   "file_extension": ".py",
   "mimetype": "text/x-python",
   "name": "python",
   "nbconvert_exporter": "python",
   "pygments_lexer": "ipython3",
   "version": "3.11.13"
  }
 },
 "nbformat": 4,
 "nbformat_minor": 5
}
