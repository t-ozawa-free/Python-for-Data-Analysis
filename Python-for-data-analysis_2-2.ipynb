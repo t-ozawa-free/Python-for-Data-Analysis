{
 "cells": [
  {
   "cell_type": "code",
   "execution_count": 1,
   "id": "5139d9b0",
   "metadata": {},
   "outputs": [
    {
     "data": {
      "text/plain": [
       "5"
      ]
     },
     "execution_count": 1,
     "metadata": {},
     "output_type": "execute_result"
    }
   ],
   "source": [
    "a = 5\n",
    "a"
   ]
  },
  {
   "cell_type": "code",
   "execution_count": 2,
   "id": "c43a18df",
   "metadata": {},
   "outputs": [
    {
     "name": "stdout",
     "output_type": "stream",
     "text": [
      "[10 20 30]\n"
     ]
    }
   ],
   "source": [
    "import numpy as np\n",
    "a = np.array([1,2,3])\n",
    "print(a * 10)"
   ]
  },
  {
   "cell_type": "code",
   "execution_count": 3,
   "id": "aa6138c4",
   "metadata": {},
   "outputs": [
    {
     "name": "stdout",
     "output_type": "stream",
     "text": [
      "[1.6547816931574528, -0.8488013089337078, 0.1824582950747663, 0.7299129195009348, -1.7328556477910162, 2.000688146480336, -0.3327146495485904]\n"
     ]
    }
   ],
   "source": [
    "data = [np.random.standard_normal() for i in range(7)]\n",
    "print(data)"
   ]
  },
  {
   "cell_type": "code",
   "execution_count": null,
   "id": "39cd4121",
   "metadata": {},
   "outputs": [
    {
     "data": {
      "text/plain": [
       "[1.6547816931574528,\n",
       " -0.8488013089337078,\n",
       " 0.1824582950747663,\n",
       " 0.7299129195009348,\n",
       " -1.7328556477910162,\n",
       " 2.000688146480336,\n",
       " -0.3327146495485904]"
      ]
     },
     "execution_count": 4,
     "metadata": {},
     "output_type": "execute_result"
    }
   ],
   "source": [
    "data"
   ]
  },
  {
   "cell_type": "code",
   "execution_count": 5,
   "id": "636ccdce",
   "metadata": {},
   "outputs": [
    {
     "name": "stdout",
     "output_type": "stream",
     "text": [
      "\u001b[31mType:\u001b[39m        list\n",
      "\u001b[31mString form:\u001b[39m [1, 2, 3]\n",
      "\u001b[31mLength:\u001b[39m      3\n",
      "\u001b[31mDocstring:\u001b[39m  \n",
      "Built-in mutable sequence.\n",
      "\n",
      "If no argument is given, the constructor creates a new empty list.\n",
      "The argument must be an iterable if specified."
     ]
    }
   ],
   "source": [
    "b = [1,2,3]\n",
    "b?"
   ]
  },
  {
   "cell_type": "code",
   "execution_count": 1,
   "id": "0d5b3172",
   "metadata": {},
   "outputs": [
    {
     "name": "stdout",
     "output_type": "stream",
     "text": [
      "\u001b[31mSignature:\u001b[39m print(*args, sep=\u001b[33m' '\u001b[39m, end=\u001b[33m'\\n'\u001b[39m, file=\u001b[38;5;28;01mNone\u001b[39;00m, flush=\u001b[38;5;28;01mFalse\u001b[39;00m)\n",
      "\u001b[31mDocstring:\u001b[39m\n",
      "Prints the values to a stream, or to sys.stdout by default.\n",
      "\n",
      "sep\n",
      "  string inserted between values, default a space.\n",
      "end\n",
      "  string appended after the last value, default a newline.\n",
      "file\n",
      "  a file-like object (stream); defaults to the current sys.stdout.\n",
      "flush\n",
      "  whether to forcibly flush the stream.\n",
      "\u001b[31mType:\u001b[39m      builtin_function_or_method"
     ]
    }
   ],
   "source": [
    "print?"
   ]
  },
  {
   "cell_type": "code",
   "execution_count": 8,
   "id": "597948f1",
   "metadata": {},
   "outputs": [
    {
     "name": "stdout",
     "output_type": "stream",
     "text": [
      "\u001b[31mSignature:\u001b[39m add_numbers(a, b)\n",
      "\u001b[31mDocstring:\u001b[39m <no docstring>\n",
      "\u001b[31mFile:\u001b[39m      c:\\users\\kawor\\appdata\\local\\temp\\ipykernel_5320\\265547672.py\n",
      "\u001b[31mType:\u001b[39m      function"
     ]
    }
   ],
   "source": [
    "def add_numbers(a,b):\n",
    "    return a+b\n",
    "add_numbers?"
   ]
  },
  {
   "cell_type": "code",
   "execution_count": 9,
   "id": "3724c747",
   "metadata": {},
   "outputs": [
    {
     "name": "stdout",
     "output_type": "stream",
     "text": [
      "np.__loader__\n",
      "np.load\n",
      "np.loadtxt"
     ]
    }
   ],
   "source": [
    "np.*load*?"
   ]
  },
  {
   "cell_type": "code",
   "execution_count": 11,
   "id": "dfe0524a",
   "metadata": {},
   "outputs": [
    {
     "data": {
      "text/plain": [
       "['foo']"
      ]
     },
     "execution_count": 11,
     "metadata": {},
     "output_type": "execute_result"
    }
   ],
   "source": [
    "a = \"foo\"\n",
    "a.split()"
   ]
  },
  {
   "cell_type": "code",
   "execution_count": 14,
   "id": "4e1c4e4a",
   "metadata": {},
   "outputs": [
    {
     "data": {
      "text/plain": [
       "['', 'oo']"
      ]
     },
     "execution_count": 14,
     "metadata": {},
     "output_type": "execute_result"
    }
   ],
   "source": [
    "a.split(\"f\")"
   ]
  },
  {
   "cell_type": "code",
   "execution_count": 15,
   "id": "9b2d39d5",
   "metadata": {},
   "outputs": [
    {
     "data": {
      "text/plain": [
       "['', 'oo']"
      ]
     },
     "execution_count": 15,
     "metadata": {},
     "output_type": "execute_result"
    }
   ],
   "source": [
    "getattr(a,\"split\")(\"f\")"
   ]
  },
  {
   "cell_type": "code",
   "execution_count": 3,
   "id": "4cf79c66",
   "metadata": {},
   "outputs": [
    {
     "data": {
      "text/plain": [
       "True"
      ]
     },
     "execution_count": 3,
     "metadata": {},
     "output_type": "execute_result"
    }
   ],
   "source": [
    "def isiterbale(obj):\n",
    "    try:\n",
    "        iter(obj)\n",
    "        return True\n",
    "    except TypeError:\n",
    "        return False\n",
    "\n",
    "isiterbale(\"a string\")"
   ]
  },
  {
   "cell_type": "code",
   "execution_count": null,
   "id": "180816b1",
   "metadata": {},
   "outputs": [
    {
     "name": "stdout",
     "output_type": "stream",
     "text": [
      "これはaのテストのやつ\n",
      "None\n",
      "これはbのテストのやつ\n",
      "None\n"
     ]
    }
   ],
   "source": [
    "class a:\n",
    "    def test():\n",
    "        print(\"これはaのテストのやつ\")\n",
    "class b:\n",
    "    def test():\n",
    "        print(\"これはbのテストのやつ\")\n",
    "def c(obj):\n",
    "    obj.test()\n",
    "\n",
    "c(a)\n",
    "c(b)\n"
   ]
  },
  {
   "cell_type": "code",
   "execution_count": null,
   "id": "413f2e35",
   "metadata": {},
   "outputs": [],
   "source": []
  }
 ],
 "metadata": {
  "kernelspec": {
   "display_name": "ai-study",
   "language": "python",
   "name": "python3"
  },
  "language_info": {
   "codemirror_mode": {
    "name": "ipython",
    "version": 3
   },
   "file_extension": ".py",
   "mimetype": "text/x-python",
   "name": "python",
   "nbconvert_exporter": "python",
   "pygments_lexer": "ipython3",
   "version": "3.11.13"
  }
 },
 "nbformat": 4,
 "nbformat_minor": 5
}
